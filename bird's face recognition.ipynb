{
 "cells": [
  {
   "cell_type": "code",
   "execution_count": null,
   "id": "UldKrXODo8--",
   "metadata": {
    "colab": {
     "base_uri": "https://localhost:8080/"
    },
    "id": "UldKrXODo8--",
    "outputId": "f5f6d2cb-618a-465f-ed2d-cd3a3bc009d3"
   },
   "outputs": [
    {
     "name": "stdout",
     "output_type": "stream",
     "text": [
      "Mounted at /content/drive\n"
     ]
    }
   ],
   "source": [
    "# Load the data from gdrive\n",
    "\n",
    "from google.colab import drive\n",
    "drive.mount('/content/drive')"
   ]
  },
  {
   "cell_type": "code",
   "execution_count": null,
   "id": "NKEAlz0BBbuZ",
   "metadata": {
    "id": "NKEAlz0BBbuZ"
   },
   "outputs": [],
   "source": [
    "!unzip \"/content/drive/My Drive/project/data.zip\" -d \"/content\""
   ]
  },
  {
   "cell_type": "code",
   "execution_count": null,
   "id": "021ccc42",
   "metadata": {
    "id": "021ccc42"
   },
   "outputs": [],
   "source": [
    "import numpy as np\n",
    "import pandas as pd\n",
    "import tensorflow as tf\n",
    "from tensorflow import keras\n",
    "from keras import layers\n",
    "from keras.models import Sequential, Model\n",
    "from keras.layers import Input, Dense, Activation, Dropout\n",
    "from keras.layers import Flatten\n",
    "from keras.layers import Convolution2D, MaxPooling2D, AveragePooling2D, GlobalAveragePooling2D \n",
    "from keras.preprocessing.image import ImageDataGenerator\n",
    "# Imports for testing pretrained models\n",
    "from keras.applications.resnet import ResNet50\n",
    "from keras.applications.resnet import preprocess_input as ppi_resnet\n",
    "from keras.applications.vgg19 import VGG19\n",
    "from keras.applications.vgg19 import preprocess_input as ppi_vgg\n",
    "# Import metrics\n",
    "from sklearn.metrics import classification_report, confusion_matrix\n",
    "# Import plotting\n",
    "import seaborn as sns\n",
    "import matplotlib.pyplot as plt\n",
    "sns.set()\n",
    "\n",
    "\n",
    "import os"
   ]
  },
  {
   "cell_type": "code",
   "execution_count": null,
   "id": "Z60dKKm2DbZl",
   "metadata": {
    "colab": {
     "base_uri": "https://localhost:8080/"
    },
    "id": "Z60dKKm2DbZl",
    "outputId": "3c82bf35-132f-41f5-901a-761c22a42ebb"
   },
   "outputs": [
    {
     "name": "stdout",
     "output_type": "stream",
     "text": [
      "Found 2501 images belonging to 15 classes.\n",
      "Found 616 images belonging to 15 classes.\n"
     ]
    }
   ],
   "source": [
    "# Training pipeline with validation for parameter tuning\n",
    "\n",
    "train_datagen = ImageDataGenerator(rescale=1./255,\n",
    "    shear_range=0.1,\n",
    "    zoom_range=0.2,\n",
    "    rotation_range=30,\n",
    "    width_shift_range=0.3,\n",
    "    height_shift_range=0.3,\n",
    "    horizontal_flip=True,\n",
    "    validation_split=0.2) # set validation split\n",
    "\n",
    "train_generator = train_datagen.flow_from_directory(\n",
    "    'data/train',\n",
    "    target_size=(224,224),\n",
    "    batch_size=32,\n",
    "    class_mode='categorical',\n",
    "    subset='training') # set as training data\n",
    "\n",
    "val_generator = train_datagen.flow_from_directory(\n",
    "    'data/train', # same directory as training data\n",
    "    target_size=(224,224),\n",
    "    batch_size=32,\n",
    "    class_mode='categorical',\n",
    "    subset='validation')\n"
   ]
  },
  {
   "cell_type": "code",
   "execution_count": null,
   "id": "AkBcapUYuZ2_",
   "metadata": {
    "colab": {
     "base_uri": "https://localhost:8080/"
    },
    "id": "AkBcapUYuZ2_",
    "outputId": "dbf398b1-054d-48ba-c762-6d22238d85cc"
   },
   "outputs": [
    {
     "name": "stdout",
     "output_type": "stream",
     "text": [
      "Found 3117 images belonging to 15 classes.\n"
     ]
    }
   ],
   "source": [
    "# Training pipeline for training final model \n",
    "train_complete = ImageDataGenerator(rescale=1./255,\n",
    "    shear_range=0.1,\n",
    "    zoom_range=0.2,      \n",
    "    rotation_range=30,                 \n",
    "    width_shift_range=0.3,\n",
    "    height_shift_range=0.3,\n",
    "    horizontal_flip=True,)\n",
    "\n",
    "train_complete = train_complete.flow_from_directory(\n",
    "    'data/train',\n",
    "    target_size=(224,224),\n",
    "    batch_size=32,\n",
    "    class_mode='categorical')"
   ]
  },
  {
   "cell_type": "code",
   "execution_count": null,
   "id": "f383374a",
   "metadata": {
    "colab": {
     "base_uri": "https://localhost:8080/"
    },
    "id": "f383374a",
    "outputId": "6f291ed0-df3f-4875-f862-f2018a6eda6a"
   },
   "outputs": [
    {
     "name": "stdout",
     "output_type": "stream",
     "text": [
      "Model: \"sequential\"\n",
      "_________________________________________________________________\n",
      " Layer (type)                Output Shape              Param #   \n",
      "=================================================================\n",
      " conv2d (Conv2D)             (None, 222, 222, 16)      448       \n",
      "                                                                 \n",
      " max_pooling2d (MaxPooling2D  (None, 111, 111, 16)     0         \n",
      " )                                                               \n",
      "                                                                 \n",
      " conv2d_1 (Conv2D)           (None, 109, 109, 32)      4640      \n",
      "                                                                 \n",
      " max_pooling2d_1 (MaxPooling  (None, 54, 54, 32)       0         \n",
      " 2D)                                                             \n",
      "                                                                 \n",
      " conv2d_2 (Conv2D)           (None, 52, 52, 64)        18496     \n",
      "                                                                 \n",
      " max_pooling2d_2 (MaxPooling  (None, 26, 26, 64)       0         \n",
      " 2D)                                                             \n",
      "                                                                 \n",
      " flatten (Flatten)           (None, 43264)             0         \n",
      "                                                                 \n",
      " dense (Dense)               (None, 128)               5537920   \n",
      "                                                                 \n",
      " dense_1 (Dense)             (None, 15)                1935      \n",
      "                                                                 \n",
      "=================================================================\n",
      "Total params: 5,563,439\n",
      "Trainable params: 5,563,439\n",
      "Non-trainable params: 0\n",
      "_________________________________________________________________\n"
     ]
    }
   ],
   "source": [
    "num_classes = 15\n",
    "input_shape = (224, 224, 3)\n",
    "\n",
    "\n",
    "model = keras.Sequential()\n",
    "\n",
    "model.add(Dense(32, (3, 3, 3), input_dim=784))\n",
    "model.add(BatchNormalization())\n",
    "model.add(Activation('relu'))\n",
    "model.add(Dropout(0.5))\n",
    "\n",
    "# hidden layer    \n",
    "model.add(Dense(100))\n",
    "model.add(BatchNormalization())\n",
    "model.add(Activation('relu'))\n",
    "model.add(Dropout(0.5))\n",
    "\n",
    "# Second hidden layer\n",
    "model.add(Dense(100))\n",
    "model.add(BatchNormalization())\n",
    "model.add(Activation('relu'))\n",
    "model.add(Dropout(0.5))\n",
    "\n",
    "\n",
    "model.summary()"
   ]
  },
  {
   "cell_type": "code",
   "execution_count": null,
   "id": "b824d937",
   "metadata": {
    "id": "b824d937"
   },
   "outputs": [],
   "source": [
    "# Compilation - loss is categorical crossentropy, which is standard for multiclass classification\n",
    "model.compile(loss='categorical_crossentropy', optimizer=\"adam\", metrics=['accuracy'])"
   ]
  },
  {
   "cell_type": "code",
   "execution_count": null,
   "id": "3e73cc2e",
   "metadata": {
    "colab": {
     "base_uri": "https://localhost:8080/"
    },
    "id": "3e73cc2e",
    "outputId": "94713241-5c8e-435c-cfc7-d0595e7ddbcf"
   },
   "outputs": [
    {
     "name": "stdout",
     "output_type": "stream",
     "text": [
      "Epoch 1/25\n",
      "98/98 [==============================] - 45s 353ms/step - loss: 2.6285 - accuracy: 0.1328\n",
      "Epoch 2/25\n",
      "98/98 [==============================] - 34s 343ms/step - loss: 2.1635 - accuracy: 0.2913\n",
      "Epoch 3/25\n",
      "98/98 [==============================] - 34s 351ms/step - loss: 1.9363 - accuracy: 0.3677\n",
      "Epoch 4/25\n",
      "98/98 [==============================] - 35s 357ms/step - loss: 1.7672 - accuracy: 0.4267\n",
      "Epoch 5/25\n",
      "98/98 [==============================] - 33s 342ms/step - loss: 1.6725 - accuracy: 0.4700\n",
      "Epoch 6/25\n",
      "98/98 [==============================] - 35s 358ms/step - loss: 1.5231 - accuracy: 0.5133\n",
      "Epoch 7/25\n",
      "98/98 [==============================] - 34s 342ms/step - loss: 1.5163 - accuracy: 0.5236\n",
      "Epoch 8/25\n",
      "98/98 [==============================] - 35s 358ms/step - loss: 1.4032 - accuracy: 0.5605\n",
      "Epoch 9/25\n",
      "98/98 [==============================] - 34s 345ms/step - loss: 1.3689 - accuracy: 0.5688\n",
      "Epoch 10/25\n",
      "98/98 [==============================] - 34s 343ms/step - loss: 1.3127 - accuracy: 0.5845\n",
      "Epoch 11/25\n",
      "98/98 [==============================] - 35s 358ms/step - loss: 1.2152 - accuracy: 0.6185\n",
      "Epoch 12/25\n",
      "98/98 [==============================] - 34s 342ms/step - loss: 1.2043 - accuracy: 0.6134\n",
      "Epoch 13/25\n",
      "98/98 [==============================] - 35s 355ms/step - loss: 1.1701 - accuracy: 0.6317\n",
      "Epoch 14/25\n",
      "98/98 [==============================] - 34s 343ms/step - loss: 1.1406 - accuracy: 0.6349\n",
      "Epoch 15/25\n",
      "98/98 [==============================] - 34s 342ms/step - loss: 1.0919 - accuracy: 0.6538\n",
      "Epoch 16/25\n",
      "98/98 [==============================] - 35s 353ms/step - loss: 1.0438 - accuracy: 0.6814\n",
      "Epoch 17/25\n",
      "98/98 [==============================] - 33s 340ms/step - loss: 1.0403 - accuracy: 0.6728\n",
      "Epoch 18/25\n",
      "98/98 [==============================] - 35s 355ms/step - loss: 0.9979 - accuracy: 0.6965\n",
      "Epoch 19/25\n",
      "98/98 [==============================] - 33s 339ms/step - loss: 0.9977 - accuracy: 0.6923\n",
      "Epoch 20/25\n",
      "98/98 [==============================] - 35s 355ms/step - loss: 0.9222 - accuracy: 0.6978\n",
      "Epoch 21/25\n",
      "98/98 [==============================] - 34s 342ms/step - loss: 0.9023 - accuracy: 0.7138\n",
      "Epoch 22/25\n",
      "98/98 [==============================] - 33s 339ms/step - loss: 0.9120 - accuracy: 0.7106\n",
      "Epoch 23/25\n",
      "98/98 [==============================] - 35s 358ms/step - loss: 0.8911 - accuracy: 0.7196\n",
      "Epoch 24/25\n",
      "98/98 [==============================] - 34s 343ms/step - loss: 0.8650 - accuracy: 0.7427\n",
      "Epoch 25/25\n",
      "98/98 [==============================] - 35s 356ms/step - loss: 0.8227 - accuracy: 0.7433\n"
     ]
    },
    {
     "data": {
      "text/plain": [
       "<keras.callbacks.History at 0x7f514e3b3f50>"
      ]
     },
     "execution_count": 7,
     "metadata": {},
     "output_type": "execute_result"
    }
   ],
   "source": [
    "# For training with validation set (parameter tuning)\n",
    "\n",
    "# model.fit(train_generator,\n",
    "#           validation_data=val_generator,\n",
    "#           verbose=1,\n",
    "#           epochs=25)\n",
    "\n",
    "# For training on complete dataset\n",
    "model.fit(train_complete,\n",
    "          verbose=1,\n",
    "          epochs=25)"
   ]
  },
  {
   "cell_type": "code",
   "execution_count": null,
   "id": "8zerxRMbC6lb",
   "metadata": {
    "colab": {
     "base_uri": "https://localhost:8080/",
     "height": 355
    },
    "id": "8zerxRMbC6lb",
    "outputId": "e01b6dfc-b07d-45eb-bedb-53f7912ad5a2"
   },
   "outputs": [
    {
     "data": {
      "image/png": "[encoded data removed]",
      "text/plain": [
       "<Figure size 1080x360 with 1 Axes>"
      ]
     },
     "metadata": {},
     "output_type": "display_data"
    }
   ],
   "source": [
    "# Plot the learning curve (accuracy)\n",
    "import matplotlib.pyplot as plt\n",
    "plt.figure(figsize=(15,5))\n",
    "plt.plot(model.history.history['accuracy'])\n",
    "# plt.plot(model.history.history['val_accuracy']) # Trained on whole dataset - no validation set\n",
    "plt.title('Model accuracy')\n",
    "plt.ylabel('Accuracy')\n",
    "plt.xlabel('Epoch')\n",
    "plt.show()"
   ]
  },
  {
   "cell_type": "code",
   "execution_count": null,
   "id": "osH9g3R3mgue",
   "metadata": {
    "colab": {
     "base_uri": "https://localhost:8080/"
    },
    "id": "osH9g3R3mgue",
    "outputId": "084c5cb4-0604-40c9-afb7-2c3c8b1872b9"
   },
   "outputs": [
    {
     "name": "stdout",
     "output_type": "stream",
     "text": [
      "Found 75 images belonging to 15 classes.\n"
     ]
    }
   ],
   "source": [
    "# Create the testing data (rescale and target size must match training data)\n",
    "test_gen = ImageDataGenerator(rescale=1./255)\n",
    "test_gen = test_gen.flow_from_directory('data/valid', target_size=(224, 224), class_mode='categorical', shuffle=False)\n",
    "predictions = model.predict(test_gen)\n",
    "y_true = test_gen.labels\n",
    "y_pred = np.array([np.argmax(predictions[i]) for i in range(predictions.shape[0])])"
   ]
  },
  {
   "cell_type": "code",
   "execution_count": null,
   "id": "aN5lQ02wyIFU",
   "metadata": {
    "colab": {
     "base_uri": "https://localhost:8080/"
    },
    "id": "aN5lQ02wyIFU",
    "outputId": "1010f0bd-605a-44f1-efa4-e1f4bf87e7b7"
   },
   "outputs": [
    {
     "name": "stdout",
     "output_type": "stream",
     "text": [
      "[[5 0 0 0 0 0 0 0 0 0 0 0 0 0 0]\n",
      " [0 3 0 0 0 2 0 0 0 0 0 0 0 0 0]\n",
      " [0 0 4 0 0 1 0 0 0 0 0 0 0 0 0]\n",
      " [0 0 0 4 0 0 0 0 0 0 1 0 0 0 0]\n",
      " [0 0 0 0 3 0 0 0 0 0 0 0 0 2 0]\n",
      " [0 0 0 0 0 3 0 0 1 0 1 0 0 0 0]\n",
      " [0 0 0 1 0 0 3 0 0 0 1 0 0 0 0]\n",
      " [0 0 0 0 0 0 0 5 0 0 0 0 0 0 0]\n",
      " [0 0 0 0 0 0 0 0 5 0 0 0 0 0 0]\n",
      " [0 0 0 0 0 0 0 0 0 5 0 0 0 0 0]\n",
      " [0 0 0 1 0 0 0 0 0 0 4 0 0 0 0]\n",
      " [0 0 0 0 0 0 0 0 0 0 0 5 0 0 0]\n",
      " [0 0 0 0 0 0 0 0 0 0 0 0 5 0 0]\n",
      " [0 0 0 0 0 0 0 0 0 0 0 0 0 5 0]\n",
      " [0 0 0 0 0 0 0 0 0 0 0 0 0 0 5]]\n"
     ]
    }
   ],
   "source": [
    "# Print the confusion matrix and classification report\n",
    "from sklearn.metrics import classification_report, confusion_matrix\n",
    "print(confusion_matrix(y_true, y_pred))\n",
    "print(classification_report(y_true, y_pred))"
   ]
  },
  {
   "cell_type": "code",
   "execution_count": null,
   "id": "pe6v9jMk6z6D",
   "metadata": {
    "colab": {
     "base_uri": "https://localhost:8080/",
     "height": 491
    },
    "id": "pe6v9jMk6z6D",
    "outputId": "defc29bb-4879-46c0-a3a4-8544c1e79f1a"
   },
   "outputs": [
    {
     "data": {
      "image/png": "[encoded data removed]",
      "text/plain": [
       "<Figure size 864x576 with 1 Axes>"
      ]
     },
     "metadata": {},
     "output_type": "display_data"
    }
   ],
   "source": [
    "# Plot a visualization of the confusion matrix\n",
    "sns.set(rc={'figure.figsize':(12,8), 'figure.frameon':True})\n",
    "sns.heatmap(confusion_matrix(y_true, y_pred), annot=True, cmap='Blues_r', cbar=False, xticklabels=False, yticklabels=False)\n",
    "plt.title(\"Original Model Accuracy: 85%\", size=24)\n",
    "plt.show()"
   ]
  },
  {
   "cell_type": "code",
   "execution_count": 19,
   "id": "yGnzKst33G1a",
   "metadata": {
    "id": "yGnzKst33G1a"
   },
   "outputs": [],
   "source": [
    "# Save model to my drive\n",
    "model.save('drive/MyDrive/project/model.h5')"
   ]
  },
  {
   "cell_type": "code",
   "execution_count": null,
   "id": "EUIBeb7W3Ty7",
   "metadata": {
    "id": "EUIBeb7W3Ty7"
   },
   "outputs": [],
   "source": [
    "# Reload model\n",
    "model = tf.keras.models.load_model('drive/MyDrive/project/model.h5')"
   ]
  },
  {
   "cell_type": "code",
   "execution_count": null,
   "id": "7SDhELhmIOQx",
   "metadata": {
    "id": "7SDhELhmIOQx"
   },
   "outputs": [],
   "source": [
    "test_gen = ImageDataGenerator(rescale=1./255)\n",
    "holdout = test_gen.flow_from_directory('data/test', target_size=(224, 224), class_mode='categorical', shuffle=False)\n",
    "predictions = model.predict(holdout)\n",
    "y_true = holdout.labels\n",
    "y_pred = np.array([np.argmax(predictions[i]) for i in range(predictions.shape[0])])"
   ]
  },
  {
   "cell_type": "code",
   "execution_count": null,
   "id": "7LRi_AuaIM9W",
   "metadata": {
    "id": "7LRi_AuaIM9W"
   },
   "outputs": [],
   "source": [
    "print(confusion_matrix(y_true, y_pred))\n",
    "print(classification_report(y_true, y_pred))"
   ]
  },
  {
   "cell_type": "markdown",
   "id": "8SFKpi3LIj8W",
   "metadata": {
    "id": "8SFKpi3LIj8W"
   },
   "source": [
    "## Comparison with Transfer Learning Models\n",
    "\n",
    "In the following section we adapted code from [this](https://www.kaggle.com/code/dj67rockers/animal-classifier-99-validation-accuracy) Kaggle notebook to try tackling this problem with transfer learning. The base models are VGG19 and ResNet-50; they are both pre-trained on the imagenet dataset."
   ]
  },
  {
   "cell_type": "code",
   "execution_count": null,
   "id": "MZFkKjwQBEcy",
   "metadata": {
    "colab": {
     "base_uri": "https://localhost:8080/"
    },
    "id": "MZFkKjwQBEcy",
    "outputId": "587a0817-7c29-4b6f-eed9-a0aa40962783"
   },
   "outputs": [
    {
     "name": "stdout",
     "output_type": "stream",
     "text": [
      "Found 2501 images belonging to 15 classes.\n",
      "Found 616 images belonging to 15 classes.\n"
     ]
    }
   ],
   "source": [
    "# Data augmentation \n",
    "\n",
    "vgg_datagen = ImageDataGenerator(\n",
    "    rotation_range=20,\n",
    "    zoom_range=0.10,\n",
    "    brightness_range=[0.6,1.4],\n",
    "    channel_shift_range=0.7,\n",
    "    width_shift_range=0.15,\n",
    "    height_shift_range=0.15,\n",
    "    shear_range=0.15,\n",
    "    horizontal_flip=True,\n",
    "    fill_mode='nearest',\n",
    "    validation_split=.2,\n",
    "    preprocessing_function=ppi_vgg\n",
    ") \n",
    "\n",
    "train_generator_vgg = vgg_datagen.flow_from_directory(\n",
    "    directory='data/train',\n",
    "    target_size=(224, 224),\n",
    "    color_mode=\"rgb\",\n",
    "    batch_size=32,\n",
    "    class_mode=\"categorical\",\n",
    "    subset=\"training\",\n",
    "    shuffle=True,\n",
    ")\n",
    "val_generator_vgg = vgg_datagen.flow_from_directory(\n",
    "    directory='data/train',\n",
    "    target_size=(224, 224),\n",
    "    color_mode=\"rgb\",\n",
    "    batch_size=32,\n",
    "    class_mode=\"categorical\",\n",
    "    subset=\"validation\",\n",
    "    shuffle=True,\n",
    ")\n"
   ]
  },
  {
   "cell_type": "code",
   "execution_count": null,
   "id": "f0hbGP2xOWw5",
   "metadata": {
    "colab": {
     "base_uri": "https://localhost:8080/"
    },
    "id": "f0hbGP2xOWw5",
    "outputId": "f1f8d7c5-2e98-45a4-cf0c-a2208c491bcd"
   },
   "outputs": [
    {
     "name": "stdout",
     "output_type": "stream",
     "text": [
      "Found 75 images belonging to 15 classes.\n"
     ]
    }
   ],
   "source": [
    "# Test dataset - note, the same preprocessing must be applied\n",
    "\n",
    "test_gen = ImageDataGenerator(\n",
    "    preprocessing_function=ppi_vgg\n",
    "    )\n",
    "test_gen = test_gen.flow_from_directory('data/valid', target_size=(224, 224), class_mode='categorical', shuffle=False)"
   ]
  },
  {
   "cell_type": "code",
   "execution_count": null,
   "id": "zsFMRA39_63d",
   "metadata": {
    "colab": {
     "base_uri": "https://localhost:8080/"
    },
    "id": "zsFMRA39_63d",
    "outputId": "589a0efa-0c20-4751-b7ac-049af35e6376"
   },
   "outputs": [
    {
     "name": "stdout",
     "output_type": "stream",
     "text": [
      "Epoch 1/10\n",
      "79/79 - 48s - loss: 4.6873 - accuracy: 0.3758 - val_loss: 1.3260 - val_accuracy: 0.6981 - 48s/epoch - 605ms/step\n",
      "Epoch 2/10\n",
      "79/79 - 46s - loss: 0.6841 - accuracy: 0.8209 - val_loss: 0.7588 - val_accuracy: 0.8295 - 46s/epoch - 588ms/step\n",
      "Epoch 3/10\n",
      "79/79 - 47s - loss: 0.4130 - accuracy: 0.8904 - val_loss: 0.5050 - val_accuracy: 0.8880 - 47s/epoch - 600ms/step\n",
      "Epoch 4/10\n",
      "79/79 - 49s - loss: 0.2595 - accuracy: 0.9248 - val_loss: 0.4943 - val_accuracy: 0.8831 - 49s/epoch - 622ms/step\n",
      "Epoch 5/10\n",
      "79/79 - 48s - loss: 0.2154 - accuracy: 0.9420 - val_loss: 0.4041 - val_accuracy: 0.9123 - 48s/epoch - 604ms/step\n",
      "Epoch 6/10\n",
      "79/79 - 49s - loss: 0.1658 - accuracy: 0.9516 - val_loss: 0.3395 - val_accuracy: 0.9123 - 49s/epoch - 621ms/step\n",
      "Epoch 7/10\n",
      "79/79 - 48s - loss: 0.1163 - accuracy: 0.9680 - val_loss: 0.3784 - val_accuracy: 0.9091 - 48s/epoch - 601ms/step\n",
      "Epoch 8/10\n",
      "79/79 - 49s - loss: 0.1183 - accuracy: 0.9644 - val_loss: 0.2665 - val_accuracy: 0.9367 - 49s/epoch - 621ms/step\n",
      "Epoch 9/10\n",
      "79/79 - 48s - loss: 0.0841 - accuracy: 0.9760 - val_loss: 0.3228 - val_accuracy: 0.9205 - 48s/epoch - 603ms/step\n",
      "Epoch 10/10\n",
      "79/79 - 49s - loss: 0.0729 - accuracy: 0.9780 - val_loss: 0.3139 - val_accuracy: 0.9286 - 49s/epoch - 620ms/step\n"
     ]
    }
   ],
   "source": [
    "# Modelling VGG\n",
    "\n",
    "vgg19 = VGG19(include_top = False, input_shape = (224,224,3), weights = 'imagenet')\n",
    "for layer in vgg19.layers:\n",
    "    layer.trainable = False\n",
    "\n",
    "x = GlobalAveragePooling2D()(vgg19.output)\n",
    "predictions = Dense(15, activation='softmax')(x)\n",
    "\n",
    "model_vgg = Model(inputs = vgg19.input, outputs = predictions)\n",
    "model_vgg.compile(loss='categorical_crossentropy', optimizer=\"adam\", metrics=['accuracy'])\n",
    "\n",
    "history_vgg = model_vgg.fit(\n",
    "      train_generator_vgg,\n",
    "      validation_data=val_generator_vgg,\n",
    "      epochs=10,\n",
    "      verbose=2)\n"
   ]
  },
  {
   "cell_type": "code",
   "execution_count": null,
   "id": "2pXlvqUWSKa8",
   "metadata": {
    "colab": {
     "base_uri": "https://localhost:8080/"
    },
    "id": "2pXlvqUWSKa8",
    "outputId": "8dad729c-3ea6-4c8e-e9ca-c5e623f96d7f"
   },
   "outputs": [
    {
     "name": "stdout",
     "output_type": "stream",
     "text": [
      "[[5 0 0 0 0 0 0 0 0 0 0 0 0 0 0]\n",
      " [0 5 0 0 0 0 0 0 0 0 0 0 0 0 0]\n",
      " [0 1 4 0 0 0 0 0 0 0 0 0 0 0 0]\n",
      " [0 0 0 4 0 0 0 0 1 0 0 0 0 0 0]\n",
      " [0 0 0 0 5 0 0 0 0 0 0 0 0 0 0]\n",
      " [0 0 0 0 0 5 0 0 0 0 0 0 0 0 0]\n",
      " [0 0 0 0 0 0 5 0 0 0 0 0 0 0 0]\n",
      " [0 0 0 0 0 0 0 5 0 0 0 0 0 0 0]\n",
      " [0 0 0 0 0 0 0 0 5 0 0 0 0 0 0]\n",
      " [0 0 0 0 0 0 0 0 0 5 0 0 0 0 0]\n",
      " [0 0 0 0 0 0 0 0 0 0 5 0 0 0 0]\n",
      " [0 0 0 0 0 0 0 0 0 0 0 5 0 0 0]\n",
      " [0 0 0 0 0 0 0 0 0 0 0 0 5 0 0]\n",
      " [0 0 0 0 0 0 0 0 0 0 0 0 0 5 0]\n",
      " [0 0 0 0 0 0 0 0 0 0 0 0 0 0 5]]\n",
      "              precision    recall  f1-score   support\n",
      "\n",
      "           0       1.00      1.00      1.00         5\n",
      "           1       0.83      1.00      0.91         5\n",
      "           2       1.00      0.80      0.89         5\n",
      "           3       1.00      0.80      0.89         5\n",
      "           4       1.00      1.00      1.00         5\n",
      "           5       1.00      1.00      1.00         5\n",
      "           6       1.00      1.00      1.00         5\n",
      "           7       1.00      1.00      1.00         5\n",
      "           8       0.83      1.00      0.91         5\n",
      "           9       1.00      1.00      1.00         5\n",
      "          10       1.00      1.00      1.00         5\n",
      "          11       1.00      1.00      1.00         5\n",
      "          12       1.00      1.00      1.00         5\n",
      "          13       1.00      1.00      1.00         5\n",
      "          14       1.00      1.00      1.00         5\n",
      "\n",
      "    accuracy                           0.97        75\n",
      "   macro avg       0.98      0.97      0.97        75\n",
      "weighted avg       0.98      0.97      0.97        75\n",
      "\n"
     ]
    }
   ],
   "source": [
    "# Evaluation\n",
    "\n",
    "predictions = model_vgg.predict(test_gen)\n",
    "y_true = test_gen.labels\n",
    "y_pred = np.array([np.argmax(predictions[i]) for i in range(predictions.shape[0])])\n",
    "print(confusion_matrix(y_true, y_pred))\n",
    "print(classification_report(y_true, y_pred))"
   ]
  },
  {
   "cell_type": "code",
   "execution_count": null,
   "id": "v7_Qz8_lSnol",
   "metadata": {
    "colab": {
     "base_uri": "https://localhost:8080/",
     "height": 491
    },
    "id": "v7_Qz8_lSnol",
    "outputId": "63477da1-f923-43a0-9a5e-3918fa830798"
   },
   "outputs": [
    {
     "data": {
      "image/png": "[encoded data removed]",
      "text/plain": [
       "<Figure size 864x576 with 1 Axes>"
      ]
     },
     "metadata": {},
     "output_type": "display_data"
    }
   ],
   "source": [
    "# Plotting the confusion matrix\n",
    "sns.set(rc={'figure.figsize':(12,8)})\n",
    "sns.heatmap(confusion_matrix(y_true, y_pred), annot=True, cmap='Reds_r', cbar=False, xticklabels=False, yticklabels=False)\n",
    "plt.title(\"VGG19 Accuracy: 97%\", size=24)\n",
    "plt.show()"
   ]
  },
  {
   "cell_type": "code",
   "execution_count": null,
   "id": "mbH70iceBEIW",
   "metadata": {
    "colab": {
     "base_uri": "https://localhost:8080/"
    },
    "id": "mbH70iceBEIW",
    "outputId": "44164c39-b3cf-4768-f0a4-aed649e7b0d4"
   },
   "outputs": [
    {
     "name": "stdout",
     "output_type": "stream",
     "text": [
      "Found 2501 images belonging to 15 classes.\n",
      "Found 616 images belonging to 15 classes.\n"
     ]
    }
   ],
   "source": [
    "# ResNet50 data augmentation\n",
    "\n",
    "resnet50_datagen = ImageDataGenerator(\n",
    "    rotation_range=20,\n",
    "    zoom_range=0.10,\n",
    "    brightness_range=[0.6,1.4],\n",
    "    channel_shift_range=0.7,\n",
    "    width_shift_range=0.15,\n",
    "    height_shift_range=0.15,\n",
    "    shear_range=0.15,\n",
    "    horizontal_flip=True,\n",
    "    fill_mode='nearest',\n",
    "    validation_split=.2,\n",
    "    preprocessing_function=ppi_resnet\n",
    ") \n",
    "\n",
    "train_generator_resnet50 = resnet50_datagen.flow_from_directory(\n",
    "    directory='data/train',\n",
    "    target_size=(224, 224),\n",
    "    color_mode=\"rgb\",\n",
    "    batch_size=32,\n",
    "    class_mode=\"categorical\",\n",
    "    subset=\"training\",\n",
    "    shuffle=True,\n",
    ")\n",
    "val_generator_resnet50 = resnet50_datagen.flow_from_directory(\n",
    "    directory='data/train',\n",
    "    target_size=(224, 224),\n",
    "    color_mode=\"rgb\",\n",
    "    batch_size=32,\n",
    "    class_mode=\"categorical\",\n",
    "    subset=\"validation\",\n",
    "    shuffle=True,\n",
    ")\n"
   ]
  },
  {
   "cell_type": "code",
   "execution_count": null,
   "id": "HCxPH2AlN4bH",
   "metadata": {
    "colab": {
     "base_uri": "https://localhost:8080/"
    },
    "id": "HCxPH2AlN4bH",
    "outputId": "e104e354-fddf-4ee0-a3f4-61ed866d6749"
   },
   "outputs": [
    {
     "name": "stdout",
     "output_type": "stream",
     "text": [
      "Found 75 images belonging to 15 classes.\n"
     ]
    }
   ],
   "source": [
    "# Again - the same preprocessing function must be applied to the test set\n",
    "test_gen = ImageDataGenerator(\n",
    "    preprocessing_function=ppi_resnet\n",
    "    )\n",
    "test_gen = test_gen.flow_from_directory('data/valid', target_size=(224, 224), class_mode='categorical', shuffle=False)"
   ]
  },
  {
   "cell_type": "code",
   "execution_count": null,
   "id": "dFcRw_6wBEWD",
   "metadata": {
    "colab": {
     "base_uri": "https://localhost:8080/"
    },
    "id": "dFcRw_6wBEWD",
    "outputId": "f26e8702-e5e9-458b-edd5-5604084a50c3"
   },
   "outputs": [
    {
     "name": "stdout",
     "output_type": "stream",
     "text": [
      "Epoch 1/5\n",
      "79/79 - 55s - loss: 0.8016 - accuracy: 0.8057 - val_loss: 0.2275 - val_accuracy: 0.9610 - 55s/epoch - 697ms/step\n",
      "Epoch 2/5\n",
      "79/79 - 46s - loss: 0.1519 - accuracy: 0.9740 - val_loss: 0.1504 - val_accuracy: 0.9724 - 46s/epoch - 584ms/step\n",
      "Epoch 3/5\n",
      "79/79 - 48s - loss: 0.0893 - accuracy: 0.9868 - val_loss: 0.1298 - val_accuracy: 0.9724 - 48s/epoch - 608ms/step\n",
      "Epoch 4/5\n",
      "79/79 - 56s - loss: 0.0561 - accuracy: 0.9928 - val_loss: 0.1004 - val_accuracy: 0.9789 - 56s/epoch - 714ms/step\n",
      "Epoch 5/5\n",
      "79/79 - 58s - loss: 0.0476 - accuracy: 0.9928 - val_loss: 0.0945 - val_accuracy: 0.9756 - 58s/epoch - 733ms/step\n"
     ]
    }
   ],
   "source": [
    "# Modelling ResNet\n",
    "\n",
    "resnet50 = ResNet50(include_top = False, input_shape = (224,224,3), weights = 'imagenet')\n",
    "\n",
    "for layer in resnet50.layers:\n",
    "    layer.trainable = False\n",
    "\n",
    "x = GlobalAveragePooling2D()(resnet50.output)\n",
    "predictions = Dense(15, activation='softmax')(x)\n",
    "\n",
    "model_resnet50 = Model(inputs = resnet50.input, outputs = predictions)\n",
    "model_resnet50.compile(loss='categorical_crossentropy', optimizer=\"adam\", metrics=['accuracy'])\n",
    "\n",
    "history_resnet50 = model_resnet50.fit(\n",
    "      train_generator_resnet50,\n",
    "      validation_data=val_generator_resnet50,\n",
    "      epochs=5,\n",
    "      verbose=2)"
   ]
  },
  {
   "cell_type": "code",
   "execution_count": null,
   "id": "06HITEHBBD-Q",
   "metadata": {
    "colab": {
     "base_uri": "https://localhost:8080/"
    },
    "id": "06HITEHBBD-Q",
    "outputId": "6c315042-042b-4cf3-cf48-80a56585018d"
   },
   "outputs": [
    {
     "name": "stdout",
     "output_type": "stream",
     "text": [
      "318\n",
      "2\n"
     ]
    }
   ],
   "source": [
    "print(len(model_resnet50.non_trainable_weights))\n",
    "print(len(model_resnet50.trainable_weights))"
   ]
  },
  {
   "cell_type": "code",
   "execution_count": null,
   "id": "R0-2e_5BH61p",
   "metadata": {
    "colab": {
     "base_uri": "https://localhost:8080/"
    },
    "id": "R0-2e_5BH61p",
    "outputId": "ddeed468-2db1-4fd3-e7e5-55236a57735a"
   },
   "outputs": [
    {
     "name": "stdout",
     "output_type": "stream",
     "text": [
      "3/3 [==============================] - 0s 69ms/step - loss: 0.0267 - accuracy: 1.0000\n"
     ]
    },
    {
     "data": {
      "text/plain": [
       "[0.026738962158560753, 1.0]"
      ]
     },
     "execution_count": 92,
     "metadata": {},
     "output_type": "execute_result"
    }
   ],
   "source": [
    "model_resnet50.evaluate(test_gen)"
   ]
  },
  {
   "cell_type": "code",
   "execution_count": null,
   "id": "gsM1ncAYHomE",
   "metadata": {
    "colab": {
     "base_uri": "https://localhost:8080/"
    },
    "id": "gsM1ncAYHomE",
    "outputId": "3a538051-1833-4584-b544-b098544d7263"
   },
   "outputs": [
    {
     "data": {
      "text/plain": [
       "array([0.6741297 , 0.00418019, 0.00110465, 0.00573274, 0.00820623,\n",
       "       0.02937359, 0.00474436, 0.0039556 , 0.00613564, 0.00822356,\n",
       "       0.00089532, 0.00591588, 0.00251549, 0.23336178, 0.01152515],\n",
       "      dtype=float32)"
      ]
     },
     "execution_count": 84,
     "metadata": {},
     "output_type": "execute_result"
    }
   ],
   "source": [
    "predictions[5]"
   ]
  },
  {
   "cell_type": "code",
   "execution_count": null,
   "id": "bzUFF9gdBDyG",
   "metadata": {
    "colab": {
     "base_uri": "https://localhost:8080/"
    },
    "id": "bzUFF9gdBDyG",
    "outputId": "45aba957-9413-4218-f170-1ad5167b87aa"
   },
   "outputs": [
    {
     "name": "stdout",
     "output_type": "stream",
     "text": [
      "[[5 0 0 0 0 0 0 0 0 0 0 0 0 0 0]\n",
      " [0 5 0 0 0 0 0 0 0 0 0 0 0 0 0]\n",
      " [0 0 5 0 0 0 0 0 0 0 0 0 0 0 0]\n",
      " [0 0 0 5 0 0 0 0 0 0 0 0 0 0 0]\n",
      " [0 0 0 0 5 0 0 0 0 0 0 0 0 0 0]\n",
      " [0 0 0 0 0 5 0 0 0 0 0 0 0 0 0]\n",
      " [0 0 0 0 0 0 5 0 0 0 0 0 0 0 0]\n",
      " [0 0 0 0 0 0 0 5 0 0 0 0 0 0 0]\n",
      " [0 0 0 0 0 0 0 0 5 0 0 0 0 0 0]\n",
      " [0 0 0 0 0 0 0 0 0 5 0 0 0 0 0]\n",
      " [0 0 0 0 0 0 0 0 0 0 5 0 0 0 0]\n",
      " [0 0 0 0 0 0 0 0 0 0 0 5 0 0 0]\n",
      " [0 0 0 0 0 0 0 0 0 0 0 0 5 0 0]\n",
      " [0 0 0 0 0 0 0 0 0 0 0 0 0 5 0]\n",
      " [0 0 0 0 0 0 0 0 0 0 0 0 0 0 5]]\n",
      "              precision    recall  f1-score   support\n",
      "\n",
      "           0       1.00      1.00      1.00         5\n",
      "           1       1.00      1.00      1.00         5\n",
      "           2       1.00      1.00      1.00         5\n",
      "           3       1.00      1.00      1.00         5\n",
      "           4       1.00      1.00      1.00         5\n",
      "           5       1.00      1.00      1.00         5\n",
      "           6       1.00      1.00      1.00         5\n",
      "           7       1.00      1.00      1.00         5\n",
      "           8       1.00      1.00      1.00         5\n",
      "           9       1.00      1.00      1.00         5\n",
      "          10       1.00      1.00      1.00         5\n",
      "          11       1.00      1.00      1.00         5\n",
      "          12       1.00      1.00      1.00         5\n",
      "          13       1.00      1.00      1.00         5\n",
      "          14       1.00      1.00      1.00         5\n",
      "\n",
      "    accuracy                           1.00        75\n",
      "   macro avg       1.00      1.00      1.00        75\n",
      "weighted avg       1.00      1.00      1.00        75\n",
      "\n"
     ]
    }
   ],
   "source": [
    "predictions = model_resnet50.predict(test_gen)\n",
    "y_true = test_gen.labels\n",
    "y_pred = np.array([np.argmax(predictions[i]) for i in range(predictions.shape[0])])\n",
    "print(confusion_matrix(y_true, y_pred))\n",
    "print(classification_report(y_true, y_pred))"
   ]
  },
  {
   "cell_type": "code",
   "execution_count": null,
   "id": "vLTGn12MHhqQ",
   "metadata": {
    "colab": {
     "base_uri": "https://localhost:8080/",
     "height": 491
    },
    "id": "vLTGn12MHhqQ",
    "outputId": "6d592dd0-f213-4fc6-f26c-7e3f9562449c"
   },
   "outputs": [
    {
     "data": {
      "image/png": "[encoded data removed]",
      "text/plain": [
       "<Figure size 864x576 with 1 Axes>"
      ]
     },
     "metadata": {},
     "output_type": "display_data"
    }
   ],
   "source": [
    "sns.set(rc={'figure.figsize':(12,8)})\n",
    "sns.heatmap(confusion_matrix(y_true, y_pred), annot=True, cmap='Greens_r', cbar=False, xticklabels=False, yticklabels=False)\n",
    "plt.title(\"ResNet-50 Accuracy: 100%\", size=24)\n",
    "plt.show()"
   ]
  },
  {
   "cell_type": "code",
   "execution_count": null,
   "id": "XyCNynDvONvx",
   "metadata": {
    "id": "XyCNynDvONvx"
   },
   "outputs": [],
   "source": []
  }
 ],
 "metadata": {
  "colab": {
   "collapsed_sections": [],
   "name": "Copy of project4a.ipynb",
   "provenance": []
  },
  "gpuClass": "standard",
  "kernelspec": {
   "display_name": "Python 3",
   "language": "python",
   "name": "python3"
  },
  "language_info": {
   "codemirror_mode": {
    "name": "ipython",
    "version": 3
   },
   "file_extension": ".py",
   "mimetype": "text/x-python",
   "name": "python",
   "nbconvert_exporter": "python",
   "pygments_lexer": "ipython3",
   "version": "3.8.8"
  }
 },
 "nbformat": 4,
 "nbformat_minor": 5
}
