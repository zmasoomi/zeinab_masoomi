{
 "cells": [
  {
   "cell_type": "code",
   "execution_count": 1,
   "id": "cb48ea42",
   "metadata": {},
   "outputs": [],
   "source": [
    "import numpy as np\n",
    "import pandas as pd\n",
    "import tensorflow as tf\n",
    "from tensorflow import keras\n",
    "from keras import layers\n",
    "from keras.models import Sequential, Model\n",
    "from keras.layers import Input, Dense, Activation, Dropout, BatchNormalization\n",
    "from keras.layers import Flatten\n",
    "from keras.layers import Convolution2D, MaxPooling2D, AveragePooling2D, GlobalAveragePooling2D \n",
    "from keras.preprocessing.image import ImageDataGenerator\n",
    "# Imports for testing pretrained models\n",
    "from keras.applications.resnet import ResNet50\n",
    "from keras.applications.resnet import preprocess_input as ppi_resnet\n",
    "from keras.applications.vgg19 import VGG19\n",
    "from keras.applications.vgg19 import preprocess_input as ppi_vgg\n",
    "# Import metrics\n",
    "from sklearn.metrics import classification_report, confusion_matrix\n",
    "# Import plotting\n",
    "import seaborn as sns\n",
    "import matplotlib.pyplot as plt\n",
    "sns.set()\n",
    "\n",
    "\n",
    "from flask import Flask, jsonify, request\n",
    "from tensorflow.keras.models import load_model\n",
    "from tensorflow.keras.preprocessing import image\n",
    "\n",
    "\n",
    "\n",
    "import os"
   ]
  },
  {
   "cell_type": "code",
   "execution_count": 2,
   "id": "4728b865",
   "metadata": {},
   "outputs": [
    {
     "name": "stdout",
     "output_type": "stream",
     "text": [
      "Found 216 images belonging to 3 classes.\n",
      "Found 54 images belonging to 3 classes.\n"
     ]
    }
   ],
   "source": [
    "# ResNet50 data augmentation\n",
    "\n",
    "resnet50_datagen = ImageDataGenerator(\n",
    "    rotation_range=30,\n",
    "    zoom_range=0.10,\n",
    "    brightness_range=[0.6,1.4],\n",
    "    channel_shift_range=0.7,\n",
    "    width_shift_range=0.15,\n",
    "    height_shift_range=0.15,\n",
    "    shear_range=0.2,\n",
    "    horizontal_flip=True,\n",
    "    vertical_flip=True,\n",
    "    fill_mode='nearest',\n",
    "    validation_split=.2,\n",
    "    preprocessing_function=ppi_resnet\n",
    ") \n",
    "\n",
    "train_generator_resnet50 = resnet50_datagen.flow_from_directory(\n",
    "    directory='data/train',\n",
    "    target_size=(224, 224),\n",
    "    color_mode=\"rgb\",\n",
    "    batch_size=32,\n",
    "    class_mode=\"categorical\",\n",
    "    subset=\"training\",\n",
    "    shuffle=True,\n",
    ")\n",
    "val_generator_resnet50 = resnet50_datagen.flow_from_directory(\n",
    "    directory='data/train',\n",
    "    target_size=(224, 224),\n",
    "    color_mode=\"rgb\",\n",
    "    batch_size=32,\n",
    "    class_mode=\"categorical\",\n",
    "    subset=\"validation\",\n",
    "    shuffle=True,\n",
    ")\n",
    "\n"
   ]
  },
  {
   "cell_type": "code",
   "execution_count": 3,
   "id": "c3e053c8",
   "metadata": {},
   "outputs": [
    {
     "name": "stdout",
     "output_type": "stream",
     "text": [
      "Found 15 images belonging to 3 classes.\n"
     ]
    }
   ],
   "source": [
    "# Again - the same preprocessing function must be applied to the test set\n",
    "test_gen = ImageDataGenerator(\n",
    "    preprocessing_function=ppi_resnet\n",
    "    )\n",
    "test_gen = test_gen.flow_from_directory('data/valid', target_size=(224, 224), class_mode='categorical', shuffle=False)\n"
   ]
  },
  {
   "cell_type": "code",
   "execution_count": null,
   "id": "e966020b",
   "metadata": {},
   "outputs": [
    {
     "name": "stdout",
     "output_type": "stream",
     "text": [
      "Epoch 1/20\n",
      "7/7 - 32s - loss: 0.9692 - accuracy: 0.5509 - val_loss: 0.5658 - val_accuracy: 0.7778 - 32s/epoch - 5s/step\n",
      "Epoch 2/20\n",
      "7/7 - 26s - loss: 0.5217 - accuracy: 0.8102 - val_loss: 0.3428 - val_accuracy: 0.8889 - 26s/epoch - 4s/step\n",
      "Epoch 3/20\n",
      "7/7 - 28s - loss: 0.3357 - accuracy: 0.8796 - val_loss: 0.2464 - val_accuracy: 0.9259 - 28s/epoch - 4s/step\n",
      "Epoch 4/20\n",
      "7/7 - 26s - loss: 0.2936 - accuracy: 0.8981 - val_loss: 0.3332 - val_accuracy: 0.9074 - 26s/epoch - 4s/step\n",
      "Epoch 5/20\n",
      "7/7 - 25s - loss: 0.2385 - accuracy: 0.9259 - val_loss: 0.1502 - val_accuracy: 0.9630 - 25s/epoch - 4s/step\n",
      "Epoch 6/20\n",
      "7/7 - 24s - loss: 0.2200 - accuracy: 0.9213 - val_loss: 0.1898 - val_accuracy: 0.9444 - 24s/epoch - 3s/step\n",
      "Epoch 7/20\n",
      "7/7 - 24s - loss: 0.2013 - accuracy: 0.9213 - val_loss: 0.2709 - val_accuracy: 0.9074 - 24s/epoch - 3s/step\n",
      "Epoch 8/20\n",
      "7/7 - 24s - loss: 0.1959 - accuracy: 0.9398 - val_loss: 0.2504 - val_accuracy: 0.8889 - 24s/epoch - 3s/step\n",
      "Epoch 9/20\n",
      "7/7 - 25s - loss: 0.1704 - accuracy: 0.9491 - val_loss: 0.1331 - val_accuracy: 0.9444 - 25s/epoch - 4s/step\n",
      "Epoch 10/20\n",
      "7/7 - 27s - loss: 0.1491 - accuracy: 0.9676 - val_loss: 0.1641 - val_accuracy: 0.9444 - 27s/epoch - 4s/step\n",
      "Epoch 11/20\n",
      "7/7 - 25s - loss: 0.1454 - accuracy: 0.9583 - val_loss: 0.2015 - val_accuracy: 0.9259 - 25s/epoch - 4s/step\n",
      "Epoch 12/20\n",
      "7/7 - 25s - loss: 0.1186 - accuracy: 0.9583 - val_loss: 0.1259 - val_accuracy: 0.9630 - 25s/epoch - 4s/step\n",
      "Epoch 13/20\n",
      "7/7 - 26s - loss: 0.1168 - accuracy: 0.9676 - val_loss: 0.1747 - val_accuracy: 0.9630 - 26s/epoch - 4s/step\n",
      "Epoch 14/20\n",
      "7/7 - 26s - loss: 0.1020 - accuracy: 0.9815 - val_loss: 0.1721 - val_accuracy: 0.9074 - 26s/epoch - 4s/step\n",
      "Epoch 15/20\n",
      "7/7 - 26s - loss: 0.1025 - accuracy: 0.9769 - val_loss: 0.1433 - val_accuracy: 0.9259 - 26s/epoch - 4s/step\n",
      "Epoch 16/20\n",
      "7/7 - 25s - loss: 0.0809 - accuracy: 0.9861 - val_loss: 0.1260 - val_accuracy: 0.9444 - 25s/epoch - 4s/step\n",
      "Epoch 17/20\n",
      "7/7 - 25s - loss: 0.0752 - accuracy: 0.9907 - val_loss: 0.1601 - val_accuracy: 0.9444 - 25s/epoch - 4s/step\n",
      "Epoch 18/20\n"
     ]
    }
   ],
   "source": [
    "# Modelling ResNet\n",
    "\n",
    "resnet50 = ResNet50(include_top = False, input_shape = (224,224,3), weights = 'imagenet')\n",
    "\n",
    "for layer in resnet50.layers:\n",
    "    layer.trainable = False\n",
    "\n",
    "x = GlobalAveragePooling2D()(resnet50.output)\n",
    "predictions = Dense(3, activation='softmax')(x)\n",
    "loss_fn = tf.keras.losses.SparseCategoricalCrossentropy(from_logits=True)\n",
    "model_resnet50 = Model(inputs = resnet50.input, outputs = predictions)\n",
    "model_resnet50.compile(loss='categorical_crossentropy', optimizer=\"adam\", metrics=['accuracy'])\n",
    "\n",
    "callbacks=[tf.keras.callbacks.CSVLogger('history_resnet50.csv')]\n",
    "history_resnet50 = model_resnet50.fit(\n",
    "      train_generator_resnet50,\n",
    "      validation_data=val_generator_resnet50,\n",
    "      epochs=20,\n",
    "      verbose=2,\n",
    "      callbacks=callbacks)\n"
   ]
  },
  {
   "cell_type": "code",
   "execution_count": 5,
   "id": "0505185b",
   "metadata": {},
   "outputs": [
    {
     "name": "stdout",
     "output_type": "stream",
     "text": [
      "318\n",
      "2\n"
     ]
    }
   ],
   "source": [
    "print(len(model_resnet50.non_trainable_weights))\n",
    "print(len(model_resnet50.trainable_weights))"
   ]
  },
  {
   "cell_type": "code",
   "execution_count": 6,
   "id": "066288b9",
   "metadata": {},
   "outputs": [
    {
     "name": "stdout",
     "output_type": "stream",
     "text": [
      "1/1 [==============================] - 1s 1s/step - loss: 0.5300 - accuracy: 0.8000\n"
     ]
    },
    {
     "data": {
      "text/plain": [
       "[0.5299937725067139, 0.800000011920929]"
      ]
     },
     "execution_count": 6,
     "metadata": {},
     "output_type": "execute_result"
    }
   ],
   "source": [
    "model_resnet50.evaluate(test_gen)\n"
   ]
  },
  {
   "cell_type": "code",
   "execution_count": 7,
   "id": "90edc18f",
   "metadata": {},
   "outputs": [],
   "source": [
    "# Save model to my drive\n",
    "file_name = '../job project/history_resnet50.h5'\n",
    "config =model_resnet50.save(file_name)\n"
   ]
  },
  {
   "cell_type": "code",
   "execution_count": 8,
   "id": "1a07752e",
   "metadata": {},
   "outputs": [
    {
     "data": {
      "text/html": [
       "<div>\n",
       "<style scoped>\n",
       "    .dataframe tbody tr th:only-of-type {\n",
       "        vertical-align: middle;\n",
       "    }\n",
       "\n",
       "    .dataframe tbody tr th {\n",
       "        vertical-align: top;\n",
       "    }\n",
       "\n",
       "    .dataframe thead th {\n",
       "        text-align: right;\n",
       "    }\n",
       "</style>\n",
       "<table border=\"1\" class=\"dataframe\">\n",
       "  <thead>\n",
       "    <tr style=\"text-align: right;\">\n",
       "      <th></th>\n",
       "      <th>epoch</th>\n",
       "      <th>accuracy</th>\n",
       "      <th>loss</th>\n",
       "      <th>val_accuracy</th>\n",
       "      <th>val_loss</th>\n",
       "    </tr>\n",
       "  </thead>\n",
       "  <tbody>\n",
       "    <tr>\n",
       "      <th>0</th>\n",
       "      <td>0</td>\n",
       "      <td>0.513889</td>\n",
       "      <td>0.932700</td>\n",
       "      <td>0.888889</td>\n",
       "      <td>0.493553</td>\n",
       "    </tr>\n",
       "    <tr>\n",
       "      <th>1</th>\n",
       "      <td>1</td>\n",
       "      <td>0.847222</td>\n",
       "      <td>0.441155</td>\n",
       "      <td>0.944444</td>\n",
       "      <td>0.346873</td>\n",
       "    </tr>\n",
       "    <tr>\n",
       "      <th>2</th>\n",
       "      <td>2</td>\n",
       "      <td>0.888889</td>\n",
       "      <td>0.312864</td>\n",
       "      <td>0.925926</td>\n",
       "      <td>0.216111</td>\n",
       "    </tr>\n",
       "  </tbody>\n",
       "</table>\n",
       "</div>"
      ],
      "text/plain": [
       "   epoch  accuracy      loss  val_accuracy  val_loss\n",
       "0      0  0.513889  0.932700      0.888889  0.493553\n",
       "1      1  0.847222  0.441155      0.944444  0.346873\n",
       "2      2  0.888889  0.312864      0.925926  0.216111"
      ]
     },
     "execution_count": 8,
     "metadata": {},
     "output_type": "execute_result"
    }
   ],
   "source": [
    "model_history = pd.DataFrame()\n",
    "df = pd.read_csv('../job project/history_resnet50.csv')\n",
    "history_resnet50 = pd.concat([model_history, df] , axis=1)\n",
    "name = 'history_resnet50'\n",
    "history_resnet50.to_csv(name)\n",
    "model_history = pd.read_csv('../job project/history_resnet50.csv')\n",
    "model_history .head(3)\n"
   ]
  },
  {
   "cell_type": "code",
   "execution_count": 9,
   "id": "075b2cb5",
   "metadata": {},
   "outputs": [
    {
     "name": "stdout",
     "output_type": "stream",
     "text": [
      "1/1 [==============================] - 4s 4s/step\n",
      "[[5 0 0]\n",
      " [0 5 0]\n",
      " [3 0 2]]\n",
      "              precision    recall  f1-score   support\n",
      "\n",
      "           0       0.62      1.00      0.77         5\n",
      "           1       1.00      1.00      1.00         5\n",
      "           2       1.00      0.40      0.57         5\n",
      "\n",
      "    accuracy                           0.80        15\n",
      "   macro avg       0.88      0.80      0.78        15\n",
      "weighted avg       0.88      0.80      0.78        15\n",
      "\n"
     ]
    }
   ],
   "source": [
    "predictions = model_resnet50.predict(test_gen)\n",
    "y_true = test_gen.labels\n",
    "y_pred = np.array([np.argmax(predictions[i]) for i in range(predictions.shape[0])])\n",
    "print(confusion_matrix(y_true, y_pred))\n",
    "print(classification_report(y_true, y_pred))\n",
    "\n"
   ]
  },
  {
   "cell_type": "code",
   "execution_count": 10,
   "id": "0276d4f8",
   "metadata": {},
   "outputs": [
    {
     "data": {
      "image/png": "[encoded data removed]",
      "text/plain": [
       "<Figure size 576x576 with 1 Axes>"
      ]
     },
     "metadata": {},
     "output_type": "display_data"
    }
   ],
   "source": [
    "sns.set(rc={'figure.figsize':(8,8)})\n",
    "sns.heatmap(confusion_matrix(y_true, y_pred), annot=True, cmap='Greens_r', cbar=False, xticklabels=False, yticklabels=False)\n",
    "plt.title(\"ResNet-50 Accuracy: 100%\", size=24)\n",
    "plt.show()\n"
   ]
  },
  {
   "cell_type": "code",
   "execution_count": 11,
   "id": "e50377b7",
   "metadata": {},
   "outputs": [],
   "source": [
    "# Reload model\n",
    "model = tf.keras.models.load_model('history_resnet50.h5')\n"
   ]
  },
  {
   "cell_type": "code",
   "execution_count": 12,
   "id": "2840c4e1",
   "metadata": {},
   "outputs": [
    {
     "name": "stdout",
     "output_type": "stream",
     "text": [
      "Found 15 images belonging to 3 classes.\n",
      "1/1 [==============================] - 1s 1s/step\n"
     ]
    }
   ],
   "source": [
    "test_gen = ImageDataGenerator(rescale=1./255)\n",
    "holdout = test_gen.flow_from_directory('data/test', target_size=(224, 224), class_mode='categorical', shuffle=False)\n",
    "predictions = model.predict(holdout)\n",
    "y_true = holdout.labels\n",
    "y_pred = np.array([np.argmax(predictions[i]) for i in range(predictions.shape[0])])\n"
   ]
  },
  {
   "cell_type": "code",
   "execution_count": 14,
   "id": "44343bf0",
   "metadata": {},
   "outputs": [
    {
     "name": "stdout",
     "output_type": "stream",
     "text": [
      "[[1 4 0]\n",
      " [1 4 0]\n",
      " [0 5 0]]\n",
      "              precision    recall  f1-score   support\n",
      "\n",
      "           0       0.50      0.20      0.29         5\n",
      "           1       0.31      0.80      0.44         5\n",
      "           2       0.00      0.00      0.00         5\n",
      "\n",
      "    accuracy                           0.33        15\n",
      "   macro avg       0.27      0.33      0.24        15\n",
      "weighted avg       0.27      0.33      0.24        15\n",
      "\n"
     ]
    },
    {
     "name": "stderr",
     "output_type": "stream",
     "text": [
      "C:\\Users\\zmaso\\anaconda3\\lib\\site-packages\\sklearn\\metrics\\_classification.py:1327: UndefinedMetricWarning: Precision and F-score are ill-defined and being set to 0.0 in labels with no predicted samples. Use `zero_division` parameter to control this behavior.\n",
      "  _warn_prf(average, modifier, msg_start, len(result))\n",
      "C:\\Users\\zmaso\\anaconda3\\lib\\site-packages\\sklearn\\metrics\\_classification.py:1327: UndefinedMetricWarning: Precision and F-score are ill-defined and being set to 0.0 in labels with no predicted samples. Use `zero_division` parameter to control this behavior.\n",
      "  _warn_prf(average, modifier, msg_start, len(result))\n",
      "C:\\Users\\zmaso\\anaconda3\\lib\\site-packages\\sklearn\\metrics\\_classification.py:1327: UndefinedMetricWarning: Precision and F-score are ill-defined and being set to 0.0 in labels with no predicted samples. Use `zero_division` parameter to control this behavior.\n",
      "  _warn_prf(average, modifier, msg_start, len(result))\n"
     ]
    }
   ],
   "source": [
    "print(confusion_matrix(y_true, y_pred))\n",
    "print(classification_report(y_true, y_pred))"
   ]
  },
  {
   "cell_type": "code",
   "execution_count": 14,
   "id": "d85c0656",
   "metadata": {},
   "outputs": [],
   "source": [
    "# def predict_with_resnet50(image_path, model_path):\n",
    "#     # Load the trained model\n",
    "#     model = tf.keras.models.load_model(model_path)\n",
    "\n",
    "#     # Load and preprocess the input image\n",
    "#     image = tf.keras.preprocessing.image.load_img(image_path, target_size=(224, 224))\n",
    "#     image_array = tf.keras.preprocessing.image.img_to_array(image)\n",
    "#     image_array = np.expand_dims(image_array, axis=0)\n",
    "#     image_array /= 255.\n",
    "\n",
    "#     # Make predictions on the input image\n",
    "#     predictions = model.predict(image_array)\n",
    "\n",
    "#     # Return the predicted class probabilities\n",
    "#     return predictions"
   ]
  },
  {
   "cell_type": "code",
   "execution_count": 15,
   "id": "1dfae499",
   "metadata": {},
   "outputs": [],
   "source": [
    "# predictions = predict_with_resnet50('path/to/image.jpg', 'path/to/saved/model.h5')\n",
    "# predicted_class = np.argmax(predictions)"
   ]
  },
  {
   "cell_type": "code",
   "execution_count": null,
   "id": "d21135b1",
   "metadata": {},
   "outputs": [],
   "source": []
  }
 ],
 "metadata": {
  "kernelspec": {
   "display_name": "Python 3",
   "language": "python",
   "name": "python3"
  },
  "language_info": {
   "codemirror_mode": {
    "name": "ipython",
    "version": 3
   },
   "file_extension": ".py",
   "mimetype": "text/x-python",
   "name": "python",
   "nbconvert_exporter": "python",
   "pygments_lexer": "ipython3",
   "version": "3.8.8"
  }
 },
 "nbformat": 4,
 "nbformat_minor": 5
}
