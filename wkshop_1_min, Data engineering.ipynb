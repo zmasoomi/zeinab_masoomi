{
 "cells": [
  {
   "cell_type": "markdown",
   "metadata": {
    "id": "CghZwHslhPqI"
   },
   "source": [
    "# Regression - Engineering\n",
    "\n",
    "## Exercise 1: Tennis Surface Check\n",
    "\n",
    "Use a linear regression and statsmodels to find which surface type predicts the most points for Federer in the `tennis.csv` dataset.\n",
    "\n",
    "1. Give a one-paragraph interpretation of the coefficients, and the meaning of the p-value. \n",
    "\n",
    "2. Answer the following: should your regression include a constant term? Why or why not? How would it change the interpretation of your coefficient and p-value?\n",
    "\n",
    "3. Do a t-test to find that the largest coefficient is statistically significantly different from the second largest (hint: you can run a t-test only with mean values and standard deviations)"
   ]
  },
  {
   "cell_type": "code",
   "execution_count": 1258,
   "metadata": {},
   "outputs": [],
   "source": [
    "import numpy as np\n",
    "from math import sqrt\n",
    "from itertools import combinations\n",
    "import pandas as pd\n",
    "import matplotlib.pyplot as plt\n",
    "import seaborn as sns\n",
    "import scipy.stats as sc\n",
    "import statsmodels.api as sm\n",
    "import statsmodels.formula.api as smf\n",
    "import statsmodels.stats.diagnostic as smd\n",
    "import statsmodels.stats.outliers_influence as variance_inflation_factor\n",
    "from sklearn.linear_model import LinearRegression\n",
    "from sklearn.metrics import mean_squared_error, mean_absolute_error\n",
    "from sklearn.preprocessing import LabelEncoder, OneHotEncoder\n",
    "from sklearn.model_selection import train_test_split\n",
    "from sklearn.linear_model import LinearRegression\n",
    "from sklearn.preprocessing import MinMaxScaler\n",
    "from sklearn.linear_model import Ridge\n",
    "from sklearn.feature_selection import SelectKBest\n",
    "from sklearn.feature_selection import chi2"
   ]
  },
  {
   "cell_type": "code",
   "execution_count": 1149,
   "metadata": {
    "id": "6mX7z0SdhPqT"
   },
   "outputs": [
    {
     "data": {
      "text/html": [
       "<div>\n",
       "<style scoped>\n",
       "    .dataframe tbody tr th:only-of-type {\n",
       "        vertical-align: middle;\n",
       "    }\n",
       "\n",
       "    .dataframe tbody tr th {\n",
       "        vertical-align: top;\n",
       "    }\n",
       "\n",
       "    .dataframe thead th {\n",
       "        text-align: right;\n",
       "    }\n",
       "</style>\n",
       "<table border=\"1\" class=\"dataframe\">\n",
       "  <thead>\n",
       "    <tr style=\"text-align: right;\">\n",
       "      <th></th>\n",
       "      <th>year</th>\n",
       "      <th>tournament</th>\n",
       "      <th>start date</th>\n",
       "      <th>type</th>\n",
       "      <th>surface</th>\n",
       "      <th>draw</th>\n",
       "      <th>atp points</th>\n",
       "      <th>atp ranking</th>\n",
       "      <th>tournament prize money</th>\n",
       "      <th>round</th>\n",
       "      <th>opponent</th>\n",
       "      <th>ranking</th>\n",
       "      <th>score</th>\n",
       "      <th>stats link</th>\n",
       "      <th>tournament.1</th>\n",
       "      <th>tournament round</th>\n",
       "      <th>time</th>\n",
       "      <th>winner</th>\n",
       "      <th>player1 name</th>\n",
       "      <th>player1 nationality</th>\n",
       "    </tr>\n",
       "  </thead>\n",
       "  <tbody>\n",
       "    <tr>\n",
       "      <th>0</th>\n",
       "      <td>1998</td>\n",
       "      <td>Basel, Switzerland</td>\n",
       "      <td>1998-10-05</td>\n",
       "      <td>WS</td>\n",
       "      <td>Indoor: Hard</td>\n",
       "      <td>Draw: 32</td>\n",
       "      <td>1</td>\n",
       "      <td>396.0</td>\n",
       "      <td>$9,800</td>\n",
       "      <td>R32</td>\n",
       "      <td>Andre Agassi (USA)</td>\n",
       "      <td>8</td>\n",
       "      <td>L 3-6, 2-6</td>\n",
       "      <td>http://www.atpworldtour.com/Share/Match-Facts-...</td>\n",
       "      <td>Basel</td>\n",
       "      <td>R32</td>\n",
       "      <td>60</td>\n",
       "      <td>Andre Agassi</td>\n",
       "      <td>Roger Federer</td>\n",
       "      <td>Switzerland</td>\n",
       "    </tr>\n",
       "    <tr>\n",
       "      <th>1</th>\n",
       "      <td>1998</td>\n",
       "      <td>Toulouse, France</td>\n",
       "      <td>1998-09-28</td>\n",
       "      <td>WS</td>\n",
       "      <td>Indoor: Hard</td>\n",
       "      <td>Draw: 32</td>\n",
       "      <td>59</td>\n",
       "      <td>878.0</td>\n",
       "      <td>$10,800</td>\n",
       "      <td>R32</td>\n",
       "      <td>Guillaume Raoux (FRA)</td>\n",
       "      <td>45</td>\n",
       "      <td>W 6-2, 6-2</td>\n",
       "      <td>http://www.atpworldtour.com/Share/Match-Facts-...</td>\n",
       "      <td>Toulouse</td>\n",
       "      <td>R32</td>\n",
       "      <td>60</td>\n",
       "      <td>Roger Federer</td>\n",
       "      <td>Roger Federer</td>\n",
       "      <td>Switzerland</td>\n",
       "    </tr>\n",
       "    <tr>\n",
       "      <th>2</th>\n",
       "      <td>1998</td>\n",
       "      <td>Toulouse, France</td>\n",
       "      <td>1998-09-28</td>\n",
       "      <td>WS</td>\n",
       "      <td>Indoor: Hard</td>\n",
       "      <td>Draw: 32</td>\n",
       "      <td>59</td>\n",
       "      <td>878.0</td>\n",
       "      <td>$10,800</td>\n",
       "      <td>R16</td>\n",
       "      <td>Richard Fromberg (AUS)</td>\n",
       "      <td>43</td>\n",
       "      <td>W 6-1, 7-6(5)</td>\n",
       "      <td>http://www.atpworldtour.com/Share/Match-Facts-...</td>\n",
       "      <td>Toulouse</td>\n",
       "      <td>R16</td>\n",
       "      <td>85</td>\n",
       "      <td>Roger Federer</td>\n",
       "      <td>Roger Federer</td>\n",
       "      <td>Switzerland</td>\n",
       "    </tr>\n",
       "  </tbody>\n",
       "</table>\n",
       "</div>"
      ],
      "text/plain": [
       "   year          tournament  start date type       surface      draw  \\\n",
       "0  1998  Basel, Switzerland  1998-10-05   WS  Indoor: Hard  Draw: 32   \n",
       "1  1998    Toulouse, France  1998-09-28   WS  Indoor: Hard  Draw: 32   \n",
       "2  1998    Toulouse, France  1998-09-28   WS  Indoor: Hard  Draw: 32   \n",
       "\n",
       "  atp points  atp ranking tournament prize money round  \\\n",
       "0          1        396.0                 $9,800   R32   \n",
       "1         59        878.0                $10,800   R32   \n",
       "2         59        878.0                $10,800   R16   \n",
       "\n",
       "                 opponent ranking          score  \\\n",
       "0      Andre Agassi (USA)       8     L 3-6, 2-6   \n",
       "1   Guillaume Raoux (FRA)      45     W 6-2, 6-2   \n",
       "2  Richard Fromberg (AUS)      43  W 6-1, 7-6(5)   \n",
       "\n",
       "                                          stats link tournament.1  \\\n",
       "0  http://www.atpworldtour.com/Share/Match-Facts-...        Basel   \n",
       "1  http://www.atpworldtour.com/Share/Match-Facts-...     Toulouse   \n",
       "2  http://www.atpworldtour.com/Share/Match-Facts-...     Toulouse   \n",
       "\n",
       "  tournament round  time         winner   player1 name player1 nationality  \n",
       "0              R32    60   Andre Agassi  Roger Federer         Switzerland  \n",
       "1              R32    60  Roger Federer  Roger Federer         Switzerland  \n",
       "2              R16    85  Roger Federer  Roger Federer         Switzerland  "
      ]
     },
     "execution_count": 1149,
     "metadata": {},
     "output_type": "execute_result"
    }
   ],
   "source": [
    "# exercise 1\n",
    "data = pd.read_csv('../data/tennis.csv')\n",
    "dft = data.copy()\n",
    "dft.iloc[:,:20].head(3)"
   ]
  },
  {
   "cell_type": "code",
   "execution_count": 1150,
   "metadata": {},
   "outputs": [],
   "source": [
    "df = dft[['surface', 'player1 total points total']]\n",
    "df.columns = ['surface', 'Federe_total_points_total']\n",
    "#dft.columns"
   ]
  },
  {
   "cell_type": "code",
   "execution_count": 1151,
   "metadata": {},
   "outputs": [],
   "source": [
    "df = df.dropna()\n",
    "#df.info()"
   ]
  },
  {
   "cell_type": "code",
   "execution_count": 1152,
   "metadata": {},
   "outputs": [
    {
     "data": {
      "text/plain": [
       "array(['Indoor: Hard', 'Outdoor: Clay', 'Indoor: Carpet', 'Outdoor: Hard',\n",
       "       'Outdoor: Grass'], dtype=object)"
      ]
     },
     "execution_count": 1152,
     "metadata": {},
     "output_type": "execute_result"
    }
   ],
   "source": [
    "df.surface.unique()"
   ]
  },
  {
   "cell_type": "code",
   "execution_count": 1153,
   "metadata": {},
   "outputs": [
    {
     "data": {
      "text/html": [
       "<table class=\"simpletable\">\n",
       "<caption>OLS Regression Results</caption>\n",
       "<tr>\n",
       "  <th>Dep. Variable:</th>    <td>Federe_total_points_total</td> <th>  R-squared:         </th> <td>   0.035</td> \n",
       "</tr>\n",
       "<tr>\n",
       "  <th>Model:</th>                       <td>OLS</td>            <th>  Adj. R-squared:    </th> <td>   0.031</td> \n",
       "</tr>\n",
       "<tr>\n",
       "  <th>Method:</th>                 <td>Least Squares</td>       <th>  F-statistic:       </th> <td>   11.73</td> \n",
       "</tr>\n",
       "<tr>\n",
       "  <th>Date:</th>                 <td>Tue, 28 Jun 2022</td>      <th>  Prob (F-statistic):</th> <td>2.57e-09</td> \n",
       "</tr>\n",
       "<tr>\n",
       "  <th>Time:</th>                     <td>20:33:08</td>          <th>  Log-Likelihood:    </th> <td> -5580.5</td> \n",
       "</tr>\n",
       "<tr>\n",
       "  <th>No. Observations:</th>          <td>  1027</td>           <th>  AIC:               </th> <td>1.117e+04</td>\n",
       "</tr>\n",
       "<tr>\n",
       "  <th>Df Residuals:</th>              <td>  1022</td>           <th>  BIC:               </th> <td>1.120e+04</td>\n",
       "</tr>\n",
       "<tr>\n",
       "  <th>Df Model:</th>                  <td>     4</td>           <th>                     </th>     <td> </td>    \n",
       "</tr>\n",
       "<tr>\n",
       "  <th>Covariance Type:</th>             <td>HC2</td>            <th>                     </th>     <td> </td>    \n",
       "</tr>\n",
       "</table>\n",
       "<table class=\"simpletable\">\n",
       "<tr>\n",
       "         <td></td>           <th>coef</th>     <th>std err</th>      <th>z</th>      <th>P>|z|</th>  <th>[0.025</th>    <th>0.975]</th>  \n",
       "</tr>\n",
       "<tr>\n",
       "  <th>const</th>          <td>  159.1754</td> <td>    7.543</td> <td>   21.102</td> <td> 0.000</td> <td>  144.391</td> <td>  173.960</td>\n",
       "</tr>\n",
       "<tr>\n",
       "  <th>Indoor: Hard</th>   <td>  -16.3043</td> <td>    8.031</td> <td>   -2.030</td> <td> 0.042</td> <td>  -32.045</td> <td>   -0.563</td>\n",
       "</tr>\n",
       "<tr>\n",
       "  <th>Outdoor: Clay</th>  <td>    5.3477</td> <td>    8.579</td> <td>    0.623</td> <td> 0.533</td> <td>  -11.467</td> <td>   22.162</td>\n",
       "</tr>\n",
       "<tr>\n",
       "  <th>Outdoor: Grass</th> <td>   20.9306</td> <td>    9.639</td> <td>    2.171</td> <td> 0.030</td> <td>    2.038</td> <td>   39.824</td>\n",
       "</tr>\n",
       "<tr>\n",
       "  <th>Outdoor: Hard</th>  <td>    1.9577</td> <td>    7.997</td> <td>    0.245</td> <td> 0.807</td> <td>  -13.716</td> <td>   17.631</td>\n",
       "</tr>\n",
       "</table>\n",
       "<table class=\"simpletable\">\n",
       "<tr>\n",
       "  <th>Omnibus:</th>       <td>173.164</td> <th>  Durbin-Watson:     </th> <td>   1.716</td>\n",
       "</tr>\n",
       "<tr>\n",
       "  <th>Prob(Omnibus):</th> <td> 0.000</td>  <th>  Jarque-Bera (JB):  </th> <td> 305.990</td>\n",
       "</tr>\n",
       "<tr>\n",
       "  <th>Skew:</th>          <td> 1.040</td>  <th>  Prob(JB):          </th> <td>3.59e-67</td>\n",
       "</tr>\n",
       "<tr>\n",
       "  <th>Kurtosis:</th>      <td> 4.680</td>  <th>  Cond. No.          </th> <td>    11.0</td>\n",
       "</tr>\n",
       "</table><br/><br/>Notes:<br/>[1] Standard Errors are heteroscedasticity robust (HC2)"
      ],
      "text/plain": [
       "<class 'statsmodels.iolib.summary.Summary'>\n",
       "\"\"\"\n",
       "                                OLS Regression Results                               \n",
       "=====================================================================================\n",
       "Dep. Variable:     Federe_total_points_total   R-squared:                       0.035\n",
       "Model:                                   OLS   Adj. R-squared:                  0.031\n",
       "Method:                        Least Squares   F-statistic:                     11.73\n",
       "Date:                       Tue, 28 Jun 2022   Prob (F-statistic):           2.57e-09\n",
       "Time:                               20:33:08   Log-Likelihood:                -5580.5\n",
       "No. Observations:                       1027   AIC:                         1.117e+04\n",
       "Df Residuals:                           1022   BIC:                         1.120e+04\n",
       "Df Model:                                  4                                         \n",
       "Covariance Type:                         HC2                                         \n",
       "==================================================================================\n",
       "                     coef    std err          z      P>|z|      [0.025      0.975]\n",
       "----------------------------------------------------------------------------------\n",
       "const            159.1754      7.543     21.102      0.000     144.391     173.960\n",
       "Indoor: Hard     -16.3043      8.031     -2.030      0.042     -32.045      -0.563\n",
       "Outdoor: Clay      5.3477      8.579      0.623      0.533     -11.467      22.162\n",
       "Outdoor: Grass    20.9306      9.639      2.171      0.030       2.038      39.824\n",
       "Outdoor: Hard      1.9577      7.997      0.245      0.807     -13.716      17.631\n",
       "==============================================================================\n",
       "Omnibus:                      173.164   Durbin-Watson:                   1.716\n",
       "Prob(Omnibus):                  0.000   Jarque-Bera (JB):              305.990\n",
       "Skew:                           1.040   Prob(JB):                     3.59e-67\n",
       "Kurtosis:                       4.680   Cond. No.                         11.0\n",
       "==============================================================================\n",
       "\n",
       "Notes:\n",
       "[1] Standard Errors are heteroscedasticity robust (HC2)\n",
       "\"\"\""
      ]
     },
     "execution_count": 1153,
     "metadata": {},
     "output_type": "execute_result"
    }
   ],
   "source": [
    "yt = df['Federe_total_points_total']\n",
    "xt =pd.DataFrame(pd.get_dummies(df['surface'], drop_first=True))\n",
    "xt = sm.add_constant(xt)\n",
    "model_t = sm.OLS(yt, xt).fit(cov_type='HC2')\n",
    "#model_t = smf.ols(formula=('Federe_total_points_total ~ surface-1'),data = df).fit()\n",
    "model_t.summary()"
   ]
  },
  {
   "cell_type": "code",
   "execution_count": 1154,
   "metadata": {},
   "outputs": [
    {
     "data": {
      "text/plain": [
       "(43.31178428802826, 55.41446765217661)"
      ]
     },
     "execution_count": 1154,
     "metadata": {},
     "output_type": "execute_result"
    }
   ],
   "source": [
    "ypred = model_t.predict(xt)\n",
    "mean_absolute_error(yt, ypred), sqrt(mean_squared_error(yt, ypred))"
   ]
  },
  {
   "cell_type": "markdown",
   "metadata": {},
   "source": [
    "Use a linear regression and statsmodels to find which surface type predicts the most points for Federer in the tennis.csv dataset.\n",
    ">the Outdoor: Grass gave the best result to get the most scores for player.(coef:180.1)"
   ]
  },
  {
   "cell_type": "code",
   "execution_count": 1155,
   "metadata": {},
   "outputs": [
    {
     "data": {
      "text/plain": [
       "<AxesSubplot:xlabel='Federe_total_points_total', ylabel='Count'>"
      ]
     },
     "execution_count": 1155,
     "metadata": {},
     "output_type": "execute_result"
    },
    {
     "data": {
      "image/png": "[encoded data removed]",
      "text/plain": [
       "<Figure size 432x288 with 1 Axes>"
      ]
     },
     "metadata": {
      "needs_background": "light"
     },
     "output_type": "display_data"
    }
   ],
   "source": [
    "sns.histplot(yt)\n"
   ]
  },
  {
   "cell_type": "code",
   "execution_count": 1156,
   "metadata": {},
   "outputs": [
    {
     "name": "stderr",
     "output_type": "stream",
     "text": [
      "C:\\Users\\zmaso\\anaconda3\\lib\\site-packages\\seaborn\\_decorators.py:36: FutureWarning: Pass the following variables as keyword args: x, y. From version 0.12, the only valid positional argument will be `data`, and passing other arguments without an explicit keyword will result in an error or misinterpretation.\n",
      "  warnings.warn(\n"
     ]
    },
    {
     "data": {
      "image/png": "[encoded data removed]",
      "text/plain": [
       "<Figure size 432x288 with 1 Axes>"
      ]
     },
     "metadata": {
      "needs_background": "light"
     },
     "output_type": "display_data"
    }
   ],
   "source": [
    "#sns.boxplot(dft.surface, yt)#to see how varies the mean value and distributions on each kind of surface\n",
    "sns.barplot(dft.surface, yt)\n",
    "plt.xticks(rotation='45')\n",
    "plt.show()"
   ]
  },
  {
   "cell_type": "code",
   "execution_count": 1157,
   "metadata": {},
   "outputs": [
    {
     "name": "stderr",
     "output_type": "stream",
     "text": [
      "C:\\Users\\zmaso\\anaconda3\\lib\\site-packages\\seaborn\\_decorators.py:36: FutureWarning: Pass the following variables as keyword args: x, y. From version 0.12, the only valid positional argument will be `data`, and passing other arguments without an explicit keyword will result in an error or misinterpretation.\n",
      "  warnings.warn(\n"
     ]
    },
    {
     "data": {
      "image/png": "[encoded data removed]",
      "text/plain": [
       "<Figure size 432x288 with 1 Axes>"
      ]
     },
     "metadata": {
      "needs_background": "light"
     },
     "output_type": "display_data"
    }
   ],
   "source": [
    "\n",
    "sns.barplot(df.surface, ypred)#almost shows the same level of true scores\n",
    "plt.xticks(rotation='45')\n",
    "plt.show()"
   ]
  },
  {
   "cell_type": "code",
   "execution_count": 1158,
   "metadata": {},
   "outputs": [
    {
     "data": {
      "text/plain": [
       "Index(['const', 'Indoor: Hard', 'Outdoor: Clay', 'Outdoor: Grass',\n",
       "       'Outdoor: Hard'],\n",
       "      dtype='object')"
      ]
     },
     "execution_count": 1158,
     "metadata": {},
     "output_type": "execute_result"
    }
   ],
   "source": [
    "xt.columns"
   ]
  },
  {
   "cell_type": "code",
   "execution_count": 1159,
   "metadata": {},
   "outputs": [
    {
     "data": {
      "text/plain": [
       "(43.345852128373245, 55.43336440632084)"
      ]
     },
     "execution_count": 1159,
     "metadata": {},
     "output_type": "execute_result"
    }
   ],
   "source": [
    "yt = df['Federe_total_points_total']\n",
    "x1 = (pd.get_dummies(df['surface'], drop_first=True))\n",
    "xtt = x1[['Indoor: Hard', 'Outdoor: Grass' ]]\n",
    "xtt = sm.add_constant(xtt)\n",
    "model_tt = sm.OLS(yt, xtt).fit(cov_type='HC2')\n",
    "model_tt.summary()\n",
    "ypred2 = model_tt.predict(xtt)\n",
    "mean_absolute_error(yt, ypred2), sqrt(mean_squared_error(yt, ypred2))"
   ]
  },
  {
   "cell_type": "markdown",
   "metadata": {},
   "source": [
    "1)Give a one-paragraph interpretation of the coefficients, and the meaning of the p-value.\n",
    "\n",
    "          -There are statistically significant different mean values among the coefficients\n",
    "          -The grass outdoor has the latgest effect on  scoring thought the 'Indoor: Hard'\n",
    "          has the largrst effect on losing the score .\n",
    "          -Among the surface features, Indoor:Carpet has been remodved from the list due to multilinearity.\n",
    "          -The features: Outdorr:Clay and Outdoor:Hard have not statistically significant \n",
    "          difference in mean  value so it seems it had to better be removed from the features' list.\n",
    "          -Regarding the R-squered, it seems the goodness of fitting is not working well!!\n",
    "          -From Durbin,Watson, there is homoscedasticity."
   ]
  },
  {
   "cell_type": "markdown",
   "metadata": {},
   "source": [
    "3)Answer the following: should your regression include a constant term? Why or why not? \n",
    "How would it change the interpretation of your coefficient and p-value?\n",
    "\n",
    "          -By adding the constant term the R_squared decreased dramitically(0.03 to 0.8), \n",
    "          whearas the mean_absolute_error and mean_squared_error increased. Therefore, the constant term would be added."
   ]
  },
  {
   "cell_type": "markdown",
   "metadata": {},
   "source": [
    "3) Do a t-test to find that the largest coefficient is statistically\n",
    "\n",
    "significantly different from the second largest \n",
    "(hint: you can run a t-test only with mean values and standard deviations)"
   ]
  },
  {
   "cell_type": "code",
   "execution_count": 1160,
   "metadata": {},
   "outputs": [
    {
     "data": {
      "text/plain": [
       "Ttest_indResult(statistic=-6.235159193744308, pvalue=1.4064139933562834e-09)"
      ]
     },
     "execution_count": 1160,
     "metadata": {},
     "output_type": "execute_result"
    }
   ],
   "source": [
    "largest_Coef = df.loc[df.surface=='Outdoor: Grass']['Federe_total_points_total']\n",
    "sec_larg_coef = df.loc[df.surface=='Indoor: Hard']['Federe_total_points_total']\n",
    "sc.ttest_ind(sec_larg_coef,largest_Coef )\n",
    "#there is statistically signoficant difference on mean of two predictors.\n",
    "#it denotes also, there is reverse effect between two coefficients on scoring. "
   ]
  },
  {
   "cell_type": "markdown",
   "metadata": {
    "id": "69McCphghPqX"
   },
   "source": [
    "## Exercise 2: Titanic prediction contest\n",
    "\n",
    "Use whatever tricks you can to best model whether a passenger would survive the titanic disaster (using linear regression).\n",
    "\n",
    "1. Use non-regularized regression to build the best model you can. Show 2 alternate model speficications and explain why you chose the one you did\n",
    "\n",
    "2. Interpret the coefficients in your model. Which attributes best relate to survival probability? How does this relate to socio-economic characteristics and \"real-world\" interpretation?\n",
    "\n",
    "3. Use regularized regression to build a purely predictive model. Can you improve your accuracy? Plot the regularized model against the interpretable model predictions in a regression plot to make your case."
   ]
  },
  {
   "cell_type": "code",
   "execution_count": 1161,
   "metadata": {
    "id": "SuB38PpOhPqZ"
   },
   "outputs": [
    {
     "data": {
      "text/html": [
       "<div>\n",
       "<style scoped>\n",
       "    .dataframe tbody tr th:only-of-type {\n",
       "        vertical-align: middle;\n",
       "    }\n",
       "\n",
       "    .dataframe tbody tr th {\n",
       "        vertical-align: top;\n",
       "    }\n",
       "\n",
       "    .dataframe thead th {\n",
       "        text-align: right;\n",
       "    }\n",
       "</style>\n",
       "<table border=\"1\" class=\"dataframe\">\n",
       "  <thead>\n",
       "    <tr style=\"text-align: right;\">\n",
       "      <th></th>\n",
       "      <th>PassengerId</th>\n",
       "      <th>Survived</th>\n",
       "      <th>Pclass</th>\n",
       "      <th>Name</th>\n",
       "      <th>Sex</th>\n",
       "      <th>Age</th>\n",
       "      <th>SibSp</th>\n",
       "      <th>Parch</th>\n",
       "      <th>Ticket</th>\n",
       "      <th>Fare</th>\n",
       "      <th>Cabin</th>\n",
       "      <th>Embarked</th>\n",
       "    </tr>\n",
       "  </thead>\n",
       "  <tbody>\n",
       "    <tr>\n",
       "      <th>0</th>\n",
       "      <td>1</td>\n",
       "      <td>0.0</td>\n",
       "      <td>3</td>\n",
       "      <td>Braund, Mr. Owen Harris</td>\n",
       "      <td>male</td>\n",
       "      <td>22.0</td>\n",
       "      <td>1</td>\n",
       "      <td>0</td>\n",
       "      <td>A/5 21171</td>\n",
       "      <td>7.2500</td>\n",
       "      <td>NaN</td>\n",
       "      <td>S</td>\n",
       "    </tr>\n",
       "    <tr>\n",
       "      <th>1</th>\n",
       "      <td>2</td>\n",
       "      <td>1.0</td>\n",
       "      <td>1</td>\n",
       "      <td>Cumings, Mrs. John Bradley (Florence Briggs Th...</td>\n",
       "      <td>female</td>\n",
       "      <td>38.0</td>\n",
       "      <td>1</td>\n",
       "      <td>0</td>\n",
       "      <td>PC 17599</td>\n",
       "      <td>71.2833</td>\n",
       "      <td>C85</td>\n",
       "      <td>C</td>\n",
       "    </tr>\n",
       "    <tr>\n",
       "      <th>2</th>\n",
       "      <td>3</td>\n",
       "      <td>1.0</td>\n",
       "      <td>3</td>\n",
       "      <td>Heikkinen, Miss. Laina</td>\n",
       "      <td>female</td>\n",
       "      <td>26.0</td>\n",
       "      <td>0</td>\n",
       "      <td>0</td>\n",
       "      <td>STON/O2. 3101282</td>\n",
       "      <td>7.9250</td>\n",
       "      <td>NaN</td>\n",
       "      <td>S</td>\n",
       "    </tr>\n",
       "    <tr>\n",
       "      <th>3</th>\n",
       "      <td>4</td>\n",
       "      <td>1.0</td>\n",
       "      <td>1</td>\n",
       "      <td>Futrelle, Mrs. Jacques Heath (Lily May Peel)</td>\n",
       "      <td>female</td>\n",
       "      <td>35.0</td>\n",
       "      <td>1</td>\n",
       "      <td>0</td>\n",
       "      <td>113803</td>\n",
       "      <td>53.1000</td>\n",
       "      <td>C123</td>\n",
       "      <td>S</td>\n",
       "    </tr>\n",
       "    <tr>\n",
       "      <th>4</th>\n",
       "      <td>5</td>\n",
       "      <td>0.0</td>\n",
       "      <td>3</td>\n",
       "      <td>Allen, Mr. William Henry</td>\n",
       "      <td>male</td>\n",
       "      <td>35.0</td>\n",
       "      <td>0</td>\n",
       "      <td>0</td>\n",
       "      <td>373450</td>\n",
       "      <td>8.0500</td>\n",
       "      <td>NaN</td>\n",
       "      <td>S</td>\n",
       "    </tr>\n",
       "  </tbody>\n",
       "</table>\n",
       "</div>"
      ],
      "text/plain": [
       "   PassengerId  Survived  Pclass  \\\n",
       "0            1       0.0       3   \n",
       "1            2       1.0       1   \n",
       "2            3       1.0       3   \n",
       "3            4       1.0       1   \n",
       "4            5       0.0       3   \n",
       "\n",
       "                                                Name     Sex   Age  SibSp  \\\n",
       "0                            Braund, Mr. Owen Harris    male  22.0      1   \n",
       "1  Cumings, Mrs. John Bradley (Florence Briggs Th...  female  38.0      1   \n",
       "2                             Heikkinen, Miss. Laina  female  26.0      0   \n",
       "3       Futrelle, Mrs. Jacques Heath (Lily May Peel)  female  35.0      1   \n",
       "4                           Allen, Mr. William Henry    male  35.0      0   \n",
       "\n",
       "   Parch            Ticket     Fare Cabin Embarked  \n",
       "0      0         A/5 21171   7.2500   NaN        S  \n",
       "1      0          PC 17599  71.2833   C85        C  \n",
       "2      0  STON/O2. 3101282   7.9250   NaN        S  \n",
       "3      0            113803  53.1000  C123        S  \n",
       "4      0            373450   8.0500   NaN        S  "
      ]
     },
     "execution_count": 1161,
     "metadata": {},
     "output_type": "execute_result"
    }
   ],
   "source": [
    "# exercise 2\n",
    "data_tr = pd.read_csv('../data/train.csv')\n",
    "data_te = pd.read_csv('../data/test.csv')\n",
    "data_ti = pd.concat((data_tr, data_te), axis=0)\n",
    "df_t = data_ti.copy()\n",
    "df_t.head(5)"
   ]
  },
  {
   "cell_type": "code",
   "execution_count": 1162,
   "metadata": {},
   "outputs": [],
   "source": [
    "#df_t.columns"
   ]
  },
  {
   "cell_type": "code",
   "execution_count": 1163,
   "metadata": {},
   "outputs": [],
   "source": [
    "df1 = df_t.drop(['PassengerId', 'Name', 'Cabin', 'Ticket',], axis=1).dropna()\n",
    "#df1.head()"
   ]
  },
  {
   "cell_type": "code",
   "execution_count": 1164,
   "metadata": {},
   "outputs": [],
   "source": [
    "#df1.isna().sum()"
   ]
  },
  {
   "cell_type": "code",
   "execution_count": 1165,
   "metadata": {},
   "outputs": [],
   "source": [
    "#df1['Embarked']"
   ]
  },
  {
   "cell_type": "code",
   "execution_count": 1166,
   "metadata": {},
   "outputs": [],
   "source": [
    "df1.Survived = df1.Survived.astype(int)#convert to integer type\n",
    "df1.Sex = [1 if x=='male' else 0 for x in df1['Sex']]#to make binary\n",
    "le = LabelEncoder()#to make classifing in classe:1, 2, 3\n",
    "le.fit(['S', 'Q', 'C'])\n",
    "#le.classes_\n",
    "df1.Embarked = le.transform(df1.Embarked)\n",
    "#df1.info()\n"
   ]
  },
  {
   "cell_type": "code",
   "execution_count": 1167,
   "metadata": {},
   "outputs": [
    {
     "name": "stderr",
     "output_type": "stream",
     "text": [
      "C:\\Users\\zmaso\\anaconda3\\lib\\site-packages\\seaborn\\_decorators.py:36: FutureWarning: Pass the following variables as keyword args: x, y. From version 0.12, the only valid positional argument will be `data`, and passing other arguments without an explicit keyword will result in an error or misinterpretation.\n",
      "  warnings.warn(\n",
      "C:\\Users\\zmaso\\anaconda3\\lib\\site-packages\\seaborn\\_decorators.py:36: FutureWarning: Pass the following variables as keyword args: x, y. From version 0.12, the only valid positional argument will be `data`, and passing other arguments without an explicit keyword will result in an error or misinterpretation.\n",
      "  warnings.warn(\n",
      "C:\\Users\\zmaso\\anaconda3\\lib\\site-packages\\seaborn\\_decorators.py:36: FutureWarning: Pass the following variables as keyword args: x, y. From version 0.12, the only valid positional argument will be `data`, and passing other arguments without an explicit keyword will result in an error or misinterpretation.\n",
      "  warnings.warn(\n",
      "C:\\Users\\zmaso\\anaconda3\\lib\\site-packages\\seaborn\\_decorators.py:36: FutureWarning: Pass the following variables as keyword args: x, y. From version 0.12, the only valid positional argument will be `data`, and passing other arguments without an explicit keyword will result in an error or misinterpretation.\n",
      "  warnings.warn(\n",
      "C:\\Users\\zmaso\\anaconda3\\lib\\site-packages\\seaborn\\_decorators.py:36: FutureWarning: Pass the following variables as keyword args: x, y. From version 0.12, the only valid positional argument will be `data`, and passing other arguments without an explicit keyword will result in an error or misinterpretation.\n",
      "  warnings.warn(\n"
     ]
    },
    {
     "data": {
      "text/plain": [
       "<AxesSubplot:xlabel='Age', ylabel='Fare'>"
      ]
     },
     "execution_count": 1167,
     "metadata": {},
     "output_type": "execute_result"
    },
    {
     "data": {
      "image/png": "[encoded data removed]",
      "text/plain": [
       "<Figure size 720x720 with 6 Axes>"
      ]
     },
     "metadata": {
      "needs_background": "light"
     },
     "output_type": "display_data"
    }
   ],
   "source": [
    "fig, axs = plt.subplots(3, 2, figsize=(10, 10))\n",
    "sns.barplot(df1.Embarked, df1.Survived,  hue='Sex', data=df1,ax=axs[0, 0])\n",
    "#sns.barplot(df1.Sex, df1.Survived, ax=axs[0, 1])#the gender effect on surviving\n",
    "sns.barplot(df1.SibSp, df1.Survived, ax=axs[1, 0])#the number of sibbling aboard on surviving rate\n",
    "sns.barplot(df1.Parch, df1.Survived, ax=axs[1, 1])#the effect od parent and children aboard on surviving\n",
    "sns.barplot(df1.Pclass, df1.Survived, hue='Sex', data=df1, ax=axs[0, 1])\n",
    "sns.scatterplot(df1.Age, df1.Fare, hue='Sex', data=df1, ax=axs[2, 0])\n"
   ]
  },
  {
   "cell_type": "code",
   "execution_count": 1168,
   "metadata": {},
   "outputs": [],
   "source": [
    "#df1.columns"
   ]
  },
  {
   "cell_type": "code",
   "execution_count": 1169,
   "metadata": {},
   "outputs": [],
   "source": [
    "y = df1.Survived#target value\n",
    "x = df1[['Pclass', 'Sex', 'Age', 'SibSp', 'Parch', 'Fare','Embarked']]#explanatories variables"
   ]
  },
  {
   "cell_type": "code",
   "execution_count": 1170,
   "metadata": {},
   "outputs": [],
   "source": [
    "def linear_regression(x, y): #difine the function aas pipeline to do linearregression to model easier and faster\n",
    "    x_train, x_test, y_train, y_test = train_test_split(x, y, test_size=0.3)#to devide the data to train and test parts\n",
    "    model = LinearRegression()#make object from the regressor\n",
    "    model.fit(x_train, y_train)#fit on linear regression\n",
    "    ypred = model.predict(x_test)#predict the target value throught the test data\n",
    "    print(\"medel's Accuracy(linear Regressioon): Score:\", model.score(x_test, y_test),#to return the accuracy of fitted model in order to compare\n",
    "                \"mean error:\", mean_absolute_error(y_test, ypred),\n",
    "                \"mean square error:\", sqrt(mean_squared_error(y_test, ypred)))\n",
    "    sns.distplot(model.predict(x_test))\n",
    "    coef = model.coef_\n",
    "    x.columns\n",
    "    return list(zip(x.columns , coef))"
   ]
  },
  {
   "cell_type": "code",
   "execution_count": 1171,
   "metadata": {},
   "outputs": [
    {
     "name": "stdout",
     "output_type": "stream",
     "text": [
      "medel's Accuracy(linear Regressioon): Score: 0.44801927804079344 mean error: 0.28889765826308356 mean square error: 0.36730042732749113\n"
     ]
    },
    {
     "name": "stderr",
     "output_type": "stream",
     "text": [
      "C:\\Users\\zmaso\\anaconda3\\lib\\site-packages\\seaborn\\distributions.py:2557: FutureWarning: `distplot` is a deprecated function and will be removed in a future version. Please adapt your code to use either `displot` (a figure-level function with similar flexibility) or `histplot` (an axes-level function for histograms).\n",
      "  warnings.warn(msg, FutureWarning)\n"
     ]
    },
    {
     "data": {
      "text/plain": [
       "[('Pclass', -0.1902910654206933),\n",
       " ('Sex', -0.46307788204956896),\n",
       " ('Age', -0.0062188474520318135),\n",
       " ('SibSp', -0.03959089719809216),\n",
       " ('Parch', -0.016041129351982108),\n",
       " ('Fare', 0.0003609898692614401),\n",
       " ('Embarked', -0.01864004780946154)]"
      ]
     },
     "execution_count": 1171,
     "metadata": {},
     "output_type": "execute_result"
    },
    {
     "data": {
      "image/png": "[encoded data removed]",
      "text/plain": [
       "<Figure size 432x288 with 1 Axes>"
      ]
     },
     "metadata": {
      "needs_background": "light"
     },
     "output_type": "display_data"
    }
   ],
   "source": [
    "linear_regression(x, y)#to use the function for regrssion"
   ]
  },
  {
   "cell_type": "code",
   "execution_count": 1172,
   "metadata": {},
   "outputs": [
    {
     "data": {
      "text/plain": [
       "<AxesSubplot:>"
      ]
     },
     "execution_count": 1172,
     "metadata": {},
     "output_type": "execute_result"
    },
    {
     "data": {
      "image/png": "[encoded data removed]",
      "text/plain": [
       "<Figure size 432x288 with 2 Axes>"
      ]
     },
     "metadata": {
      "needs_background": "light"
     },
     "output_type": "display_data"
    }
   ],
   "source": [
    "sns.heatmap(df1.corr(), annot=True)#to find the correlation for interaction variables"
   ]
  },
  {
   "cell_type": "code",
   "execution_count": 1173,
   "metadata": {},
   "outputs": [],
   "source": [
    "#def reg_ols(x, y):\n",
    "    #x2=sm.add_constant(x)\n",
    "    #est = sm.OLS(y, x2)\n",
    "    #ypred_ols = est.predict(x2)\n",
    "   # return print(\"medel's Accuracy(OLS):\"\n",
    "      #\"mean error:\", mean_absolute_error(y, ypred_ols),\n",
    "      #\"mean square error:\", sqrt(mean_squared_error(y, ypred_ols)))\n",
    "        \n",
    "#reg_ols(x, y)"
   ]
  },
  {
   "cell_type": "code",
   "execution_count": 1174,
   "metadata": {},
   "outputs": [
    {
     "data": {
      "text/html": [
       "<table class=\"simpletable\">\n",
       "<caption>OLS Regression Results</caption>\n",
       "<tr>\n",
       "  <th>Dep. Variable:</th>        <td>Survived</td>     <th>  R-squared:         </th> <td>   0.400</td> \n",
       "</tr>\n",
       "<tr>\n",
       "  <th>Model:</th>                   <td>OLS</td>       <th>  Adj. R-squared:    </th> <td>   0.394</td> \n",
       "</tr>\n",
       "<tr>\n",
       "  <th>Method:</th>             <td>Least Squares</td>  <th>  F-statistic:       </th> <td>   115.1</td> \n",
       "</tr>\n",
       "<tr>\n",
       "  <th>Date:</th>             <td>Tue, 28 Jun 2022</td> <th>  Prob (F-statistic):</th> <td>3.48e-112</td>\n",
       "</tr>\n",
       "<tr>\n",
       "  <th>Time:</th>                 <td>20:33:13</td>     <th>  Log-Likelihood:    </th> <td> -321.43</td> \n",
       "</tr>\n",
       "<tr>\n",
       "  <th>No. Observations:</th>      <td>   712</td>      <th>  AIC:               </th> <td>   658.9</td> \n",
       "</tr>\n",
       "<tr>\n",
       "  <th>Df Residuals:</th>          <td>   704</td>      <th>  BIC:               </th> <td>   695.4</td> \n",
       "</tr>\n",
       "<tr>\n",
       "  <th>Df Model:</th>              <td>     7</td>      <th>                     </th>     <td> </td>    \n",
       "</tr>\n",
       "<tr>\n",
       "  <th>Covariance Type:</th>         <td>HC2</td>       <th>                     </th>     <td> </td>    \n",
       "</tr>\n",
       "</table>\n",
       "<table class=\"simpletable\">\n",
       "<tr>\n",
       "      <td></td>         <th>coef</th>     <th>std err</th>      <th>z</th>      <th>P>|z|</th>  <th>[0.025</th>    <th>0.975]</th>  \n",
       "</tr>\n",
       "<tr>\n",
       "  <th>Intercept</th> <td>    1.4026</td> <td>    0.077</td> <td>   18.280</td> <td> 0.000</td> <td>    1.252</td> <td>    1.553</td>\n",
       "</tr>\n",
       "<tr>\n",
       "  <th>Sex</th>       <td>   -0.4842</td> <td>    0.034</td> <td>  -14.290</td> <td> 0.000</td> <td>   -0.551</td> <td>   -0.418</td>\n",
       "</tr>\n",
       "<tr>\n",
       "  <th>Age</th>       <td>   -0.0065</td> <td>    0.001</td> <td>   -5.494</td> <td> 0.000</td> <td>   -0.009</td> <td>   -0.004</td>\n",
       "</tr>\n",
       "<tr>\n",
       "  <th>Pclass</th>    <td>   -0.1903</td> <td>    0.024</td> <td>   -7.938</td> <td> 0.000</td> <td>   -0.237</td> <td>   -0.143</td>\n",
       "</tr>\n",
       "<tr>\n",
       "  <th>Fare</th>      <td>    0.0002</td> <td>    0.000</td> <td>    0.635</td> <td> 0.526</td> <td>   -0.000</td> <td>    0.001</td>\n",
       "</tr>\n",
       "<tr>\n",
       "  <th>Embarked</th>  <td>   -0.0298</td> <td>    0.020</td> <td>   -1.493</td> <td> 0.135</td> <td>   -0.069</td> <td>    0.009</td>\n",
       "</tr>\n",
       "<tr>\n",
       "  <th>Parch</th>     <td>   -0.0102</td> <td>    0.020</td> <td>   -0.513</td> <td> 0.608</td> <td>   -0.049</td> <td>    0.029</td>\n",
       "</tr>\n",
       "<tr>\n",
       "  <th>SibSp</th>     <td>   -0.0519</td> <td>    0.016</td> <td>   -3.165</td> <td> 0.002</td> <td>   -0.084</td> <td>   -0.020</td>\n",
       "</tr>\n",
       "</table>\n",
       "<table class=\"simpletable\">\n",
       "<tr>\n",
       "  <th>Omnibus:</th>       <td>25.995</td> <th>  Durbin-Watson:     </th> <td>   1.848</td>\n",
       "</tr>\n",
       "<tr>\n",
       "  <th>Prob(Omnibus):</th> <td> 0.000</td> <th>  Jarque-Bera (JB):  </th> <td>  28.157</td>\n",
       "</tr>\n",
       "<tr>\n",
       "  <th>Skew:</th>          <td> 0.487</td> <th>  Prob(JB):          </th> <td>7.69e-07</td>\n",
       "</tr>\n",
       "<tr>\n",
       "  <th>Kurtosis:</th>      <td> 3.027</td> <th>  Cond. No.          </th> <td>    386.</td>\n",
       "</tr>\n",
       "</table><br/><br/>Notes:<br/>[1] Standard Errors are heteroscedasticity robust (HC2)"
      ],
      "text/plain": [
       "<class 'statsmodels.iolib.summary.Summary'>\n",
       "\"\"\"\n",
       "                            OLS Regression Results                            \n",
       "==============================================================================\n",
       "Dep. Variable:               Survived   R-squared:                       0.400\n",
       "Model:                            OLS   Adj. R-squared:                  0.394\n",
       "Method:                 Least Squares   F-statistic:                     115.1\n",
       "Date:                Tue, 28 Jun 2022   Prob (F-statistic):          3.48e-112\n",
       "Time:                        20:33:13   Log-Likelihood:                -321.43\n",
       "No. Observations:                 712   AIC:                             658.9\n",
       "Df Residuals:                     704   BIC:                             695.4\n",
       "Df Model:                           7                                         \n",
       "Covariance Type:                  HC2                                         \n",
       "==============================================================================\n",
       "                 coef    std err          z      P>|z|      [0.025      0.975]\n",
       "------------------------------------------------------------------------------\n",
       "Intercept      1.4026      0.077     18.280      0.000       1.252       1.553\n",
       "Sex           -0.4842      0.034    -14.290      0.000      -0.551      -0.418\n",
       "Age           -0.0065      0.001     -5.494      0.000      -0.009      -0.004\n",
       "Pclass        -0.1903      0.024     -7.938      0.000      -0.237      -0.143\n",
       "Fare           0.0002      0.000      0.635      0.526      -0.000       0.001\n",
       "Embarked      -0.0298      0.020     -1.493      0.135      -0.069       0.009\n",
       "Parch         -0.0102      0.020     -0.513      0.608      -0.049       0.029\n",
       "SibSp         -0.0519      0.016     -3.165      0.002      -0.084      -0.020\n",
       "==============================================================================\n",
       "Omnibus:                       25.995   Durbin-Watson:                   1.848\n",
       "Prob(Omnibus):                  0.000   Jarque-Bera (JB):               28.157\n",
       "Skew:                           0.487   Prob(JB):                     7.69e-07\n",
       "Kurtosis:                       3.027   Cond. No.                         386.\n",
       "==============================================================================\n",
       "\n",
       "Notes:\n",
       "[1] Standard Errors are heteroscedasticity robust (HC2)\n",
       "\"\"\""
      ]
     },
     "execution_count": 1174,
     "metadata": {},
     "output_type": "execute_result"
    }
   ],
   "source": [
    "#fitt on smf.ols as regressor for categorial data\n",
    "y = df1.Survived#target value\n",
    "x = df1[['Pclass', 'Sex', 'Age', 'SibSp', 'Parch', 'Fare','Embarked']]#explanatories variables\n",
    "model_t = smf.ols(formula = ('Survived ~ Sex + Age + Pclass + Fare + Embarked + Parch + SibSp'), data=df1).fit(cov_type='HC2') #fitting model\n",
    "model_t.summary()"
   ]
  },
  {
   "cell_type": "code",
   "execution_count": 1175,
   "metadata": {},
   "outputs": [
    {
     "name": "stdout",
     "output_type": "stream",
     "text": [
      "medel's Accuracy(OLS):mean error: 0.2966066755152604 mean square error: 0.3800367359774265\n"
     ]
    }
   ],
   "source": [
    "ypred_ols = model_t.predict(x)#predicting target value according to fitted model and list of features\n",
    "print(\"medel's Accuracy(OLS):\"\n",
    "      \"mean error:\", mean_absolute_error(y, ypred_ols),\n",
    "      \"mean square error:\", sqrt(mean_squared_error(y, ypred_ols)))"
   ]
  },
  {
   "cell_type": "code",
   "execution_count": 1176,
   "metadata": {},
   "outputs": [
    {
     "name": "stdout",
     "output_type": "stream",
     "text": [
      "medel's Accuracy(linear Regressioon): Score: 0.3847526080923017 mean error: 0.29477903791304366 mean square error: 0.3794971423903221\n"
     ]
    },
    {
     "name": "stderr",
     "output_type": "stream",
     "text": [
      "C:\\Users\\zmaso\\anaconda3\\lib\\site-packages\\seaborn\\distributions.py:2557: FutureWarning: `distplot` is a deprecated function and will be removed in a future version. Please adapt your code to use either `displot` (a figure-level function with similar flexibility) or `histplot` (an axes-level function for histograms).\n",
      "  warnings.warn(msg, FutureWarning)\n"
     ]
    },
    {
     "data": {
      "text/plain": [
       "[('Pclass', -0.20217244340152127),\n",
       " ('Sex', -0.4972209964162514),\n",
       " ('Age', -0.007037182800828363),\n",
       " ('SibSp', -0.05751920360973418)]"
      ]
     },
     "execution_count": 1176,
     "metadata": {},
     "output_type": "execute_result"
    },
    {
     "data": {
      "image/png": "[encoded data removed]",
      "text/plain": [
       "<Figure size 432x288 with 1 Axes>"
      ]
     },
     "metadata": {
      "needs_background": "light"
     },
     "output_type": "display_data"
    }
   ],
   "source": [
    "y = df1.Survived#target value\n",
    "x2 = df1[['Pclass', 'Sex', 'Age', 'SibSp']]\n",
    "linear_regression(x2, y)"
   ]
  },
  {
   "cell_type": "markdown",
   "metadata": {},
   "source": [
    "        Firstly, visualization has been done to choose the predictors.\n",
    "        Between two types of regression(OLS , Linear) LinearRegression denotes \n",
    "        the better result according to alittle bit higher mean square error.\n",
    "        then regarding the linear regression's result and OLS's result,\n",
    "        few variables have been omitted from the feature list due to thier higher pvalue.\n",
    "        Therefore the mean square value and absolut mean error increases versus the score decreased.\n",
    "        Still there is not the best fitting as shown on predicted targel value distribution which is not completely normal.\n",
    "        Overall, 'sex', 'Pclass' have predicted almost 40% correctly\n",
    "        the key factors towards the titanic rescue decision. \n",
    "     "
   ]
  },
  {
   "cell_type": "code",
   "execution_count": 1177,
   "metadata": {},
   "outputs": [],
   "source": [
    "#y = df1.Survived#target value\n",
    "#x2 = df1[['Pclass', 'Sex', 'Age', 'SibSp']]#explanatories variables deudected because of thier pvalue>>0.05\n",
    "#model_t2 = smf.ols(formula = ('Survived ~ Sex + Age + Pclass + SibSp'), data=df1).fit()\n",
    "#model_t2.summary()"
   ]
  },
  {
   "cell_type": "code",
   "execution_count": 1178,
   "metadata": {},
   "outputs": [],
   "source": [
    "#ypred_OLS = model_t2.predict(x2)#neww prediction for new shorter list of features\n",
    "#print(\"medel's Accuracy(OLS):\"\n",
    "      #\"mean error:\", mean_absolute_error(y, ypred_OLS),\n",
    "      #\"mean square error:\", sqrt(mean_squared_error(y, ypred_OLS)))"
   ]
  },
  {
   "cell_type": "markdown",
   "metadata": {},
   "source": [
    "Regilarizationn"
   ]
  },
  {
   "cell_type": "code",
   "execution_count": 1179,
   "metadata": {},
   "outputs": [],
   "source": [
    "df1['sib_Parch'] = (df1.SibSp + df1.Parch)\n",
    "scaler = MinMaxScaler()#normalizing fare and age columns\n",
    "scaler.fit(df1[['Age', 'Fare']])\n",
    "df1[['age', 'fare']] = scaler.transform(df1[['Age', 'Fare']])\n",
    "df1['class_Sex'] = (df1.Pclass ** (df1.Sex + 1)) * df1.age #adding square and cubic terms\n",
    "df1.fare = pd.concat((df1.fare, df1.fare**2, df1.fare**3), axis=1)\n",
    "#df1.head()"
   ]
  },
  {
   "cell_type": "code",
   "execution_count": 1180,
   "metadata": {},
   "outputs": [
    {
     "data": {
      "text/html": [
       "<div>\n",
       "<style scoped>\n",
       "    .dataframe tbody tr th:only-of-type {\n",
       "        vertical-align: middle;\n",
       "    }\n",
       "\n",
       "    .dataframe tbody tr th {\n",
       "        vertical-align: top;\n",
       "    }\n",
       "\n",
       "    .dataframe thead th {\n",
       "        text-align: right;\n",
       "    }\n",
       "</style>\n",
       "<table border=\"1\" class=\"dataframe\">\n",
       "  <thead>\n",
       "    <tr style=\"text-align: right;\">\n",
       "      <th></th>\n",
       "      <th>Survived</th>\n",
       "      <th>Embarked</th>\n",
       "      <th>sib_Parch</th>\n",
       "      <th>age</th>\n",
       "      <th>fare</th>\n",
       "      <th>class_Sex</th>\n",
       "    </tr>\n",
       "  </thead>\n",
       "  <tbody>\n",
       "    <tr>\n",
       "      <th>0</th>\n",
       "      <td>0</td>\n",
       "      <td>2</td>\n",
       "      <td>1</td>\n",
       "      <td>0.271174</td>\n",
       "      <td>0.014151</td>\n",
       "      <td>2.440563</td>\n",
       "    </tr>\n",
       "    <tr>\n",
       "      <th>1</th>\n",
       "      <td>1</td>\n",
       "      <td>0</td>\n",
       "      <td>1</td>\n",
       "      <td>0.472229</td>\n",
       "      <td>0.139136</td>\n",
       "      <td>0.472229</td>\n",
       "    </tr>\n",
       "    <tr>\n",
       "      <th>2</th>\n",
       "      <td>1</td>\n",
       "      <td>2</td>\n",
       "      <td>0</td>\n",
       "      <td>0.321438</td>\n",
       "      <td>0.015469</td>\n",
       "      <td>0.964313</td>\n",
       "    </tr>\n",
       "    <tr>\n",
       "      <th>3</th>\n",
       "      <td>1</td>\n",
       "      <td>2</td>\n",
       "      <td>1</td>\n",
       "      <td>0.434531</td>\n",
       "      <td>0.103644</td>\n",
       "      <td>0.434531</td>\n",
       "    </tr>\n",
       "    <tr>\n",
       "      <th>4</th>\n",
       "      <td>0</td>\n",
       "      <td>2</td>\n",
       "      <td>0</td>\n",
       "      <td>0.434531</td>\n",
       "      <td>0.015713</td>\n",
       "      <td>3.910782</td>\n",
       "    </tr>\n",
       "  </tbody>\n",
       "</table>\n",
       "</div>"
      ],
      "text/plain": [
       "   Survived  Embarked  sib_Parch       age      fare  class_Sex\n",
       "0         0         2          1  0.271174  0.014151   2.440563\n",
       "1         1         0          1  0.472229  0.139136   0.472229\n",
       "2         1         2          0  0.321438  0.015469   0.964313\n",
       "3         1         2          1  0.434531  0.103644   0.434531\n",
       "4         0         2          0  0.434531  0.015713   3.910782"
      ]
     },
     "execution_count": 1180,
     "metadata": {},
     "output_type": "execute_result"
    }
   ],
   "source": [
    "df2 = df1.drop(['Pclass', 'Sex', 'Age', 'SibSp', 'Parch', 'Fare'], axis=1 )\n",
    "df2.head()"
   ]
  },
  {
   "cell_type": "code",
   "execution_count": 1181,
   "metadata": {},
   "outputs": [
    {
     "data": {
      "text/plain": [
       "Index(['Survived', 'Embarked', 'sib_Parch', 'age', 'fare', 'class_Sex'], dtype='object')"
      ]
     },
     "execution_count": 1181,
     "metadata": {},
     "output_type": "execute_result"
    }
   ],
   "source": [
    "df2.columns"
   ]
  },
  {
   "cell_type": "code",
   "execution_count": 1182,
   "metadata": {},
   "outputs": [
    {
     "name": "stdout",
     "output_type": "stream",
     "text": [
      "medel's Accuracy(linear Regressioon): Score: 0.2305198364755493 mean error: 0.38441311263757016 mean square error: 0.42742471911961877\n"
     ]
    },
    {
     "name": "stderr",
     "output_type": "stream",
     "text": [
      "C:\\Users\\zmaso\\anaconda3\\lib\\site-packages\\seaborn\\distributions.py:2557: FutureWarning: `distplot` is a deprecated function and will be removed in a future version. Please adapt your code to use either `displot` (a figure-level function with similar flexibility) or `histplot` (an axes-level function for histograms).\n",
      "  warnings.warn(msg, FutureWarning)\n"
     ]
    },
    {
     "data": {
      "text/plain": [
       "[('Embarked', -0.023558310502911625),\n",
       " ('sib_Parch', -0.0270514403607751),\n",
       " ('age', -0.10053427280080204),\n",
       " ('fare', 0.48908851953063176),\n",
       " ('class_Sex', -0.14901647782337735)]"
      ]
     },
     "execution_count": 1182,
     "metadata": {},
     "output_type": "execute_result"
    },
    {
     "data": {
      "image/png": "[encoded data removed]",
      "text/plain": [
       "<Figure size 432x288 with 1 Axes>"
      ]
     },
     "metadata": {
      "needs_background": "light"
     },
     "output_type": "display_data"
    }
   ],
   "source": [
    "y_new = df2.Survived# target value with normalization and polynomial correction\n",
    "x_new = df2[['Embarked', 'sib_Parch', 'age', 'fare', 'class_Sex']]\n",
    "linear_regression(x_new, y_new)"
   ]
  },
  {
   "cell_type": "code",
   "execution_count": 1317,
   "metadata": {},
   "outputs": [],
   "source": [
    "def Lasso_regression(x, y, alpha): #difine the function aas pipeline to do linearregression to model easier and faster\n",
    "    x_train, x_test, y_train, y_test = train_test_split(x, y, test_size=0.3)#to devide the data to train and test parts\n",
    "    ridge = Ridge(alpha=alpha)#make object from the regressor\n",
    "    ridge.fit(x_train, y_train)#fit on linear regression\n",
    "    ypred = ridge.predict(x_test)#predict the target value throught the test data\n",
    "    sns.distplot(ridge.predict(x_test))\n",
    "\n",
    "    return print(\"medel's Accuracy(linear Regressioon): Score:\", ridge.score(x_test, y_test),#to return the accuracy of fitted model in order to compare\n",
    "                \"mean error:\", mean_absolute_error(y_test, ypred),\n",
    "                \"mean squared error:\", sqrt(mean_squared_error(y_test, ypred)))"
   ]
  },
  {
   "cell_type": "code",
   "execution_count": 1318,
   "metadata": {},
   "outputs": [
    {
     "name": "stdout",
     "output_type": "stream",
     "text": [
      "medel's Accuracy(linear Regressioon): Score: 0.2228094073144753 mean error: 0.39942821954329866 mean squared error: 0.43845660261148445\n"
     ]
    },
    {
     "name": "stderr",
     "output_type": "stream",
     "text": [
      "C:\\Users\\zmaso\\anaconda3\\lib\\site-packages\\seaborn\\distributions.py:2557: FutureWarning: `distplot` is a deprecated function and will be removed in a future version. Please adapt your code to use either `displot` (a figure-level function with similar flexibility) or `histplot` (an axes-level function for histograms).\n",
      "  warnings.warn(msg, FutureWarning)\n"
     ]
    },
    {
     "data": {
      "image/png": "[encoded data removed]",
      "text/plain": [
       "<Figure size 432x288 with 1 Axes>"
      ]
     },
     "metadata": {
      "needs_background": "light"
     },
     "output_type": "display_data"
    }
   ],
   "source": [
    "Lasso_regression(x_new, y_new, alpha=0.4)  #l2 fitting"
   ]
  },
  {
   "cell_type": "markdown",
   "metadata": {},
   "source": [
    "          After regularization with polynimial, minmaxscaler and some decreasing interaction of variabels, \n",
    "          the dsitribution of predicted target value goes to have more normal-like distribution.\n",
    "          in linear regression the kurtosis is more than L2 regularization and\n",
    "          also there is negatively skewed distribution in linear regression improved in L2 regularization.\n",
    "          It means that the number of survived people in L2 is going to be closer to mode and median,\n",
    "          on the orher word, survivor would be more.\n",
    "          "
   ]
  },
  {
   "cell_type": "markdown",
   "metadata": {
    "id": "GFrSundahPqc"
   },
   "source": [
    "## Exercise 3: House Price prediction\n",
    "\n",
    "Using the techniques you learned, use everything you can to build the best **interpretable** (eg. non-regularized) regression model on the `house_price.csv` dataset. You also have `house_price_data_description.txt` to help -- full description of each column.\n",
    "\n",
    "Here's a brief version of what you'll find in the data description file.\n",
    "\n",
    "**SalePrice** - the property's sale price in dollars. **This is the target variable that you're trying to predict.**\n",
    "\n",
    "Here are the features you can use (or engineer into new features!) for your `X` matrix:\n",
    "\n",
    "    +MSSubClass: The building class\n",
    "    +MSZoning: The general zoning classification\n",
    "    LotFrontage: Linear feet of street connected to property\n",
    "    LotArea: Lot size in square feet\n",
    "    Street: Type of road access\n",
    "    Alley: Type of alley access\n",
    "    LotShape: General shape of property\n",
    "    +LandContour: Flatness of the property\n",
    "    Utilities: Type of utilities available\n",
    "    LotConfig: Lot configuration\n",
    "    +LandSlope: Slope of property\n",
    "    Neighborhood: Physical locations within Ames city limits\n",
    "    Condition1: Proximity to main road or railroad\n",
    "    Condition2: Proximity to main road or railroad (if a second is present)\n",
    "    +BldgType: Type of dwelling\n",
    "    +HouseStyle: Style of dwelling\n",
    "    OverallQual: Overall material and finish quality\n",
    "    OverallCond: Overall condition rating\n",
    "    YearBuilt: Original construction date\n",
    "    YearRemodAdd: Remodel date\n",
    "    RoofStyle: Type of roof\n",
    "    RoofMatl: Roof material\n",
    "    Exterior1st: Exterior covering on house\n",
    "    Exterior2nd: Exterior covering on house (if more than one material)\n",
    "    MasVnrType: Masonry veneer type\n",
    "    MasVnrArea: Masonry veneer area in square feet\n",
    "    ExterQual: Exterior material quality\n",
    "    ExterCond: Present condition of the material on the exterior\n",
    "    Foundation: Type of foundation\n",
    "    BsmtQual: Height of the basement\n",
    "    BsmtCond: General condition of the basement\n",
    "    BsmtExposure: Walkout or garden level basement walls\n",
    "    BsmtFinType1: Quality of basement finished area\n",
    "    BsmtFinSF1: Type 1 finished square feet\n",
    "    BsmtFinType2: Quality of second finished area (if present)\n",
    "    BsmtFinSF2: Type 2 finished square feet\n",
    "    BsmtUnfSF: Unfinished square feet of basement area\n",
    "    TotalBsmtSF: Total square feet of basement area\n",
    "    Heating: Type of heating\n",
    "    HeatingQC: Heating quality and condition\n",
    "    CentralAir: Central air conditioning\n",
    "    Electrical: Electrical system\n",
    "    *1stFlrSF: First Floor square feet\n",
    "    *2ndFlrSF: Second floor square feet\n",
    "    LowQualFinSF: Low quality finished square feet (all floors)\n",
    "    GrLivArea: Above grade (ground) living area square feet\n",
    "    BsmtFullBath: Basement full bathrooms\n",
    "    BsmtHalfBath: Basement half bathrooms\n",
    "    FullBath: Full bathrooms above grade\n",
    "    HalfBath: Half baths above grade\n",
    "    Bedroom: Number of bedrooms above basement level\n",
    "    Kitchen: Number of kitchens\n",
    "    KitchenQual: Kitchen quality\n",
    "    TotRmsAbvGrd: Total rooms above grade (does not include bathrooms)\n",
    "    Functional: Home functionality rating\n",
    "    Fireplaces: Number of fireplaces\n",
    "    FireplaceQu: Fireplace quality\n",
    "    GarageType: Garage location\n",
    "    GarageYrBlt: Year garage was built\n",
    "    GarageFinish: Interior finish of the garage\n",
    "    GarageCars: Size of garage in car capacity\n",
    "    GarageArea: Size of garage in square feet\n",
    "    GarageQual: Garage quality\n",
    "    GarageCond: Garage condition\n",
    "    PavedDrive: Paved driveway\n",
    "    WoodDeckSF: Wood deck area in square feet\n",
    "    OpenPorchSF: Open porch area in square feet\n",
    "    EnclosedPorch: Enclosed porch area in square feet\n",
    "    *3SsnPorch: Three season porch area in square feet\n",
    "    ScreenPorch: Screen porch area in square feet\n",
    "    PoolArea: Pool area in square feet\n",
    "    PoolQC: Pool quality\n",
    "    Fence: Fence quality\n",
    "    MiscFeature: Miscellaneous feature not covered in other categories\n",
    "    MiscVal: $Value of miscellaneous feature\n",
    "    MoSold: Month Sold\n",
    "    YrSold: Year Sold\n",
    "    SaleType: Type of sale\n",
    "    SaleCondition: Condition of sale\n"
   ]
  },
  {
   "cell_type": "code",
   "execution_count": 1376,
   "metadata": {
    "id": "e0lOBDbwhPqf"
   },
   "outputs": [
    {
     "data": {
      "text/html": [
       "<div>\n",
       "<style scoped>\n",
       "    .dataframe tbody tr th:only-of-type {\n",
       "        vertical-align: middle;\n",
       "    }\n",
       "\n",
       "    .dataframe tbody tr th {\n",
       "        vertical-align: top;\n",
       "    }\n",
       "\n",
       "    .dataframe thead th {\n",
       "        text-align: right;\n",
       "    }\n",
       "</style>\n",
       "<table border=\"1\" class=\"dataframe\">\n",
       "  <thead>\n",
       "    <tr style=\"text-align: right;\">\n",
       "      <th></th>\n",
       "      <th>LotConfig</th>\n",
       "      <th>LandSlope</th>\n",
       "      <th>Neighborhood</th>\n",
       "      <th>Condition1</th>\n",
       "      <th>Condition2</th>\n",
       "      <th>BldgType</th>\n",
       "      <th>HouseStyle</th>\n",
       "      <th>OverallQual</th>\n",
       "      <th>OverallCond</th>\n",
       "      <th>YearBuilt</th>\n",
       "      <th>YearRemodAdd</th>\n",
       "      <th>RoofStyle</th>\n",
       "      <th>RoofMatl</th>\n",
       "      <th>Exterior1st</th>\n",
       "      <th>Exterior2nd</th>\n",
       "      <th>MasVnrType</th>\n",
       "      <th>MasVnrArea</th>\n",
       "      <th>ExterQual</th>\n",
       "      <th>ExterCond</th>\n",
       "      <th>Foundation</th>\n",
       "    </tr>\n",
       "  </thead>\n",
       "  <tbody>\n",
       "    <tr>\n",
       "      <th>0</th>\n",
       "      <td>Inside</td>\n",
       "      <td>Gtl</td>\n",
       "      <td>CollgCr</td>\n",
       "      <td>Norm</td>\n",
       "      <td>Norm</td>\n",
       "      <td>1Fam</td>\n",
       "      <td>2Story</td>\n",
       "      <td>7</td>\n",
       "      <td>5</td>\n",
       "      <td>2003</td>\n",
       "      <td>2003</td>\n",
       "      <td>Gable</td>\n",
       "      <td>CompShg</td>\n",
       "      <td>VinylSd</td>\n",
       "      <td>VinylSd</td>\n",
       "      <td>BrkFace</td>\n",
       "      <td>196.0</td>\n",
       "      <td>Gd</td>\n",
       "      <td>TA</td>\n",
       "      <td>PConc</td>\n",
       "    </tr>\n",
       "    <tr>\n",
       "      <th>1</th>\n",
       "      <td>FR2</td>\n",
       "      <td>Gtl</td>\n",
       "      <td>Veenker</td>\n",
       "      <td>Feedr</td>\n",
       "      <td>Norm</td>\n",
       "      <td>1Fam</td>\n",
       "      <td>1Story</td>\n",
       "      <td>6</td>\n",
       "      <td>8</td>\n",
       "      <td>1976</td>\n",
       "      <td>1976</td>\n",
       "      <td>Gable</td>\n",
       "      <td>CompShg</td>\n",
       "      <td>MetalSd</td>\n",
       "      <td>MetalSd</td>\n",
       "      <td>None</td>\n",
       "      <td>0.0</td>\n",
       "      <td>TA</td>\n",
       "      <td>TA</td>\n",
       "      <td>CBlock</td>\n",
       "    </tr>\n",
       "    <tr>\n",
       "      <th>2</th>\n",
       "      <td>Inside</td>\n",
       "      <td>Gtl</td>\n",
       "      <td>CollgCr</td>\n",
       "      <td>Norm</td>\n",
       "      <td>Norm</td>\n",
       "      <td>1Fam</td>\n",
       "      <td>2Story</td>\n",
       "      <td>7</td>\n",
       "      <td>5</td>\n",
       "      <td>2001</td>\n",
       "      <td>2002</td>\n",
       "      <td>Gable</td>\n",
       "      <td>CompShg</td>\n",
       "      <td>VinylSd</td>\n",
       "      <td>VinylSd</td>\n",
       "      <td>BrkFace</td>\n",
       "      <td>162.0</td>\n",
       "      <td>Gd</td>\n",
       "      <td>TA</td>\n",
       "      <td>PConc</td>\n",
       "    </tr>\n",
       "    <tr>\n",
       "      <th>3</th>\n",
       "      <td>Corner</td>\n",
       "      <td>Gtl</td>\n",
       "      <td>Crawfor</td>\n",
       "      <td>Norm</td>\n",
       "      <td>Norm</td>\n",
       "      <td>1Fam</td>\n",
       "      <td>2Story</td>\n",
       "      <td>7</td>\n",
       "      <td>5</td>\n",
       "      <td>1915</td>\n",
       "      <td>1970</td>\n",
       "      <td>Gable</td>\n",
       "      <td>CompShg</td>\n",
       "      <td>Wd Sdng</td>\n",
       "      <td>Wd Shng</td>\n",
       "      <td>None</td>\n",
       "      <td>0.0</td>\n",
       "      <td>TA</td>\n",
       "      <td>TA</td>\n",
       "      <td>BrkTil</td>\n",
       "    </tr>\n",
       "    <tr>\n",
       "      <th>4</th>\n",
       "      <td>FR2</td>\n",
       "      <td>Gtl</td>\n",
       "      <td>NoRidge</td>\n",
       "      <td>Norm</td>\n",
       "      <td>Norm</td>\n",
       "      <td>1Fam</td>\n",
       "      <td>2Story</td>\n",
       "      <td>8</td>\n",
       "      <td>5</td>\n",
       "      <td>2000</td>\n",
       "      <td>2000</td>\n",
       "      <td>Gable</td>\n",
       "      <td>CompShg</td>\n",
       "      <td>VinylSd</td>\n",
       "      <td>VinylSd</td>\n",
       "      <td>BrkFace</td>\n",
       "      <td>350.0</td>\n",
       "      <td>Gd</td>\n",
       "      <td>TA</td>\n",
       "      <td>PConc</td>\n",
       "    </tr>\n",
       "  </tbody>\n",
       "</table>\n",
       "</div>"
      ],
      "text/plain": [
       "  LotConfig LandSlope Neighborhood Condition1 Condition2 BldgType HouseStyle  \\\n",
       "0    Inside       Gtl      CollgCr       Norm       Norm     1Fam     2Story   \n",
       "1       FR2       Gtl      Veenker      Feedr       Norm     1Fam     1Story   \n",
       "2    Inside       Gtl      CollgCr       Norm       Norm     1Fam     2Story   \n",
       "3    Corner       Gtl      Crawfor       Norm       Norm     1Fam     2Story   \n",
       "4       FR2       Gtl      NoRidge       Norm       Norm     1Fam     2Story   \n",
       "\n",
       "   OverallQual  OverallCond  YearBuilt  YearRemodAdd RoofStyle RoofMatl  \\\n",
       "0            7            5       2003          2003     Gable  CompShg   \n",
       "1            6            8       1976          1976     Gable  CompShg   \n",
       "2            7            5       2001          2002     Gable  CompShg   \n",
       "3            7            5       1915          1970     Gable  CompShg   \n",
       "4            8            5       2000          2000     Gable  CompShg   \n",
       "\n",
       "  Exterior1st Exterior2nd MasVnrType  MasVnrArea ExterQual ExterCond  \\\n",
       "0     VinylSd     VinylSd    BrkFace       196.0        Gd        TA   \n",
       "1     MetalSd     MetalSd       None         0.0        TA        TA   \n",
       "2     VinylSd     VinylSd    BrkFace       162.0        Gd        TA   \n",
       "3     Wd Sdng     Wd Shng       None         0.0        TA        TA   \n",
       "4     VinylSd     VinylSd    BrkFace       350.0        Gd        TA   \n",
       "\n",
       "  Foundation  \n",
       "0      PConc  \n",
       "1     CBlock  \n",
       "2      PConc  \n",
       "3     BrkTil  \n",
       "4      PConc  "
      ]
     },
     "execution_count": 1376,
     "metadata": {},
     "output_type": "execute_result"
    }
   ],
   "source": [
    "# exercise 3\n",
    "house_price = pd.read_csv('../data/house_price.csv')\n",
    "hp = house_price.copy()\n",
    "hp.iloc[:,10:30].head()\n",
    "#hp.head()"
   ]
  },
  {
   "cell_type": "code",
   "execution_count": 1377,
   "metadata": {},
   "outputs": [],
   "source": [
    "hp.drop(['Id','MSSubClass', 'Alley', 'PoolQC', 'Fence', 'MiscFeature', 'LotFrontage',\n",
    "         'MasVnrType', 'GarageYrBlt', 'MasVnrArea', 'MSZoning', 'HouseStyle' ], axis=1, inplace=True)"
   ]
  },
  {
   "cell_type": "code",
   "execution_count": 1378,
   "metadata": {},
   "outputs": [
    {
     "data": {
      "text/html": [
       "<div>\n",
       "<style scoped>\n",
       "    .dataframe tbody tr th:only-of-type {\n",
       "        vertical-align: middle;\n",
       "    }\n",
       "\n",
       "    .dataframe tbody tr th {\n",
       "        vertical-align: top;\n",
       "    }\n",
       "\n",
       "    .dataframe thead th {\n",
       "        text-align: right;\n",
       "    }\n",
       "</style>\n",
       "<table border=\"1\" class=\"dataframe\">\n",
       "  <thead>\n",
       "    <tr style=\"text-align: right;\">\n",
       "      <th></th>\n",
       "      <th>ExterCond</th>\n",
       "      <th>Foundation</th>\n",
       "      <th>BsmtQual</th>\n",
       "      <th>BsmtCond</th>\n",
       "      <th>BsmtExposure</th>\n",
       "      <th>BsmtFinType1</th>\n",
       "      <th>BsmtFinSF1</th>\n",
       "      <th>BsmtFinType2</th>\n",
       "      <th>BsmtFinSF2</th>\n",
       "      <th>BsmtUnfSF</th>\n",
       "      <th>...</th>\n",
       "      <th>EnclosedPorch</th>\n",
       "      <th>3SsnPorch</th>\n",
       "      <th>ScreenPorch</th>\n",
       "      <th>PoolArea</th>\n",
       "      <th>MiscVal</th>\n",
       "      <th>MoSold</th>\n",
       "      <th>YrSold</th>\n",
       "      <th>SaleType</th>\n",
       "      <th>SaleCondition</th>\n",
       "      <th>SalePrice</th>\n",
       "    </tr>\n",
       "  </thead>\n",
       "  <tbody>\n",
       "    <tr>\n",
       "      <th>0</th>\n",
       "      <td>TA</td>\n",
       "      <td>PConc</td>\n",
       "      <td>Gd</td>\n",
       "      <td>TA</td>\n",
       "      <td>No</td>\n",
       "      <td>GLQ</td>\n",
       "      <td>706</td>\n",
       "      <td>Unf</td>\n",
       "      <td>0</td>\n",
       "      <td>150</td>\n",
       "      <td>...</td>\n",
       "      <td>0</td>\n",
       "      <td>0</td>\n",
       "      <td>0</td>\n",
       "      <td>0</td>\n",
       "      <td>0</td>\n",
       "      <td>2</td>\n",
       "      <td>2008</td>\n",
       "      <td>WD</td>\n",
       "      <td>Normal</td>\n",
       "      <td>208500</td>\n",
       "    </tr>\n",
       "    <tr>\n",
       "      <th>1</th>\n",
       "      <td>TA</td>\n",
       "      <td>CBlock</td>\n",
       "      <td>Gd</td>\n",
       "      <td>TA</td>\n",
       "      <td>Gd</td>\n",
       "      <td>ALQ</td>\n",
       "      <td>978</td>\n",
       "      <td>Unf</td>\n",
       "      <td>0</td>\n",
       "      <td>284</td>\n",
       "      <td>...</td>\n",
       "      <td>0</td>\n",
       "      <td>0</td>\n",
       "      <td>0</td>\n",
       "      <td>0</td>\n",
       "      <td>0</td>\n",
       "      <td>5</td>\n",
       "      <td>2007</td>\n",
       "      <td>WD</td>\n",
       "      <td>Normal</td>\n",
       "      <td>181500</td>\n",
       "    </tr>\n",
       "  </tbody>\n",
       "</table>\n",
       "<p>2 rows × 49 columns</p>\n",
       "</div>"
      ],
      "text/plain": [
       "  ExterCond Foundation BsmtQual BsmtCond BsmtExposure BsmtFinType1  \\\n",
       "0        TA      PConc       Gd       TA           No          GLQ   \n",
       "1        TA     CBlock       Gd       TA           Gd          ALQ   \n",
       "\n",
       "   BsmtFinSF1 BsmtFinType2  BsmtFinSF2  BsmtUnfSF  ...  EnclosedPorch  \\\n",
       "0         706          Unf           0        150  ...              0   \n",
       "1         978          Unf           0        284  ...              0   \n",
       "\n",
       "  3SsnPorch ScreenPorch PoolArea MiscVal  MoSold  YrSold  SaleType  \\\n",
       "0         0           0        0       0       2    2008        WD   \n",
       "1         0           0        0       0       5    2007        WD   \n",
       "\n",
       "   SaleCondition  SalePrice  \n",
       "0         Normal     208500  \n",
       "1         Normal     181500  \n",
       "\n",
       "[2 rows x 49 columns]"
      ]
     },
     "execution_count": 1378,
     "metadata": {},
     "output_type": "execute_result"
    }
   ],
   "source": [
    "#filling nan value with replacing the previous value with nan\n",
    "#hp.LotFrontage.fillna(method='ffill').isna().sum()\n",
    "hp.BsmtQual.fillna(method='ffill').isna().sum()\n",
    "hp.BsmtCond.fillna(method='ffill').isna().sum()  \n",
    "hp.BsmtExposure.fillna(method='ffill').isna().sum()    \n",
    "hp.BsmtFinType1.fillna(method='ffill').isna().sum()\n",
    "hp.Electrical.dropna()\n",
    "hp.BsmtFinType2.dropna()\n",
    "hp.FireplaceQu.fillna(method='ffill').isna().sum()\n",
    "hp.FireplaceQu.dropna().isna().sum()\n",
    "hp.GarageType.fillna(method='ffill').isna().sum()\n",
    "#hp.GarageYrBlt.fillna(hp.GarageYrBlt.mode()).dropna()\n",
    "hp.GarageQual.fillna(method='ffill').isna().sum()\n",
    "hp.GarageCond.fillna(method='ffill').isna().sum()\n",
    "hp.GarageFinish.fillna(method='ffill').dropna()\n",
    "#hp.MasVnrType.fillna(method='ffill').isna().sum() \n",
    "hp.iloc[:, 20:69].head(2)\n"
   ]
  },
  {
   "cell_type": "code",
   "execution_count": 1379,
   "metadata": {},
   "outputs": [],
   "source": [
    "#hp.columns"
   ]
  },
  {
   "cell_type": "code",
   "execution_count": 1380,
   "metadata": {},
   "outputs": [],
   "source": [
    "#hp.MasVnrType.replace(np.nan, None).fillna('BrkFace').value_counts()\n",
    "#I couldnot replace the NOne value, that's why i dropped it. I think it would be the effective feature!!!!"
   ]
  },
  {
   "cell_type": "code",
   "execution_count": 1381,
   "metadata": {},
   "outputs": [
    {
     "data": {
      "text/html": [
       "<div>\n",
       "<style scoped>\n",
       "    .dataframe tbody tr th:only-of-type {\n",
       "        vertical-align: middle;\n",
       "    }\n",
       "\n",
       "    .dataframe tbody tr th {\n",
       "        vertical-align: top;\n",
       "    }\n",
       "\n",
       "    .dataframe thead th {\n",
       "        text-align: right;\n",
       "    }\n",
       "</style>\n",
       "<table border=\"1\" class=\"dataframe\">\n",
       "  <thead>\n",
       "    <tr style=\"text-align: right;\">\n",
       "      <th></th>\n",
       "      <th>LotArea</th>\n",
       "      <th>Street</th>\n",
       "      <th>LotShape</th>\n",
       "      <th>LandContour</th>\n",
       "      <th>Utilities</th>\n",
       "      <th>LotConfig</th>\n",
       "      <th>LandSlope</th>\n",
       "      <th>Neighborhood</th>\n",
       "      <th>Condition1</th>\n",
       "      <th>Condition2</th>\n",
       "      <th>...</th>\n",
       "      <th>EnclosedPorch</th>\n",
       "      <th>3SsnPorch</th>\n",
       "      <th>ScreenPorch</th>\n",
       "      <th>PoolArea</th>\n",
       "      <th>MiscVal</th>\n",
       "      <th>MoSold</th>\n",
       "      <th>YrSold</th>\n",
       "      <th>SaleType</th>\n",
       "      <th>SaleCondition</th>\n",
       "      <th>SalePrice</th>\n",
       "    </tr>\n",
       "  </thead>\n",
       "  <tbody>\n",
       "    <tr>\n",
       "      <th>0</th>\n",
       "      <td>8450</td>\n",
       "      <td>1</td>\n",
       "      <td>3</td>\n",
       "      <td>3</td>\n",
       "      <td>0</td>\n",
       "      <td>4</td>\n",
       "      <td>0</td>\n",
       "      <td>5</td>\n",
       "      <td>2</td>\n",
       "      <td>2</td>\n",
       "      <td>...</td>\n",
       "      <td>0</td>\n",
       "      <td>0</td>\n",
       "      <td>0</td>\n",
       "      <td>0</td>\n",
       "      <td>0</td>\n",
       "      <td>2</td>\n",
       "      <td>2008</td>\n",
       "      <td>8</td>\n",
       "      <td>4</td>\n",
       "      <td>208500</td>\n",
       "    </tr>\n",
       "    <tr>\n",
       "      <th>1</th>\n",
       "      <td>9600</td>\n",
       "      <td>1</td>\n",
       "      <td>3</td>\n",
       "      <td>3</td>\n",
       "      <td>0</td>\n",
       "      <td>2</td>\n",
       "      <td>0</td>\n",
       "      <td>24</td>\n",
       "      <td>1</td>\n",
       "      <td>2</td>\n",
       "      <td>...</td>\n",
       "      <td>0</td>\n",
       "      <td>0</td>\n",
       "      <td>0</td>\n",
       "      <td>0</td>\n",
       "      <td>0</td>\n",
       "      <td>5</td>\n",
       "      <td>2007</td>\n",
       "      <td>8</td>\n",
       "      <td>4</td>\n",
       "      <td>181500</td>\n",
       "    </tr>\n",
       "    <tr>\n",
       "      <th>2</th>\n",
       "      <td>11250</td>\n",
       "      <td>1</td>\n",
       "      <td>0</td>\n",
       "      <td>3</td>\n",
       "      <td>0</td>\n",
       "      <td>4</td>\n",
       "      <td>0</td>\n",
       "      <td>5</td>\n",
       "      <td>2</td>\n",
       "      <td>2</td>\n",
       "      <td>...</td>\n",
       "      <td>0</td>\n",
       "      <td>0</td>\n",
       "      <td>0</td>\n",
       "      <td>0</td>\n",
       "      <td>0</td>\n",
       "      <td>9</td>\n",
       "      <td>2008</td>\n",
       "      <td>8</td>\n",
       "      <td>4</td>\n",
       "      <td>223500</td>\n",
       "    </tr>\n",
       "    <tr>\n",
       "      <th>3</th>\n",
       "      <td>9550</td>\n",
       "      <td>1</td>\n",
       "      <td>0</td>\n",
       "      <td>3</td>\n",
       "      <td>0</td>\n",
       "      <td>0</td>\n",
       "      <td>0</td>\n",
       "      <td>6</td>\n",
       "      <td>2</td>\n",
       "      <td>2</td>\n",
       "      <td>...</td>\n",
       "      <td>272</td>\n",
       "      <td>0</td>\n",
       "      <td>0</td>\n",
       "      <td>0</td>\n",
       "      <td>0</td>\n",
       "      <td>2</td>\n",
       "      <td>2006</td>\n",
       "      <td>8</td>\n",
       "      <td>0</td>\n",
       "      <td>140000</td>\n",
       "    </tr>\n",
       "    <tr>\n",
       "      <th>4</th>\n",
       "      <td>14260</td>\n",
       "      <td>1</td>\n",
       "      <td>0</td>\n",
       "      <td>3</td>\n",
       "      <td>0</td>\n",
       "      <td>2</td>\n",
       "      <td>0</td>\n",
       "      <td>15</td>\n",
       "      <td>2</td>\n",
       "      <td>2</td>\n",
       "      <td>...</td>\n",
       "      <td>0</td>\n",
       "      <td>0</td>\n",
       "      <td>0</td>\n",
       "      <td>0</td>\n",
       "      <td>0</td>\n",
       "      <td>12</td>\n",
       "      <td>2008</td>\n",
       "      <td>8</td>\n",
       "      <td>4</td>\n",
       "      <td>250000</td>\n",
       "    </tr>\n",
       "  </tbody>\n",
       "</table>\n",
       "<p>5 rows × 69 columns</p>\n",
       "</div>"
      ],
      "text/plain": [
       "   LotArea  Street  LotShape  LandContour  Utilities  LotConfig  LandSlope  \\\n",
       "0     8450       1         3            3          0          4          0   \n",
       "1     9600       1         3            3          0          2          0   \n",
       "2    11250       1         0            3          0          4          0   \n",
       "3     9550       1         0            3          0          0          0   \n",
       "4    14260       1         0            3          0          2          0   \n",
       "\n",
       "   Neighborhood  Condition1  Condition2  ...  EnclosedPorch  3SsnPorch  \\\n",
       "0             5           2           2  ...              0          0   \n",
       "1            24           1           2  ...              0          0   \n",
       "2             5           2           2  ...              0          0   \n",
       "3             6           2           2  ...            272          0   \n",
       "4            15           2           2  ...              0          0   \n",
       "\n",
       "   ScreenPorch  PoolArea  MiscVal  MoSold  YrSold  SaleType  SaleCondition  \\\n",
       "0            0         0        0       2    2008         8              4   \n",
       "1            0         0        0       5    2007         8              4   \n",
       "2            0         0        0       9    2008         8              4   \n",
       "3            0         0        0       2    2006         8              0   \n",
       "4            0         0        0      12    2008         8              4   \n",
       "\n",
       "   SalePrice  \n",
       "0     208500  \n",
       "1     181500  \n",
       "2     223500  \n",
       "3     140000  \n",
       "4     250000  \n",
       "\n",
       "[5 rows x 69 columns]"
      ]
     },
     "execution_count": 1381,
     "metadata": {},
     "output_type": "execute_result"
    }
   ],
   "source": [
    "data_column_category = hp.select_dtypes(exclude=[np.number]).columns#make a list for qualitative features of proporties\n",
    "labelencoder = LabelEncoder()#make object for make numeric the categories\n",
    "for i in data_column_category:#make loop to iterate for encoding\n",
    "     hp[i] = labelencoder.fit_transform(hp[i])\n",
    "\n",
    "hp.head()"
   ]
  },
  {
   "cell_type": "code",
   "execution_count": 1382,
   "metadata": {},
   "outputs": [],
   "source": [
    "#onehot_encoder = OneHotEncoder(sparse=False)\n",
    "#for i in data_column_category:\n",
    "    #onehot_encoded = onehot_encoder.fit_transform(hp[data_column_category])\n",
    "    \n",
    "#onehot_encoded_frame = pd.DataFrame(onehot_encoded, columns = onehot_encoder.get_feature_names(data_column_category))\n",
    "#onehot_encoded_frame.head()"
   ]
  },
  {
   "cell_type": "code",
   "execution_count": 1383,
   "metadata": {},
   "outputs": [],
   "source": [
    "price = hp.SalePrice #target value\n",
    "features = hp.iloc[:, :-1] #predictors to predict target value"
   ]
  },
  {
   "cell_type": "code",
   "execution_count": 1384,
   "metadata": {},
   "outputs": [],
   "source": [
    "price = hp.SalePrice #target value\n",
    "features = hp.iloc[:, :-1] #predictors to predict target value"
   ]
  },
  {
   "cell_type": "code",
   "execution_count": 1385,
   "metadata": {},
   "outputs": [
    {
     "name": "stderr",
     "output_type": "stream",
     "text": [
      "C:\\Users\\zmaso\\anaconda3\\lib\\site-packages\\statsmodels\\base\\model.py:1832: ValueWarning: covariance of constraints does not have full rank. The number of constraints is 68, but rank is 66\n",
      "  warnings.warn('covariance of constraints does not have full '\n"
     ]
    },
    {
     "data": {
      "text/html": [
       "<table class=\"simpletable\">\n",
       "<caption>OLS Regression Results</caption>\n",
       "<tr>\n",
       "  <th>Dep. Variable:</th>        <td>SalePrice</td>    <th>  R-squared:         </th> <td>   0.844</td> \n",
       "</tr>\n",
       "<tr>\n",
       "  <th>Model:</th>                   <td>OLS</td>       <th>  Adj. R-squared:    </th> <td>   0.837</td> \n",
       "</tr>\n",
       "<tr>\n",
       "  <th>Method:</th>             <td>Least Squares</td>  <th>  F-statistic:       </th> <td>   131.3</td> \n",
       "</tr>\n",
       "<tr>\n",
       "  <th>Date:</th>             <td>Tue, 28 Jun 2022</td> <th>  Prob (F-statistic):</th>  <td>  0.00</td>  \n",
       "</tr>\n",
       "<tr>\n",
       "  <th>Time:</th>                 <td>21:02:23</td>     <th>  Log-Likelihood:    </th> <td> -17186.</td> \n",
       "</tr>\n",
       "<tr>\n",
       "  <th>No. Observations:</th>      <td>  1460</td>      <th>  AIC:               </th> <td>3.451e+04</td>\n",
       "</tr>\n",
       "<tr>\n",
       "  <th>Df Residuals:</th>          <td>  1393</td>      <th>  BIC:               </th> <td>3.486e+04</td>\n",
       "</tr>\n",
       "<tr>\n",
       "  <th>Df Model:</th>              <td>    66</td>      <th>                     </th>     <td> </td>    \n",
       "</tr>\n",
       "<tr>\n",
       "  <th>Covariance Type:</th>         <td>HC2</td>       <th>                     </th>     <td> </td>    \n",
       "</tr>\n",
       "</table>\n",
       "<table class=\"simpletable\">\n",
       "<tr>\n",
       "        <td></td>           <th>coef</th>     <th>std err</th>      <th>z</th>      <th>P>|z|</th>  <th>[0.025</th>    <th>0.975]</th>  \n",
       "</tr>\n",
       "<tr>\n",
       "  <th>const</th>         <td> 1.474e+06</td> <td> 1.25e+06</td> <td>    1.175</td> <td> 0.240</td> <td>-9.84e+05</td> <td> 3.93e+06</td>\n",
       "</tr>\n",
       "<tr>\n",
       "  <th>LotArea</th>       <td>    0.3773</td> <td>    0.175</td> <td>    2.151</td> <td> 0.031</td> <td>    0.034</td> <td>    0.721</td>\n",
       "</tr>\n",
       "<tr>\n",
       "  <th>Street</th>        <td> 3.341e+04</td> <td> 1.52e+04</td> <td>    2.199</td> <td> 0.028</td> <td> 3630.307</td> <td> 6.32e+04</td>\n",
       "</tr>\n",
       "<tr>\n",
       "  <th>LotShape</th>      <td>-1000.4170</td> <td>  730.209</td> <td>   -1.370</td> <td> 0.171</td> <td>-2431.600</td> <td>  430.766</td>\n",
       "</tr>\n",
       "<tr>\n",
       "  <th>LandContour</th>   <td> 4092.5419</td> <td> 3019.810</td> <td>    1.355</td> <td> 0.175</td> <td>-1826.178</td> <td>    1e+04</td>\n",
       "</tr>\n",
       "<tr>\n",
       "  <th>Utilities</th>     <td>-4.889e+04</td> <td> 1.57e+04</td> <td>   -3.105</td> <td> 0.002</td> <td>-7.98e+04</td> <td> -1.8e+04</td>\n",
       "</tr>\n",
       "<tr>\n",
       "  <th>LotConfig</th>     <td>   60.7230</td> <td>  603.997</td> <td>    0.101</td> <td> 0.920</td> <td>-1123.090</td> <td> 1244.536</td>\n",
       "</tr>\n",
       "<tr>\n",
       "  <th>LandSlope</th>     <td> 7063.9910</td> <td> 7300.901</td> <td>    0.968</td> <td> 0.333</td> <td>-7245.513</td> <td> 2.14e+04</td>\n",
       "</tr>\n",
       "<tr>\n",
       "  <th>Neighborhood</th>  <td>  415.8593</td> <td>  200.124</td> <td>    2.078</td> <td> 0.038</td> <td>   23.624</td> <td>  808.094</td>\n",
       "</tr>\n",
       "<tr>\n",
       "  <th>Condition1</th>    <td> -904.6111</td> <td> 1165.142</td> <td>   -0.776</td> <td> 0.438</td> <td>-3188.247</td> <td> 1379.025</td>\n",
       "</tr>\n",
       "<tr>\n",
       "  <th>Condition2</th>    <td>-7962.4597</td> <td> 8307.596</td> <td>   -0.958</td> <td> 0.338</td> <td>-2.42e+04</td> <td> 8320.129</td>\n",
       "</tr>\n",
       "<tr>\n",
       "  <th>BldgType</th>      <td>-4869.4249</td> <td> 1115.987</td> <td>   -4.363</td> <td> 0.000</td> <td>-7056.720</td> <td>-2682.130</td>\n",
       "</tr>\n",
       "<tr>\n",
       "  <th>OverallQual</th>   <td> 1.118e+04</td> <td> 1954.485</td> <td>    5.720</td> <td> 0.000</td> <td> 7348.849</td> <td>  1.5e+04</td>\n",
       "</tr>\n",
       "<tr>\n",
       "  <th>OverallCond</th>   <td> 4458.2707</td> <td> 1061.558</td> <td>    4.200</td> <td> 0.000</td> <td> 2377.656</td> <td> 6538.886</td>\n",
       "</tr>\n",
       "<tr>\n",
       "  <th>YearBuilt</th>     <td>  222.5928</td> <td>   79.995</td> <td>    2.783</td> <td> 0.005</td> <td>   65.806</td> <td>  379.380</td>\n",
       "</tr>\n",
       "<tr>\n",
       "  <th>YearRemodAdd</th>  <td>    4.2051</td> <td>   54.645</td> <td>    0.077</td> <td> 0.939</td> <td> -102.897</td> <td>  111.307</td>\n",
       "</tr>\n",
       "<tr>\n",
       "  <th>RoofStyle</th>     <td> 2647.0736</td> <td> 1370.220</td> <td>    1.932</td> <td> 0.053</td> <td>  -38.508</td> <td> 5332.656</td>\n",
       "</tr>\n",
       "<tr>\n",
       "  <th>RoofMatl</th>      <td> 4434.4639</td> <td> 3992.577</td> <td>    1.111</td> <td> 0.267</td> <td>-3390.843</td> <td> 1.23e+04</td>\n",
       "</tr>\n",
       "<tr>\n",
       "  <th>Exterior1st</th>   <td>-1078.8403</td> <td>  652.853</td> <td>   -1.653</td> <td> 0.098</td> <td>-2358.409</td> <td>  200.729</td>\n",
       "</tr>\n",
       "<tr>\n",
       "  <th>Exterior2nd</th>   <td>  476.8739</td> <td>  595.117</td> <td>    0.801</td> <td> 0.423</td> <td> -689.534</td> <td> 1643.281</td>\n",
       "</tr>\n",
       "<tr>\n",
       "  <th>ExterQual</th>     <td>-1.066e+04</td> <td> 2892.595</td> <td>   -3.686</td> <td> 0.000</td> <td>-1.63e+04</td> <td>-4993.888</td>\n",
       "</tr>\n",
       "<tr>\n",
       "  <th>ExterCond</th>     <td>  597.5572</td> <td> 1231.055</td> <td>    0.485</td> <td> 0.627</td> <td>-1815.266</td> <td> 3010.380</td>\n",
       "</tr>\n",
       "<tr>\n",
       "  <th>Foundation</th>    <td> 1493.7724</td> <td> 1404.892</td> <td>    1.063</td> <td> 0.288</td> <td>-1259.766</td> <td> 4247.311</td>\n",
       "</tr>\n",
       "<tr>\n",
       "  <th>BsmtQual</th>      <td>-8332.5599</td> <td> 1840.172</td> <td>   -4.528</td> <td> 0.000</td> <td>-1.19e+04</td> <td>-4725.889</td>\n",
       "</tr>\n",
       "<tr>\n",
       "  <th>BsmtCond</th>      <td> 2998.8263</td> <td> 1178.283</td> <td>    2.545</td> <td> 0.011</td> <td>  689.434</td> <td> 5308.218</td>\n",
       "</tr>\n",
       "<tr>\n",
       "  <th>BsmtExposure</th>  <td>-2427.2416</td> <td>  889.774</td> <td>   -2.728</td> <td> 0.006</td> <td>-4171.166</td> <td> -683.317</td>\n",
       "</tr>\n",
       "<tr>\n",
       "  <th>BsmtFinType1</th>  <td> -616.6521</td> <td> 1406.567</td> <td>   -0.438</td> <td> 0.661</td> <td>-3373.474</td> <td> 2140.169</td>\n",
       "</tr>\n",
       "<tr>\n",
       "  <th>BsmtFinSF1</th>    <td>    5.5132</td> <td>   10.802</td> <td>    0.510</td> <td> 0.610</td> <td>  -15.658</td> <td>   26.685</td>\n",
       "</tr>\n",
       "<tr>\n",
       "  <th>BsmtFinType2</th>  <td>  759.9531</td> <td> 1187.045</td> <td>    0.640</td> <td> 0.522</td> <td>-1566.611</td> <td> 3086.518</td>\n",
       "</tr>\n",
       "<tr>\n",
       "  <th>BsmtFinSF2</th>    <td>    5.0647</td> <td>    5.793</td> <td>    0.874</td> <td> 0.382</td> <td>   -6.290</td> <td>   16.419</td>\n",
       "</tr>\n",
       "<tr>\n",
       "  <th>BsmtUnfSF</th>     <td>   -4.2694</td> <td>    2.840</td> <td>   -1.503</td> <td> 0.133</td> <td>   -9.836</td> <td>    1.297</td>\n",
       "</tr>\n",
       "<tr>\n",
       "  <th>TotalBsmtSF</th>   <td>    6.3085</td> <td>   12.581</td> <td>    0.501</td> <td> 0.616</td> <td>  -18.349</td> <td>   30.966</td>\n",
       "</tr>\n",
       "<tr>\n",
       "  <th>Heating</th>       <td>-2206.3689</td> <td> 2830.759</td> <td>   -0.779</td> <td> 0.436</td> <td>-7754.554</td> <td> 3341.816</td>\n",
       "</tr>\n",
       "<tr>\n",
       "  <th>HeatingQC</th>     <td> -794.4784</td> <td>  474.878</td> <td>   -1.673</td> <td> 0.094</td> <td>-1725.223</td> <td>  136.266</td>\n",
       "</tr>\n",
       "<tr>\n",
       "  <th>CentralAir</th>    <td>  549.5004</td> <td> 4065.258</td> <td>    0.135</td> <td> 0.892</td> <td>-7418.260</td> <td> 8517.261</td>\n",
       "</tr>\n",
       "<tr>\n",
       "  <th>Electrical</th>    <td>-1036.5932</td> <td>  624.599</td> <td>   -1.660</td> <td> 0.097</td> <td>-2260.786</td> <td>  187.599</td>\n",
       "</tr>\n",
       "<tr>\n",
       "  <th>1stFlrSF</th>      <td>   26.1095</td> <td>    7.852</td> <td>    3.325</td> <td> 0.001</td> <td>   10.719</td> <td>   41.500</td>\n",
       "</tr>\n",
       "<tr>\n",
       "  <th>2ndFlrSF</th>      <td>   15.8300</td> <td>   10.174</td> <td>    1.556</td> <td> 0.120</td> <td>   -4.110</td> <td>   35.770</td>\n",
       "</tr>\n",
       "<tr>\n",
       "  <th>LowQualFinSF</th>  <td>  -14.6312</td> <td>   15.812</td> <td>   -0.925</td> <td> 0.355</td> <td>  -45.623</td> <td>   16.361</td>\n",
       "</tr>\n",
       "<tr>\n",
       "  <th>GrLivArea</th>     <td>   27.3083</td> <td>    7.710</td> <td>    3.542</td> <td> 0.000</td> <td>   12.198</td> <td>   42.419</td>\n",
       "</tr>\n",
       "<tr>\n",
       "  <th>BsmtFullBath</th>  <td> 6068.2696</td> <td> 5059.451</td> <td>    1.199</td> <td> 0.230</td> <td>-3848.072</td> <td>  1.6e+04</td>\n",
       "</tr>\n",
       "<tr>\n",
       "  <th>BsmtHalfBath</th>  <td> 1017.5634</td> <td> 4360.914</td> <td>    0.233</td> <td> 0.815</td> <td>-7529.670</td> <td> 9564.797</td>\n",
       "</tr>\n",
       "<tr>\n",
       "  <th>FullBath</th>      <td> 4084.7738</td> <td> 3988.402</td> <td>    1.024</td> <td> 0.306</td> <td>-3732.351</td> <td> 1.19e+04</td>\n",
       "</tr>\n",
       "<tr>\n",
       "  <th>HalfBath</th>      <td> -442.1383</td> <td> 2646.293</td> <td>   -0.167</td> <td> 0.867</td> <td>-5628.777</td> <td> 4744.500</td>\n",
       "</tr>\n",
       "<tr>\n",
       "  <th>BedroomAbvGr</th>  <td>-4330.9846</td> <td> 2332.992</td> <td>   -1.856</td> <td> 0.063</td> <td>-8903.565</td> <td>  241.595</td>\n",
       "</tr>\n",
       "<tr>\n",
       "  <th>KitchenAbvGr</th>  <td>-1.592e+04</td> <td> 4921.623</td> <td>   -3.235</td> <td> 0.001</td> <td>-2.56e+04</td> <td>-6275.133</td>\n",
       "</tr>\n",
       "<tr>\n",
       "  <th>KitchenQual</th>   <td>-8564.9779</td> <td> 1736.768</td> <td>   -4.932</td> <td> 0.000</td> <td> -1.2e+04</td> <td>-5160.975</td>\n",
       "</tr>\n",
       "<tr>\n",
       "  <th>TotRmsAbvGrd</th>  <td> 3007.9950</td> <td> 2107.222</td> <td>    1.427</td> <td> 0.153</td> <td>-1122.084</td> <td> 7138.074</td>\n",
       "</tr>\n",
       "<tr>\n",
       "  <th>Functional</th>    <td> 4406.8272</td> <td>  859.434</td> <td>    5.128</td> <td> 0.000</td> <td> 2722.368</td> <td> 6091.286</td>\n",
       "</tr>\n",
       "<tr>\n",
       "  <th>Fireplaces</th>    <td> 2070.5893</td> <td> 3286.722</td> <td>    0.630</td> <td> 0.529</td> <td>-4371.268</td> <td> 8512.447</td>\n",
       "</tr>\n",
       "<tr>\n",
       "  <th>FireplaceQu</th>   <td>-1856.7442</td> <td> 1566.436</td> <td>   -1.185</td> <td> 0.236</td> <td>-4926.903</td> <td> 1213.415</td>\n",
       "</tr>\n",
       "<tr>\n",
       "  <th>GarageType</th>    <td> 1368.9922</td> <td>  650.962</td> <td>    2.103</td> <td> 0.035</td> <td>   93.130</td> <td> 2644.854</td>\n",
       "</tr>\n",
       "<tr>\n",
       "  <th>GarageFinish</th>  <td>  661.9706</td> <td> 1169.453</td> <td>    0.566</td> <td> 0.571</td> <td>-1630.114</td> <td> 2954.055</td>\n",
       "</tr>\n",
       "<tr>\n",
       "  <th>GarageCars</th>    <td> 1.251e+04</td> <td> 7001.171</td> <td>    1.786</td> <td> 0.074</td> <td>-1216.119</td> <td> 2.62e+04</td>\n",
       "</tr>\n",
       "<tr>\n",
       "  <th>GarageArea</th>    <td>   -4.3975</td> <td>   20.944</td> <td>   -0.210</td> <td> 0.834</td> <td>  -45.446</td> <td>   36.651</td>\n",
       "</tr>\n",
       "<tr>\n",
       "  <th>GarageQual</th>    <td>  684.1097</td> <td> 1500.759</td> <td>    0.456</td> <td> 0.649</td> <td>-2257.324</td> <td> 3625.544</td>\n",
       "</tr>\n",
       "<tr>\n",
       "  <th>GarageCond</th>    <td> 2826.7130</td> <td> 1617.993</td> <td>    1.747</td> <td> 0.081</td> <td> -344.496</td> <td> 5997.922</td>\n",
       "</tr>\n",
       "<tr>\n",
       "  <th>PavedDrive</th>    <td> 1183.9191</td> <td> 1523.026</td> <td>    0.777</td> <td> 0.437</td> <td>-1801.156</td> <td> 4168.995</td>\n",
       "</tr>\n",
       "<tr>\n",
       "  <th>WoodDeckSF</th>    <td>   19.9621</td> <td>    9.100</td> <td>    2.194</td> <td> 0.028</td> <td>    2.127</td> <td>   37.797</td>\n",
       "</tr>\n",
       "<tr>\n",
       "  <th>OpenPorchSF</th>   <td>  -16.7477</td> <td>   21.567</td> <td>   -0.777</td> <td> 0.437</td> <td>  -59.018</td> <td>   25.522</td>\n",
       "</tr>\n",
       "<tr>\n",
       "  <th>EnclosedPorch</th> <td>    0.9136</td> <td>   17.243</td> <td>    0.053</td> <td> 0.958</td> <td>  -32.882</td> <td>   34.709</td>\n",
       "</tr>\n",
       "<tr>\n",
       "  <th>3SsnPorch</th>     <td>   23.5986</td> <td>   24.983</td> <td>    0.945</td> <td> 0.345</td> <td>  -25.367</td> <td>   72.564</td>\n",
       "</tr>\n",
       "<tr>\n",
       "  <th>ScreenPorch</th>   <td>   53.5026</td> <td>   22.241</td> <td>    2.406</td> <td> 0.016</td> <td>    9.912</td> <td>   97.093</td>\n",
       "</tr>\n",
       "<tr>\n",
       "  <th>PoolArea</th>      <td>  -35.7494</td> <td>  114.309</td> <td>   -0.313</td> <td> 0.754</td> <td> -259.791</td> <td>  188.292</td>\n",
       "</tr>\n",
       "<tr>\n",
       "  <th>MiscVal</th>       <td>    0.0362</td> <td>    1.424</td> <td>    0.025</td> <td> 0.980</td> <td>   -2.756</td> <td>    2.828</td>\n",
       "</tr>\n",
       "<tr>\n",
       "  <th>MoSold</th>        <td> -266.6901</td> <td>  350.728</td> <td>   -0.760</td> <td> 0.447</td> <td> -954.104</td> <td>  420.724</td>\n",
       "</tr>\n",
       "<tr>\n",
       "  <th>YrSold</th>        <td> -973.0267</td> <td>  594.080</td> <td>   -1.638</td> <td> 0.101</td> <td>-2137.401</td> <td>  191.348</td>\n",
       "</tr>\n",
       "<tr>\n",
       "  <th>SaleType</th>      <td> -672.1743</td> <td>  521.996</td> <td>   -1.288</td> <td> 0.198</td> <td>-1695.268</td> <td>  350.919</td>\n",
       "</tr>\n",
       "<tr>\n",
       "  <th>SaleCondition</th> <td> 2805.8166</td> <td> 1080.208</td> <td>    2.597</td> <td> 0.009</td> <td>  688.647</td> <td> 4922.986</td>\n",
       "</tr>\n",
       "</table>\n",
       "<table class=\"simpletable\">\n",
       "<tr>\n",
       "  <th>Omnibus:</th>       <td>713.445</td> <th>  Durbin-Watson:     </th>  <td>   1.944</td> \n",
       "</tr>\n",
       "<tr>\n",
       "  <th>Prob(Omnibus):</th> <td> 0.000</td>  <th>  Jarque-Bera (JB):  </th> <td>133129.565</td>\n",
       "</tr>\n",
       "<tr>\n",
       "  <th>Skew:</th>          <td>-1.151</td>  <th>  Prob(JB):          </th>  <td>    0.00</td> \n",
       "</tr>\n",
       "<tr>\n",
       "  <th>Kurtosis:</th>      <td>49.724</td>  <th>  Cond. No.          </th>  <td>1.31e+16</td> \n",
       "</tr>\n",
       "</table><br/><br/>Notes:<br/>[1] Standard Errors are heteroscedasticity robust (HC2)<br/>[2] The smallest eigenvalue is 1.87e-21. This might indicate that there are<br/>strong multicollinearity problems or that the design matrix is singular."
      ],
      "text/plain": [
       "<class 'statsmodels.iolib.summary.Summary'>\n",
       "\"\"\"\n",
       "                            OLS Regression Results                            \n",
       "==============================================================================\n",
       "Dep. Variable:              SalePrice   R-squared:                       0.844\n",
       "Model:                            OLS   Adj. R-squared:                  0.837\n",
       "Method:                 Least Squares   F-statistic:                     131.3\n",
       "Date:                Tue, 28 Jun 2022   Prob (F-statistic):               0.00\n",
       "Time:                        21:02:23   Log-Likelihood:                -17186.\n",
       "No. Observations:                1460   AIC:                         3.451e+04\n",
       "Df Residuals:                    1393   BIC:                         3.486e+04\n",
       "Df Model:                          66                                         \n",
       "Covariance Type:                  HC2                                         \n",
       "=================================================================================\n",
       "                    coef    std err          z      P>|z|      [0.025      0.975]\n",
       "---------------------------------------------------------------------------------\n",
       "const          1.474e+06   1.25e+06      1.175      0.240   -9.84e+05    3.93e+06\n",
       "LotArea           0.3773      0.175      2.151      0.031       0.034       0.721\n",
       "Street         3.341e+04   1.52e+04      2.199      0.028    3630.307    6.32e+04\n",
       "LotShape      -1000.4170    730.209     -1.370      0.171   -2431.600     430.766\n",
       "LandContour    4092.5419   3019.810      1.355      0.175   -1826.178       1e+04\n",
       "Utilities     -4.889e+04   1.57e+04     -3.105      0.002   -7.98e+04    -1.8e+04\n",
       "LotConfig        60.7230    603.997      0.101      0.920   -1123.090    1244.536\n",
       "LandSlope      7063.9910   7300.901      0.968      0.333   -7245.513    2.14e+04\n",
       "Neighborhood    415.8593    200.124      2.078      0.038      23.624     808.094\n",
       "Condition1     -904.6111   1165.142     -0.776      0.438   -3188.247    1379.025\n",
       "Condition2    -7962.4597   8307.596     -0.958      0.338   -2.42e+04    8320.129\n",
       "BldgType      -4869.4249   1115.987     -4.363      0.000   -7056.720   -2682.130\n",
       "OverallQual    1.118e+04   1954.485      5.720      0.000    7348.849     1.5e+04\n",
       "OverallCond    4458.2707   1061.558      4.200      0.000    2377.656    6538.886\n",
       "YearBuilt       222.5928     79.995      2.783      0.005      65.806     379.380\n",
       "YearRemodAdd      4.2051     54.645      0.077      0.939    -102.897     111.307\n",
       "RoofStyle      2647.0736   1370.220      1.932      0.053     -38.508    5332.656\n",
       "RoofMatl       4434.4639   3992.577      1.111      0.267   -3390.843    1.23e+04\n",
       "Exterior1st   -1078.8403    652.853     -1.653      0.098   -2358.409     200.729\n",
       "Exterior2nd     476.8739    595.117      0.801      0.423    -689.534    1643.281\n",
       "ExterQual     -1.066e+04   2892.595     -3.686      0.000   -1.63e+04   -4993.888\n",
       "ExterCond       597.5572   1231.055      0.485      0.627   -1815.266    3010.380\n",
       "Foundation     1493.7724   1404.892      1.063      0.288   -1259.766    4247.311\n",
       "BsmtQual      -8332.5599   1840.172     -4.528      0.000   -1.19e+04   -4725.889\n",
       "BsmtCond       2998.8263   1178.283      2.545      0.011     689.434    5308.218\n",
       "BsmtExposure  -2427.2416    889.774     -2.728      0.006   -4171.166    -683.317\n",
       "BsmtFinType1   -616.6521   1406.567     -0.438      0.661   -3373.474    2140.169\n",
       "BsmtFinSF1        5.5132     10.802      0.510      0.610     -15.658      26.685\n",
       "BsmtFinType2    759.9531   1187.045      0.640      0.522   -1566.611    3086.518\n",
       "BsmtFinSF2        5.0647      5.793      0.874      0.382      -6.290      16.419\n",
       "BsmtUnfSF        -4.2694      2.840     -1.503      0.133      -9.836       1.297\n",
       "TotalBsmtSF       6.3085     12.581      0.501      0.616     -18.349      30.966\n",
       "Heating       -2206.3689   2830.759     -0.779      0.436   -7754.554    3341.816\n",
       "HeatingQC      -794.4784    474.878     -1.673      0.094   -1725.223     136.266\n",
       "CentralAir      549.5004   4065.258      0.135      0.892   -7418.260    8517.261\n",
       "Electrical    -1036.5932    624.599     -1.660      0.097   -2260.786     187.599\n",
       "1stFlrSF         26.1095      7.852      3.325      0.001      10.719      41.500\n",
       "2ndFlrSF         15.8300     10.174      1.556      0.120      -4.110      35.770\n",
       "LowQualFinSF    -14.6312     15.812     -0.925      0.355     -45.623      16.361\n",
       "GrLivArea        27.3083      7.710      3.542      0.000      12.198      42.419\n",
       "BsmtFullBath   6068.2696   5059.451      1.199      0.230   -3848.072     1.6e+04\n",
       "BsmtHalfBath   1017.5634   4360.914      0.233      0.815   -7529.670    9564.797\n",
       "FullBath       4084.7738   3988.402      1.024      0.306   -3732.351    1.19e+04\n",
       "HalfBath       -442.1383   2646.293     -0.167      0.867   -5628.777    4744.500\n",
       "BedroomAbvGr  -4330.9846   2332.992     -1.856      0.063   -8903.565     241.595\n",
       "KitchenAbvGr  -1.592e+04   4921.623     -3.235      0.001   -2.56e+04   -6275.133\n",
       "KitchenQual   -8564.9779   1736.768     -4.932      0.000    -1.2e+04   -5160.975\n",
       "TotRmsAbvGrd   3007.9950   2107.222      1.427      0.153   -1122.084    7138.074\n",
       "Functional     4406.8272    859.434      5.128      0.000    2722.368    6091.286\n",
       "Fireplaces     2070.5893   3286.722      0.630      0.529   -4371.268    8512.447\n",
       "FireplaceQu   -1856.7442   1566.436     -1.185      0.236   -4926.903    1213.415\n",
       "GarageType     1368.9922    650.962      2.103      0.035      93.130    2644.854\n",
       "GarageFinish    661.9706   1169.453      0.566      0.571   -1630.114    2954.055\n",
       "GarageCars     1.251e+04   7001.171      1.786      0.074   -1216.119    2.62e+04\n",
       "GarageArea       -4.3975     20.944     -0.210      0.834     -45.446      36.651\n",
       "GarageQual      684.1097   1500.759      0.456      0.649   -2257.324    3625.544\n",
       "GarageCond     2826.7130   1617.993      1.747      0.081    -344.496    5997.922\n",
       "PavedDrive     1183.9191   1523.026      0.777      0.437   -1801.156    4168.995\n",
       "WoodDeckSF       19.9621      9.100      2.194      0.028       2.127      37.797\n",
       "OpenPorchSF     -16.7477     21.567     -0.777      0.437     -59.018      25.522\n",
       "EnclosedPorch     0.9136     17.243      0.053      0.958     -32.882      34.709\n",
       "3SsnPorch        23.5986     24.983      0.945      0.345     -25.367      72.564\n",
       "ScreenPorch      53.5026     22.241      2.406      0.016       9.912      97.093\n",
       "PoolArea        -35.7494    114.309     -0.313      0.754    -259.791     188.292\n",
       "MiscVal           0.0362      1.424      0.025      0.980      -2.756       2.828\n",
       "MoSold         -266.6901    350.728     -0.760      0.447    -954.104     420.724\n",
       "YrSold         -973.0267    594.080     -1.638      0.101   -2137.401     191.348\n",
       "SaleType       -672.1743    521.996     -1.288      0.198   -1695.268     350.919\n",
       "SaleCondition  2805.8166   1080.208      2.597      0.009     688.647    4922.986\n",
       "==============================================================================\n",
       "Omnibus:                      713.445   Durbin-Watson:                   1.944\n",
       "Prob(Omnibus):                  0.000   Jarque-Bera (JB):           133129.565\n",
       "Skew:                          -1.151   Prob(JB):                         0.00\n",
       "Kurtosis:                      49.724   Cond. No.                     1.31e+16\n",
       "==============================================================================\n",
       "\n",
       "Notes:\n",
       "[1] Standard Errors are heteroscedasticity robust (HC2)\n",
       "[2] The smallest eigenvalue is 1.87e-21. This might indicate that there are\n",
       "strong multicollinearity problems or that the design matrix is singular.\n",
       "\"\"\""
      ]
     },
     "execution_count": 1385,
     "metadata": {},
     "output_type": "execute_result"
    }
   ],
   "source": [
    "est = sm.OLS(price, sm.add_constant(features)).fit(cov_type='HC2')\n",
    "est.summary()"
   ]
  },
  {
   "cell_type": "code",
   "execution_count": 1386,
   "metadata": {},
   "outputs": [
    {
     "data": {
      "text/html": [
       "<div>\n",
       "<style scoped>\n",
       "    .dataframe tbody tr th:only-of-type {\n",
       "        vertical-align: middle;\n",
       "    }\n",
       "\n",
       "    .dataframe tbody tr th {\n",
       "        vertical-align: top;\n",
       "    }\n",
       "\n",
       "    .dataframe thead th {\n",
       "        text-align: right;\n",
       "    }\n",
       "</style>\n",
       "<table border=\"1\" class=\"dataframe\">\n",
       "  <thead>\n",
       "    <tr style=\"text-align: right;\">\n",
       "      <th></th>\n",
       "      <th>scores</th>\n",
       "      <th>features</th>\n",
       "    </tr>\n",
       "  </thead>\n",
       "  <tbody>\n",
       "    <tr>\n",
       "      <th>0</th>\n",
       "      <td>1.011497e+07</td>\n",
       "      <td>LotArea</td>\n",
       "    </tr>\n",
       "    <tr>\n",
       "      <th>63</th>\n",
       "      <td>6.253332e+06</td>\n",
       "      <td>MiscVal</td>\n",
       "    </tr>\n",
       "    <tr>\n",
       "      <th>36</th>\n",
       "      <td>4.648841e+05</td>\n",
       "      <td>2ndFlrSF</td>\n",
       "    </tr>\n",
       "    <tr>\n",
       "      <th>26</th>\n",
       "      <td>3.999851e+05</td>\n",
       "      <td>BsmtFinSF1</td>\n",
       "    </tr>\n",
       "    <tr>\n",
       "      <th>62</th>\n",
       "      <td>3.835642e+05</td>\n",
       "      <td>PoolArea</td>\n",
       "    </tr>\n",
       "    <tr>\n",
       "      <th>28</th>\n",
       "      <td>3.688827e+05</td>\n",
       "      <td>BsmtFinSF2</td>\n",
       "    </tr>\n",
       "    <tr>\n",
       "      <th>29</th>\n",
       "      <td>2.747512e+05</td>\n",
       "      <td>BsmtUnfSF</td>\n",
       "    </tr>\n",
       "    <tr>\n",
       "      <th>37</th>\n",
       "      <td>2.448810e+05</td>\n",
       "      <td>LowQualFinSF</td>\n",
       "    </tr>\n",
       "    <tr>\n",
       "      <th>38</th>\n",
       "      <td>1.968501e+05</td>\n",
       "      <td>GrLivArea</td>\n",
       "    </tr>\n",
       "    <tr>\n",
       "      <th>30</th>\n",
       "      <td>1.747065e+05</td>\n",
       "      <td>TotalBsmtSF</td>\n",
       "    </tr>\n",
       "    <tr>\n",
       "      <th>60</th>\n",
       "      <td>1.549360e+05</td>\n",
       "      <td>3SsnPorch</td>\n",
       "    </tr>\n",
       "    <tr>\n",
       "      <th>61</th>\n",
       "      <td>1.366295e+05</td>\n",
       "      <td>ScreenPorch</td>\n",
       "    </tr>\n",
       "    <tr>\n",
       "      <th>57</th>\n",
       "      <td>1.298338e+05</td>\n",
       "      <td>WoodDeckSF</td>\n",
       "    </tr>\n",
       "    <tr>\n",
       "      <th>35</th>\n",
       "      <td>1.238098e+05</td>\n",
       "      <td>1stFlrSF</td>\n",
       "    </tr>\n",
       "    <tr>\n",
       "      <th>59</th>\n",
       "      <td>9.888657e+04</td>\n",
       "      <td>EnclosedPorch</td>\n",
       "    </tr>\n",
       "    <tr>\n",
       "      <th>53</th>\n",
       "      <td>9.618405e+04</td>\n",
       "      <td>GarageArea</td>\n",
       "    </tr>\n",
       "    <tr>\n",
       "      <th>58</th>\n",
       "      <td>7.436257e+04</td>\n",
       "      <td>OpenPorchSF</td>\n",
       "    </tr>\n",
       "    <tr>\n",
       "      <th>7</th>\n",
       "      <td>2.194267e+03</td>\n",
       "      <td>Neighborhood</td>\n",
       "    </tr>\n",
       "    <tr>\n",
       "      <th>10</th>\n",
       "      <td>1.951478e+03</td>\n",
       "      <td>BldgType</td>\n",
       "    </tr>\n",
       "    <tr>\n",
       "      <th>32</th>\n",
       "      <td>1.483145e+03</td>\n",
       "      <td>HeatingQC</td>\n",
       "    </tr>\n",
       "    <tr>\n",
       "      <th>50</th>\n",
       "      <td>1.264930e+03</td>\n",
       "      <td>GarageType</td>\n",
       "    </tr>\n",
       "    <tr>\n",
       "      <th>6</th>\n",
       "      <td>8.897938e+02</td>\n",
       "      <td>LandSlope</td>\n",
       "    </tr>\n",
       "    <tr>\n",
       "      <th>25</th>\n",
       "      <td>8.363777e+02</td>\n",
       "      <td>BsmtFinType1</td>\n",
       "    </tr>\n",
       "    <tr>\n",
       "      <th>18</th>\n",
       "      <td>8.086199e+02</td>\n",
       "      <td>Exterior2nd</td>\n",
       "    </tr>\n",
       "    <tr>\n",
       "      <th>2</th>\n",
       "      <td>8.029729e+02</td>\n",
       "      <td>LotShape</td>\n",
       "    </tr>\n",
       "    <tr>\n",
       "      <th>64</th>\n",
       "      <td>7.429758e+02</td>\n",
       "      <td>MoSold</td>\n",
       "    </tr>\n",
       "    <tr>\n",
       "      <th>17</th>\n",
       "      <td>6.960259e+02</td>\n",
       "      <td>Exterior1st</td>\n",
       "    </tr>\n",
       "    <tr>\n",
       "      <th>51</th>\n",
       "      <td>6.000102e+02</td>\n",
       "      <td>GarageFinish</td>\n",
       "    </tr>\n",
       "    <tr>\n",
       "      <th>40</th>\n",
       "      <td>5.972246e+02</td>\n",
       "      <td>BsmtHalfBath</td>\n",
       "    </tr>\n",
       "    <tr>\n",
       "      <th>48</th>\n",
       "      <td>5.705073e+02</td>\n",
       "      <td>Fireplaces</td>\n",
       "    </tr>\n",
       "  </tbody>\n",
       "</table>\n",
       "</div>"
      ],
      "text/plain": [
       "          scores       features\n",
       "0   1.011497e+07        LotArea\n",
       "63  6.253332e+06        MiscVal\n",
       "36  4.648841e+05       2ndFlrSF\n",
       "26  3.999851e+05     BsmtFinSF1\n",
       "62  3.835642e+05       PoolArea\n",
       "28  3.688827e+05     BsmtFinSF2\n",
       "29  2.747512e+05      BsmtUnfSF\n",
       "37  2.448810e+05   LowQualFinSF\n",
       "38  1.968501e+05      GrLivArea\n",
       "30  1.747065e+05    TotalBsmtSF\n",
       "60  1.549360e+05      3SsnPorch\n",
       "61  1.366295e+05    ScreenPorch\n",
       "57  1.298338e+05     WoodDeckSF\n",
       "35  1.238098e+05       1stFlrSF\n",
       "59  9.888657e+04  EnclosedPorch\n",
       "53  9.618405e+04     GarageArea\n",
       "58  7.436257e+04    OpenPorchSF\n",
       "7   2.194267e+03   Neighborhood\n",
       "10  1.951478e+03       BldgType\n",
       "32  1.483145e+03      HeatingQC\n",
       "50  1.264930e+03     GarageType\n",
       "6   8.897938e+02      LandSlope\n",
       "25  8.363777e+02   BsmtFinType1\n",
       "18  8.086199e+02    Exterior2nd\n",
       "2   8.029729e+02       LotShape\n",
       "64  7.429758e+02         MoSold\n",
       "17  6.960259e+02    Exterior1st\n",
       "51  6.000102e+02   GarageFinish\n",
       "40  5.972246e+02   BsmtHalfBath\n",
       "48  5.705073e+02     Fireplaces"
      ]
     },
     "execution_count": 1386,
     "metadata": {},
     "output_type": "execute_result"
    }
   ],
   "source": [
    "#finding the most effective features on predicting the target value prediction throught  SelectKBest from sklearn library\n",
    "bestfeatures = SelectKBest(score_func=chi2, k=10)\n",
    "fit = bestfeatures.fit(features, price)\n",
    "dfscores = pd.DataFrame(fit.scores_)\n",
    "dfcolumns = pd.DataFrame(features.columns)\n",
    "features_scores = pd.concat((dfscores, dfcolumns), axis=1)\n",
    "features_scores.columns = ['scores', 'features']\n",
    "x = pd.DataFrame(features_scores.nlargest(30, 'scores'))\n",
    "x"
   ]
  },
  {
   "cell_type": "code",
   "execution_count": 1387,
   "metadata": {},
   "outputs": [],
   "source": [
    "hp['LotArea'] = np.log(hp.LotArea + hp.PoolArea)**3\n",
    "#hp['BldgType'] = hp.BldgType * hp.\n"
   ]
  },
  {
   "cell_type": "code",
   "execution_count": 1388,
   "metadata": {},
   "outputs": [],
   "source": [
    "best_features = hp[['LotArea', '2ndFlrSF', 'PoolArea', 'Neighborhood', 'BsmtUnfSF',\n",
    "                    'LowQualFinSF', 'GrLivArea','TotalBsmtSF','HeatingQC', 'ScreenPorch',\n",
    "                    'WoodDeckSF', '1stFlrSF', 'EnclosedPorch', 'GarageArea', 'LotShape']]\n",
    "price  = hp.SalePrice"
   ]
  },
  {
   "cell_type": "code",
   "execution_count": 1389,
   "metadata": {},
   "outputs": [
    {
     "data": {
      "text/html": [
       "<table class=\"simpletable\">\n",
       "<caption>OLS Regression Results</caption>\n",
       "<tr>\n",
       "  <th>Dep. Variable:</th>        <td>SalePrice</td>    <th>  R-squared (uncentered):</th>      <td>   0.954</td> \n",
       "</tr>\n",
       "<tr>\n",
       "  <th>Model:</th>                   <td>OLS</td>       <th>  Adj. R-squared (uncentered):</th> <td>   0.954</td> \n",
       "</tr>\n",
       "<tr>\n",
       "  <th>Method:</th>             <td>Least Squares</td>  <th>  F-statistic:       </th>          <td>   2159.</td> \n",
       "</tr>\n",
       "<tr>\n",
       "  <th>Date:</th>             <td>Tue, 28 Jun 2022</td> <th>  Prob (F-statistic):</th>           <td>  0.00</td>  \n",
       "</tr>\n",
       "<tr>\n",
       "  <th>Time:</th>                 <td>21:02:27</td>     <th>  Log-Likelihood:    </th>          <td> -17621.</td> \n",
       "</tr>\n",
       "<tr>\n",
       "  <th>No. Observations:</th>      <td>  1460</td>      <th>  AIC:               </th>          <td>3.527e+04</td>\n",
       "</tr>\n",
       "<tr>\n",
       "  <th>Df Residuals:</th>          <td>  1446</td>      <th>  BIC:               </th>          <td>3.534e+04</td>\n",
       "</tr>\n",
       "<tr>\n",
       "  <th>Df Model:</th>              <td>    14</td>      <th>                     </th>              <td> </td>    \n",
       "</tr>\n",
       "<tr>\n",
       "  <th>Covariance Type:</th>      <td>nonrobust</td>    <th>                     </th>              <td> </td>    \n",
       "</tr>\n",
       "</table>\n",
       "<table class=\"simpletable\">\n",
       "<tr>\n",
       "        <td></td>           <th>coef</th>     <th>std err</th>      <th>t</th>      <th>P>|t|</th>  <th>[0.025</th>    <th>0.975]</th>  \n",
       "</tr>\n",
       "<tr>\n",
       "  <th>LotArea</th>       <td>   16.0951</td> <td>    6.688</td> <td>    2.406</td> <td> 0.016</td> <td>    2.975</td> <td>   29.215</td>\n",
       "</tr>\n",
       "<tr>\n",
       "  <th>2ndFlrSF</th>      <td>   38.5184</td> <td>    6.294</td> <td>    6.120</td> <td> 0.000</td> <td>   26.172</td> <td>   50.865</td>\n",
       "</tr>\n",
       "<tr>\n",
       "  <th>PoolArea</th>      <td>  -56.7582</td> <td>   28.363</td> <td>   -2.001</td> <td> 0.046</td> <td> -112.395</td> <td>   -1.122</td>\n",
       "</tr>\n",
       "<tr>\n",
       "  <th>Neighborhood</th>  <td>  691.7011</td> <td>  186.806</td> <td>    3.703</td> <td> 0.000</td> <td>  325.260</td> <td> 1058.142</td>\n",
       "</tr>\n",
       "<tr>\n",
       "  <th>BsmtUnfSF</th>     <td>  -13.2831</td> <td>    2.841</td> <td>   -4.676</td> <td> 0.000</td> <td>  -18.856</td> <td>   -7.710</td>\n",
       "</tr>\n",
       "<tr>\n",
       "  <th>LowQualFinSF</th>  <td>  -44.5826</td> <td>   17.497</td> <td>   -2.548</td> <td> 0.011</td> <td>  -78.905</td> <td>  -10.261</td>\n",
       "</tr>\n",
       "<tr>\n",
       "  <th>GrLivArea</th>     <td>   27.4796</td> <td>    5.925</td> <td>    4.638</td> <td> 0.000</td> <td>   15.858</td> <td>   39.101</td>\n",
       "</tr>\n",
       "<tr>\n",
       "  <th>TotalBsmtSF</th>   <td>   49.1209</td> <td>    4.774</td> <td>   10.289</td> <td> 0.000</td> <td>   39.756</td> <td>   58.486</td>\n",
       "</tr>\n",
       "<tr>\n",
       "  <th>HeatingQC</th>     <td>-8146.4701</td> <td>  678.767</td> <td>  -12.002</td> <td> 0.000</td> <td>-9477.944</td> <td>-6814.996</td>\n",
       "</tr>\n",
       "<tr>\n",
       "  <th>ScreenPorch</th>   <td>   60.6969</td> <td>   20.409</td> <td>    2.974</td> <td> 0.003</td> <td>   20.662</td> <td>  100.732</td>\n",
       "</tr>\n",
       "<tr>\n",
       "  <th>WoodDeckSF</th>    <td>   45.5843</td> <td>    9.551</td> <td>    4.773</td> <td> 0.000</td> <td>   26.850</td> <td>   64.319</td>\n",
       "</tr>\n",
       "<tr>\n",
       "  <th>1stFlrSF</th>      <td>   33.5437</td> <td>    7.084</td> <td>    4.735</td> <td> 0.000</td> <td>   19.647</td> <td>   47.440</td>\n",
       "</tr>\n",
       "<tr>\n",
       "  <th>EnclosedPorch</th> <td>  -59.3838</td> <td>   18.774</td> <td>   -3.163</td> <td> 0.002</td> <td>  -96.212</td> <td>  -22.556</td>\n",
       "</tr>\n",
       "<tr>\n",
       "  <th>GarageArea</th>    <td>   78.5922</td> <td>    6.535</td> <td>   12.026</td> <td> 0.000</td> <td>   65.772</td> <td>   91.412</td>\n",
       "</tr>\n",
       "<tr>\n",
       "  <th>LotShape</th>      <td>-3289.5525</td> <td>  752.317</td> <td>   -4.373</td> <td> 0.000</td> <td>-4765.303</td> <td>-1813.803</td>\n",
       "</tr>\n",
       "</table>\n",
       "<table class=\"simpletable\">\n",
       "<tr>\n",
       "  <th>Omnibus:</th>       <td>700.332</td> <th>  Durbin-Watson:     </th> <td>   2.001</td> \n",
       "</tr>\n",
       "<tr>\n",
       "  <th>Prob(Omnibus):</th> <td> 0.000</td>  <th>  Jarque-Bera (JB):  </th> <td>77307.910</td>\n",
       "</tr>\n",
       "<tr>\n",
       "  <th>Skew:</th>          <td>-1.249</td>  <th>  Prob(JB):          </th> <td>    0.00</td> \n",
       "</tr>\n",
       "<tr>\n",
       "  <th>Kurtosis:</th>      <td>38.561</td>  <th>  Cond. No.          </th> <td>2.25e+16</td> \n",
       "</tr>\n",
       "</table><br/><br/>Notes:<br/>[1] R² is computed without centering (uncentered) since the model does not contain a constant.<br/>[2] Standard Errors assume that the covariance matrix of the errors is correctly specified.<br/>[3] The smallest eigenvalue is 1.89e-23. This might indicate that there are<br/>strong multicollinearity problems or that the design matrix is singular."
      ],
      "text/plain": [
       "<class 'statsmodels.iolib.summary.Summary'>\n",
       "\"\"\"\n",
       "                                 OLS Regression Results                                \n",
       "=======================================================================================\n",
       "Dep. Variable:              SalePrice   R-squared (uncentered):                   0.954\n",
       "Model:                            OLS   Adj. R-squared (uncentered):              0.954\n",
       "Method:                 Least Squares   F-statistic:                              2159.\n",
       "Date:                Tue, 28 Jun 2022   Prob (F-statistic):                        0.00\n",
       "Time:                        21:02:27   Log-Likelihood:                         -17621.\n",
       "No. Observations:                1460   AIC:                                  3.527e+04\n",
       "Df Residuals:                    1446   BIC:                                  3.534e+04\n",
       "Df Model:                          14                                                  \n",
       "Covariance Type:            nonrobust                                                  \n",
       "=================================================================================\n",
       "                    coef    std err          t      P>|t|      [0.025      0.975]\n",
       "---------------------------------------------------------------------------------\n",
       "LotArea          16.0951      6.688      2.406      0.016       2.975      29.215\n",
       "2ndFlrSF         38.5184      6.294      6.120      0.000      26.172      50.865\n",
       "PoolArea        -56.7582     28.363     -2.001      0.046    -112.395      -1.122\n",
       "Neighborhood    691.7011    186.806      3.703      0.000     325.260    1058.142\n",
       "BsmtUnfSF       -13.2831      2.841     -4.676      0.000     -18.856      -7.710\n",
       "LowQualFinSF    -44.5826     17.497     -2.548      0.011     -78.905     -10.261\n",
       "GrLivArea        27.4796      5.925      4.638      0.000      15.858      39.101\n",
       "TotalBsmtSF      49.1209      4.774     10.289      0.000      39.756      58.486\n",
       "HeatingQC     -8146.4701    678.767    -12.002      0.000   -9477.944   -6814.996\n",
       "ScreenPorch      60.6969     20.409      2.974      0.003      20.662     100.732\n",
       "WoodDeckSF       45.5843      9.551      4.773      0.000      26.850      64.319\n",
       "1stFlrSF         33.5437      7.084      4.735      0.000      19.647      47.440\n",
       "EnclosedPorch   -59.3838     18.774     -3.163      0.002     -96.212     -22.556\n",
       "GarageArea       78.5922      6.535     12.026      0.000      65.772      91.412\n",
       "LotShape      -3289.5525    752.317     -4.373      0.000   -4765.303   -1813.803\n",
       "==============================================================================\n",
       "Omnibus:                      700.332   Durbin-Watson:                   2.001\n",
       "Prob(Omnibus):                  0.000   Jarque-Bera (JB):            77307.910\n",
       "Skew:                          -1.249   Prob(JB):                         0.00\n",
       "Kurtosis:                      38.561   Cond. No.                     2.25e+16\n",
       "==============================================================================\n",
       "\n",
       "Notes:\n",
       "[1] R² is computed without centering (uncentered) since the model does not contain a constant.\n",
       "[2] Standard Errors assume that the covariance matrix of the errors is correctly specified.\n",
       "[3] The smallest eigenvalue is 1.89e-23. This might indicate that there are\n",
       "strong multicollinearity problems or that the design matrix is singular.\n",
       "\"\"\""
      ]
     },
     "execution_count": 1389,
     "metadata": {},
     "output_type": "execute_result"
    }
   ],
   "source": [
    "est = sm.OLS(price, best_features).fit()\n",
    "est.summary()"
   ]
  },
  {
   "cell_type": "code",
   "execution_count": 1390,
   "metadata": {},
   "outputs": [],
   "source": [
    "ypred = est.predict(best_features)"
   ]
  },
  {
   "cell_type": "code",
   "execution_count": 1334,
   "metadata": {},
   "outputs": [
    {
     "name": "stderr",
     "output_type": "stream",
     "text": [
      "C:\\Users\\zmaso\\anaconda3\\lib\\site-packages\\seaborn\\_decorators.py:36: FutureWarning: Pass the following variables as keyword args: x, y. From version 0.12, the only valid positional argument will be `data`, and passing other arguments without an explicit keyword will result in an error or misinterpretation.\n",
      "  warnings.warn(\n"
     ]
    },
    {
     "data": {
      "text/plain": [
       "<AxesSubplot:xlabel='SalePrice'>"
      ]
     },
     "execution_count": 1334,
     "metadata": {},
     "output_type": "execute_result"
    },
    {
     "data": {
      "image/png": "[encoded data removed]",
      "text/plain": [
       "<Figure size 432x288 with 1 Axes>"
      ]
     },
     "metadata": {
      "needs_background": "light"
     },
     "output_type": "display_data"
    }
   ],
   "source": [
    "sns.scatterplot(price, ypred)"
   ]
  },
  {
   "cell_type": "markdown",
   "metadata": {},
   "source": [
    "    According the regression, all pvalue are in the range. the scatterplot also\n",
    "    shows the roughly linear relatonship between predicted target value and true value which is good.\n",
    "    Althought the r_squared denotes the fine goodness of fitting.\n",
    "    the multicolinearity also is the main problom not solved!!\n",
    "    the coefients are high. it could be solved through regularization as shown below with a good score.\n",
    "    I don't have any idea about this much Error,  whether is it normal?\n",
    "    two regression hae been done through Ridge and LinearRegression.\n",
    "    "
   ]
  },
  {
   "cell_type": "code",
   "execution_count": 1343,
   "metadata": {},
   "outputs": [
    {
     "name": "stderr",
     "output_type": "stream",
     "text": [
      "C:\\Users\\zmaso\\anaconda3\\lib\\site-packages\\seaborn\\distributions.py:2557: FutureWarning: `distplot` is a deprecated function and will be removed in a future version. Please adapt your code to use either `displot` (a figure-level function with similar flexibility) or `histplot` (an axes-level function for histograms).\n",
      "  warnings.warn(msg, FutureWarning)\n"
     ]
    },
    {
     "name": "stdout",
     "output_type": "stream",
     "text": [
      "medel's Accuracy(linear Regressioon): Score: 0.8147818236982977 mean error: 19996.18497317676 mean squared error: 33865.53863198347\n"
     ]
    },
    {
     "data": {
      "image/png": "[encoded data removed]",
      "text/plain": [
       "<Figure size 432x288 with 1 Axes>"
      ]
     },
     "metadata": {
      "needs_background": "light"
     },
     "output_type": "display_data"
    }
   ],
   "source": [
    "Lasso_regression(features, price, .4)"
   ]
  },
  {
   "cell_type": "code",
   "execution_count": 1342,
   "metadata": {},
   "outputs": [
    {
     "name": "stdout",
     "output_type": "stream",
     "text": [
      "medel's Accuracy(linear Regressioon): Score: 0.7173998636944485 mean error: 26002.826510578514 mean square error: 39005.587070096924\n"
     ]
    },
    {
     "name": "stderr",
     "output_type": "stream",
     "text": [
      "C:\\Users\\zmaso\\anaconda3\\lib\\site-packages\\seaborn\\distributions.py:2557: FutureWarning: `distplot` is a deprecated function and will be removed in a future version. Please adapt your code to use either `displot` (a figure-level function with similar flexibility) or `histplot` (an axes-level function for histograms).\n",
      "  warnings.warn(msg, FutureWarning)\n"
     ]
    },
    {
     "data": {
      "text/plain": [
       "[('LotArea', 7.037992531877036),\n",
       " ('2ndFlrSF', 38.288319481680254),\n",
       " ('PoolArea', -82.77254729906498),\n",
       " ('Neighborhood', 783.1912609262871),\n",
       " ('BsmtUnfSF', -11.873223648397136),\n",
       " ('LowQualFinSF', -41.92818027367242),\n",
       " ('GrLivArea', 31.226603335939252),\n",
       " ('TotalBsmtSF', 47.3189801577969),\n",
       " ('HeatingQC', -8233.486189180165),\n",
       " ('ScreenPorch', 52.73019714570185),\n",
       " ('WoodDeckSF', 51.61160929638796),\n",
       " ('1stFlrSF', 34.866464127931884),\n",
       " ('EnclosedPorch', -68.53509012690897),\n",
       " ('GarageArea', 76.0588162772241),\n",
       " ('LotShape', -3444.655847406622)]"
      ]
     },
     "execution_count": 1342,
     "metadata": {},
     "output_type": "execute_result"
    },
    {
     "data": {
      "image/png": "[encoded data removed]",
      "text/plain": [
       "<Figure size 432x288 with 1 Axes>"
      ]
     },
     "metadata": {
      "needs_background": "light"
     },
     "output_type": "display_data"
    }
   ],
   "source": [
    "linear_regression(best_features, price)"
   ]
  },
  {
   "cell_type": "code",
   "execution_count": null,
   "metadata": {},
   "outputs": [],
   "source": []
  },
  {
   "cell_type": "code",
   "execution_count": null,
   "metadata": {},
   "outputs": [],
   "source": []
  },
  {
   "cell_type": "code",
   "execution_count": null,
   "metadata": {},
   "outputs": [],
   "source": []
  },
  {
   "cell_type": "code",
   "execution_count": null,
   "metadata": {},
   "outputs": [],
   "source": []
  },
  {
   "cell_type": "code",
   "execution_count": null,
   "metadata": {},
   "outputs": [],
   "source": []
  },
  {
   "cell_type": "code",
   "execution_count": null,
   "metadata": {},
   "outputs": [],
   "source": []
  },
  {
   "cell_type": "code",
   "execution_count": null,
   "metadata": {},
   "outputs": [],
   "source": []
  },
  {
   "cell_type": "code",
   "execution_count": null,
   "metadata": {},
   "outputs": [],
   "source": []
  },
  {
   "cell_type": "code",
   "execution_count": null,
   "metadata": {},
   "outputs": [],
   "source": []
  },
  {
   "cell_type": "code",
   "execution_count": null,
   "metadata": {},
   "outputs": [],
   "source": []
  },
  {
   "cell_type": "code",
   "execution_count": null,
   "metadata": {},
   "outputs": [],
   "source": []
  },
  {
   "cell_type": "code",
   "execution_count": null,
   "metadata": {},
   "outputs": [],
   "source": []
  },
  {
   "cell_type": "code",
   "execution_count": null,
   "metadata": {},
   "outputs": [],
   "source": []
  },
  {
   "cell_type": "code",
   "execution_count": null,
   "metadata": {},
   "outputs": [],
   "source": []
  },
  {
   "cell_type": "code",
   "execution_count": null,
   "metadata": {},
   "outputs": [],
   "source": []
  },
  {
   "cell_type": "code",
   "execution_count": null,
   "metadata": {},
   "outputs": [],
   "source": []
  },
  {
   "cell_type": "code",
   "execution_count": null,
   "metadata": {},
   "outputs": [],
   "source": []
  }
 ],
 "metadata": {
  "anaconda-cloud": {},
  "colab": {
   "name": "workshop.ipynb",
   "provenance": []
  },
  "kernelspec": {
   "display_name": "Python 3",
   "language": "python",
   "name": "python3"
  },
  "language_info": {
   "codemirror_mode": {
    "name": "ipython",
    "version": 3
   },
   "file_extension": ".py",
   "mimetype": "text/x-python",
   "name": "python",
   "nbconvert_exporter": "python",
   "pygments_lexer": "ipython3",
   "version": "3.8.8"
  }
 },
 "nbformat": 4,
 "nbformat_minor": 1
}
