{
 "cells": [
  {
   "cell_type": "markdown",
   "id": "f4cc89ad",
   "metadata": {},
   "source": [
    "# Predictive Modelling - Neural Networks"
   ]
  },
  {
   "cell_type": "markdown",
   "id": "fb209dd6",
   "metadata": {},
   "source": [
    "In this workshop you will be building your first Neural Network! Because this workshops is intened to be a walkthrough, please make sure to follow and answer each of the questions in order."
   ]
  },
  {
   "cell_type": "code",
   "execution_count": 49,
   "id": "73468ef8",
   "metadata": {},
   "outputs": [],
   "source": [
    "import numpy as np\n",
    "import pandas as pd\n",
    "import matplotlib.pyplot as plt\n",
    "from tensorflow import keras\n",
    "from sklearn.model_selection import train_test_split\n",
    "from tensorflow.keras.layers import Dense, BatchNormalization, Dropout, Activation\n",
    "from tensorflow.keras import initializers"
   ]
  },
  {
   "cell_type": "markdown",
   "id": "74fb2b8d",
   "metadata": {},
   "source": [
    "### Exercise 1: Data Generation\n",
    "\n",
    "- Create **2** arrays of **2000** equally spaced points between **-10** and **10**. Assign one to the variable **X** and the other to variable **y**\n",
    "- Create **2** arrays of **2000** random points *(uniformly distributed)* between **-1.8** and **1.8** and add one to **X** and one to **y** (this will add noise to your data points)\n",
    "- Plot your points"
   ]
  },
  {
   "cell_type": "code",
   "execution_count": 54,
   "id": "fa4688ec",
   "metadata": {},
   "outputs": [
    {
     "data": {
      "text/plain": [
       "((2000,), (2000,))"
      ]
     },
     "execution_count": 54,
     "metadata": {},
     "output_type": "execute_result"
    }
   ],
   "source": [
    "# Ex.1 \n",
    "x = np.linspace(-10, 10, 2000)\n",
    "y = np.linspace(-10, 10, 2000)\n",
    "noise = np.random.uniform(-1.8, 1.8, 2000)\n",
    "\n",
    "x = x + noise\n",
    "y = y + noise\n",
    "x.shape, y.shape, "
   ]
  },
  {
   "cell_type": "code",
   "execution_count": 61,
   "id": "13ca3928",
   "metadata": {},
   "outputs": [
    {
     "data": {
      "text/plain": [
       "<AxesSubplot:xlabel='x', ylabel='y'>"
      ]
     },
     "execution_count": 61,
     "metadata": {},
     "output_type": "execute_result"
    },
    {
     "data": {
      "image/png": "[encoded data removed]",
      "text/plain": [
       "<Figure size 432x288 with 1 Axes>"
      ]
     },
     "metadata": {
      "needs_background": "light"
     },
     "output_type": "display_data"
    }
   ],
   "source": [
    "df =pd.DataFrame(dict(x=x, y=y))\n",
    "df.plot(kind='scatter', x='x', y='y')"
   ]
  },
  {
   "cell_type": "code",
   "execution_count": 57,
   "id": "ac5c07fd",
   "metadata": {},
   "outputs": [
    {
     "data": {
      "text/plain": [
       "<matplotlib.collections.PathCollection at 0x201186064c0>"
      ]
     },
     "execution_count": 57,
     "metadata": {},
     "output_type": "execute_result"
    },
    {
     "data": {
      "image/png": "[encoded data removed]",
      "text/plain": [
       "<Figure size 1080x432 with 1 Axes>"
      ]
     },
     "metadata": {
      "needs_background": "light"
     },
     "output_type": "display_data"
    }
   ],
   "source": [
    "plt.figure(figsize=(15, 6))\n",
    "plt.scatter(x, y, s=0.5)\n"
   ]
  },
  {
   "cell_type": "code",
   "execution_count": 36,
   "id": "25a14b03",
   "metadata": {},
   "outputs": [
    {
     "data": {
      "text/plain": [
       "(2000, 1)"
      ]
     },
     "execution_count": 36,
     "metadata": {},
     "output_type": "execute_result"
    }
   ],
   "source": [
    "x = np.expand_dims(x, axis=1)\n",
    "x.shape"
   ]
  },
  {
   "cell_type": "markdown",
   "id": "eb365ed9",
   "metadata": {},
   "source": [
    "### Exercise 2: Your Model\n",
    "\n",
    "Compile a simple neural network comprising of **1** *hidden layer* with **3** neurons. Don't forget your activation function!\n",
    "\n",
    "**Note:** This is a regression problem:\n",
    "- The output layer does not require an activation function\n",
    "- You will need a **regression** [loss function](https://keras.io/api/losses/) & [metrics](https://keras.io/api/metrics/)"
   ]
  },
  {
   "cell_type": "code",
   "execution_count": 37,
   "id": "184503f0",
   "metadata": {},
   "outputs": [],
   "source": [
    "# Batchsize = 128\n",
    "epochs = 15\n",
    "# num_classes = 1\n"
   ]
  },
  {
   "cell_type": "code",
   "execution_count": 38,
   "id": "1ea79018",
   "metadata": {},
   "outputs": [
    {
     "name": "stdout",
     "output_type": "stream",
     "text": [
      "Model: \"sequential_6\"\n",
      "_________________________________________________________________\n",
      " Layer (type)                Output Shape              Param #   \n",
      "=================================================================\n",
      " dense_17 (Dense)            (None, 3)                 6         \n",
      "                                                                 \n",
      " dense_18 (Dense)            (None, 1)                 4         \n",
      "                                                                 \n",
      "=================================================================\n",
      "Total params: 10\n",
      "Trainable params: 10\n",
      "Non-trainable params: 0\n",
      "_________________________________________________________________\n"
     ]
    }
   ],
   "source": [
    "model = keras.Sequential(\n",
    "    [\n",
    "        # Input layer\n",
    "        keras.Input(shape=(1)),\n",
    "        # Hidden layers\n",
    "        Dense(3, activation=\"relu\"),\n",
    "        Dense(1)])\n",
    "model.summary()"
   ]
  },
  {
   "cell_type": "code",
   "execution_count": 39,
   "id": "510947ca",
   "metadata": {},
   "outputs": [],
   "source": [
    "model.compile(loss = \"mean_squared_error\", metrics=['RootMeanSquaredError'])"
   ]
  },
  {
   "cell_type": "markdown",
   "id": "7e0f551b",
   "metadata": {},
   "source": [
    "### Exercise 3: Train, Validation & Holdout sets\n",
    "\n",
    "- Isolate a small portion of your data to test your model's performance after training *(Train-Test-Split)*\n",
    "- Fit your model. Choose the appropriate values for your **epochs** and **batch sizes**. Set your **validation_split** to *20%*"
   ]
  },
  {
   "cell_type": "code",
   "execution_count": 40,
   "id": "97de2454",
   "metadata": {},
   "outputs": [],
   "source": [
    "xtrain, xtest, ytrain, ytest = train_test_split(x, y, test_size=.2, random_state=101)\n",
    "# convert class vectors to one-hot class matrices\n",
    "# ytrain = keras.utils.to_categorical(ytrain)\n",
    "# ytest = keras.utils.to_categorical(ytest)\n"
   ]
  },
  {
   "cell_type": "code",
   "execution_count": 41,
   "id": "7caf6b4a",
   "metadata": {},
   "outputs": [
    {
     "data": {
      "text/plain": [
       "((1600, 1), (1600,))"
      ]
     },
     "execution_count": 41,
     "metadata": {},
     "output_type": "execute_result"
    }
   ],
   "source": [
    "xtrain.shape, ytrain.shape"
   ]
  },
  {
   "cell_type": "code",
   "execution_count": 42,
   "id": "a64bb4e4",
   "metadata": {},
   "outputs": [
    {
     "name": "stdout",
     "output_type": "stream",
     "text": [
      "Epoch 1/15\n",
      "40/40 [==============================] - 1s 4ms/step - loss: 25.9079 - root_mean_squared_error: 5.0900 - val_loss: 26.0205 - val_root_mean_squared_error: 5.1010\n",
      "Epoch 2/15\n",
      "40/40 [==============================] - 0s 2ms/step - loss: 23.8907 - root_mean_squared_error: 4.8878 - val_loss: 24.2326 - val_root_mean_squared_error: 4.9227\n",
      "Epoch 3/15\n",
      "40/40 [==============================] - 0s 2ms/step - loss: 22.3421 - root_mean_squared_error: 4.7267 - val_loss: 22.7145 - val_root_mean_squared_error: 4.7660\n",
      "Epoch 4/15\n",
      "40/40 [==============================] - 0s 2ms/step - loss: 20.9925 - root_mean_squared_error: 4.5818 - val_loss: 21.3881 - val_root_mean_squared_error: 4.6247\n",
      "Epoch 5/15\n",
      "40/40 [==============================] - 0s 2ms/step - loss: 19.7644 - root_mean_squared_error: 4.4457 - val_loss: 20.1730 - val_root_mean_squared_error: 4.4914\n",
      "Epoch 6/15\n",
      "40/40 [==============================] - 0s 2ms/step - loss: 18.6858 - root_mean_squared_error: 4.3227 - val_loss: 19.1266 - val_root_mean_squared_error: 4.3734\n",
      "Epoch 7/15\n",
      "40/40 [==============================] - 0s 2ms/step - loss: 17.7706 - root_mean_squared_error: 4.2155 - val_loss: 18.2445 - val_root_mean_squared_error: 4.2714\n",
      "Epoch 8/15\n",
      "40/40 [==============================] - 0s 2ms/step - loss: 16.9591 - root_mean_squared_error: 4.1181 - val_loss: 17.4572 - val_root_mean_squared_error: 4.1782\n",
      "Epoch 9/15\n",
      "40/40 [==============================] - 0s 2ms/step - loss: 16.2917 - root_mean_squared_error: 4.0363 - val_loss: 16.8355 - val_root_mean_squared_error: 4.1031\n",
      "Epoch 10/15\n",
      "40/40 [==============================] - 0s 2ms/step - loss: 15.7519 - root_mean_squared_error: 3.9689 - val_loss: 16.3305 - val_root_mean_squared_error: 4.0411\n",
      "Epoch 11/15\n",
      "40/40 [==============================] - 0s 2ms/step - loss: 15.3507 - root_mean_squared_error: 3.9180 - val_loss: 16.0066 - val_root_mean_squared_error: 4.0008\n",
      "Epoch 12/15\n",
      "40/40 [==============================] - 0s 2ms/step - loss: 15.1214 - root_mean_squared_error: 3.8886 - val_loss: 15.8147 - val_root_mean_squared_error: 3.9768\n",
      "Epoch 13/15\n",
      "40/40 [==============================] - 0s 2ms/step - loss: 14.9385 - root_mean_squared_error: 3.8650 - val_loss: 15.6268 - val_root_mean_squared_error: 3.9531\n",
      "Epoch 14/15\n",
      "40/40 [==============================] - 0s 2ms/step - loss: 14.7620 - root_mean_squared_error: 3.8421 - val_loss: 15.4453 - val_root_mean_squared_error: 3.9301\n",
      "Epoch 15/15\n",
      "40/40 [==============================] - 0s 2ms/step - loss: 14.5890 - root_mean_squared_error: 3.8196 - val_loss: 15.2622 - val_root_mean_squared_error: 3.9067\n"
     ]
    },
    {
     "data": {
      "text/plain": [
       "<keras.callbacks.History at 0x20112d46310>"
      ]
     },
     "execution_count": 42,
     "metadata": {},
     "output_type": "execute_result"
    }
   ],
   "source": [
    "model.fit(xtrain, ytrain, epochs = 15, validation_split=.2)"
   ]
  },
  {
   "cell_type": "markdown",
   "id": "92d3dd14",
   "metadata": {},
   "source": [
    "### Exercise 4: Model Evaluation \n",
    "\n",
    "- Evaluate your model\n",
    "- Plot your **y_true** and your **predictions**"
   ]
  },
  {
   "cell_type": "code",
   "execution_count": 43,
   "id": "a8de3d65",
   "metadata": {},
   "outputs": [
    {
     "name": "stdout",
     "output_type": "stream",
     "text": [
      "RMSE: 13.803546905517578\n",
      "MSE: 3.7153124809265137\n"
     ]
    }
   ],
   "source": [
    "# Ex. 4\n",
    "score = model.evaluate(xtest, ytest, verbose=0)\n",
    "print(\"RMSE:\", score[0])\n",
    "print(\"MSE:\", score[1])"
   ]
  },
  {
   "cell_type": "code",
   "execution_count": 44,
   "id": "12c7616c",
   "metadata": {},
   "outputs": [
    {
     "name": "stdout",
     "output_type": "stream",
     "text": [
      "13/13 [==============================] - 0s 917us/step\n"
     ]
    }
   ],
   "source": [
    "ypred = model.predict(xtest)"
   ]
  },
  {
   "cell_type": "code",
   "execution_count": 45,
   "id": "a963c691",
   "metadata": {},
   "outputs": [
    {
     "data": {
      "text/plain": [
       "<matplotlib.collections.PathCollection at 0x2011671adf0>"
      ]
     },
     "execution_count": 45,
     "metadata": {},
     "output_type": "execute_result"
    },
    {
     "data": {
      "image/png": "[encoded data removed]",
      "text/plain": [
       "<Figure size 1080x432 with 1 Axes>"
      ]
     },
     "metadata": {
      "needs_background": "light"
     },
     "output_type": "display_data"
    }
   ],
   "source": [
    "plt.figure(figsize=(15, 6))\n",
    "plt.scatter(xtest, ypred, s=1)\n",
    "plt.scatter(xtest, ytest, s=1)"
   ]
  },
  {
   "cell_type": "markdown",
   "id": "06737d75",
   "metadata": {},
   "source": [
    "### Exercise 5.1: Fine Tuning\n",
    "\n",
    "The number of neurons within the *hidden layer*, as well as the *number* of hidden layers used, significantly impact a model's results.\n",
    "- Change the number of neurons in the *hidden layer* to **10**\n",
    "- Train and evaluate your model. Compare your results "
   ]
  },
  {
   "cell_type": "code",
   "execution_count": 46,
   "id": "b9f8f94e",
   "metadata": {},
   "outputs": [
    {
     "name": "stdout",
     "output_type": "stream",
     "text": [
      "Model: \"sequential_7\"\n",
      "_________________________________________________________________\n",
      " Layer (type)                Output Shape              Param #   \n",
      "=================================================================\n",
      " dense_19 (Dense)            (None, 10)                20        \n",
      "                                                                 \n",
      " dense_20 (Dense)            (None, 1)                 11        \n",
      "                                                                 \n",
      "=================================================================\n",
      "Total params: 31\n",
      "Trainable params: 31\n",
      "Non-trainable params: 0\n",
      "_________________________________________________________________\n"
     ]
    }
   ],
   "source": [
    "# Ex. 5.1\n",
    "model = keras.Sequential([\n",
    "                        keras.Input(shape=(1)),\n",
    "                        Dense(10, activation='relu'),\n",
    "                        Dense(1)\n",
    "])\n",
    "model.summary()"
   ]
  },
  {
   "cell_type": "code",
   "execution_count": 47,
   "id": "61e60720",
   "metadata": {},
   "outputs": [
    {
     "name": "stdout",
     "output_type": "stream",
     "text": [
      "Epoch 1/15\n",
      "40/40 [==============================] - 0s 5ms/step - loss: 26.8868 - root_mean_squared_error: 5.1853 - val_loss: 21.2250 - val_root_mean_squared_error: 4.6071\n",
      "Epoch 2/15\n",
      "40/40 [==============================] - 0s 2ms/step - loss: 19.5807 - root_mean_squared_error: 4.4250 - val_loss: 15.4159 - val_root_mean_squared_error: 3.9263\n",
      "Epoch 3/15\n",
      "40/40 [==============================] - 0s 2ms/step - loss: 14.2470 - root_mean_squared_error: 3.7745 - val_loss: 11.2221 - val_root_mean_squared_error: 3.3499\n",
      "Epoch 4/15\n",
      "40/40 [==============================] - 0s 2ms/step - loss: 10.4002 - root_mean_squared_error: 3.2249 - val_loss: 8.0664 - val_root_mean_squared_error: 2.8401\n",
      "Epoch 5/15\n",
      "40/40 [==============================] - 0s 2ms/step - loss: 7.4677 - root_mean_squared_error: 2.7327 - val_loss: 5.8561 - val_root_mean_squared_error: 2.4199\n",
      "Epoch 6/15\n",
      "40/40 [==============================] - 0s 2ms/step - loss: 5.3365 - root_mean_squared_error: 2.3101 - val_loss: 4.1235 - val_root_mean_squared_error: 2.0306\n",
      "Epoch 7/15\n",
      "40/40 [==============================] - 0s 2ms/step - loss: 3.7417 - root_mean_squared_error: 1.9344 - val_loss: 2.8035 - val_root_mean_squared_error: 1.6744\n",
      "Epoch 8/15\n",
      "40/40 [==============================] - 0s 2ms/step - loss: 2.5622 - root_mean_squared_error: 1.6007 - val_loss: 1.8998 - val_root_mean_squared_error: 1.3783\n",
      "Epoch 9/15\n",
      "40/40 [==============================] - 0s 2ms/step - loss: 1.7319 - root_mean_squared_error: 1.3160 - val_loss: 1.2884 - val_root_mean_squared_error: 1.1351\n",
      "Epoch 10/15\n",
      "40/40 [==============================] - 0s 2ms/step - loss: 1.1731 - root_mean_squared_error: 1.0831 - val_loss: 0.8585 - val_root_mean_squared_error: 0.9265\n",
      "Epoch 11/15\n",
      "40/40 [==============================] - 0s 2ms/step - loss: 0.7823 - root_mean_squared_error: 0.8845 - val_loss: 0.5746 - val_root_mean_squared_error: 0.7580\n",
      "Epoch 12/15\n",
      "40/40 [==============================] - 0s 2ms/step - loss: 0.5163 - root_mean_squared_error: 0.7185 - val_loss: 0.3681 - val_root_mean_squared_error: 0.6067\n",
      "Epoch 13/15\n",
      "40/40 [==============================] - 0s 2ms/step - loss: 0.3348 - root_mean_squared_error: 0.5786 - val_loss: 0.2245 - val_root_mean_squared_error: 0.4738\n",
      "Epoch 14/15\n",
      "40/40 [==============================] - 0s 2ms/step - loss: 0.2103 - root_mean_squared_error: 0.4586 - val_loss: 0.1402 - val_root_mean_squared_error: 0.3744\n",
      "Epoch 15/15\n",
      "40/40 [==============================] - 0s 2ms/step - loss: 0.1326 - root_mean_squared_error: 0.3641 - val_loss: 0.0871 - val_root_mean_squared_error: 0.2951\n",
      "================================\n",
      "================================\n",
      "MSE: 0.10756050795316696\n",
      "RMSE: 0.327964186668396\n"
     ]
    }
   ],
   "source": [
    "model.compile(loss = \"mean_squared_error\",optimizer='adam', metrics=['RootMeanSquaredError'])\n",
    "model.fit(xtrain, ytrain, epochs = epochs, validation_split=0.2 )\n",
    "score = model.evaluate(xtest, ytest, verbose=0)\n",
    "print('================================')\n",
    "print('================================')\n",
    "print('MSE:', score[0] )\n",
    "print('RMSE:', score[1])"
   ]
  },
  {
   "cell_type": "markdown",
   "id": "b47f93ee",
   "metadata": {},
   "source": [
    "### Exercise 5.2: Fine Tuning P2\n",
    "\n",
    "Do the same as in `5.1`, except:\n",
    "- Reset the number of neurons in the *hidden layer* to **3**\n",
    "- Add a second *hidden layer* with **3** neurons\n",
    "- Initialize the model's weights with the use of [*initializers*](https://keras.io/api/layers/initializers/)\n",
    "- Train and evaluate your model. Compare your results from all previous models"
   ]
  },
  {
   "cell_type": "code",
   "execution_count": 48,
   "id": "b26d41d8",
   "metadata": {},
   "outputs": [
    {
     "name": "stdout",
     "output_type": "stream",
     "text": [
      "Epoch 1/15\n",
      "40/40 [==============================] - 0s 4ms/step - loss: 474.2785 - root_mean_squared_error: 21.7779 - val_loss: 440.5711 - val_root_mean_squared_error: 20.9898\n",
      "Epoch 2/15\n",
      "40/40 [==============================] - 0s 2ms/step - loss: 379.5439 - root_mean_squared_error: 19.4819 - val_loss: 355.8426 - val_root_mean_squared_error: 18.8638\n",
      "Epoch 3/15\n",
      "40/40 [==============================] - 0s 2ms/step - loss: 308.3225 - root_mean_squared_error: 17.5591 - val_loss: 291.1210 - val_root_mean_squared_error: 17.0623\n",
      "Epoch 4/15\n",
      "40/40 [==============================] - 0s 2ms/step - loss: 253.5481 - root_mean_squared_error: 15.9232 - val_loss: 242.0960 - val_root_mean_squared_error: 15.5594\n",
      "Epoch 5/15\n",
      "40/40 [==============================] - 0s 2ms/step - loss: 211.7352 - root_mean_squared_error: 14.5511 - val_loss: 202.2145 - val_root_mean_squared_error: 14.2202\n",
      "Epoch 6/15\n",
      "40/40 [==============================] - 0s 2ms/step - loss: 178.2725 - root_mean_squared_error: 13.3519 - val_loss: 171.4328 - val_root_mean_squared_error: 13.0932\n",
      "Epoch 7/15\n",
      "40/40 [==============================] - 0s 2ms/step - loss: 151.7503 - root_mean_squared_error: 12.3187 - val_loss: 146.4856 - val_root_mean_squared_error: 12.1031\n",
      "Epoch 8/15\n",
      "40/40 [==============================] - 0s 2ms/step - loss: 130.2065 - root_mean_squared_error: 11.4108 - val_loss: 126.2547 - val_root_mean_squared_error: 11.2363\n",
      "Epoch 9/15\n",
      "40/40 [==============================] - 0s 2ms/step - loss: 112.4726 - root_mean_squared_error: 10.6053 - val_loss: 109.8865 - val_root_mean_squared_error: 10.4827\n",
      "Epoch 10/15\n",
      "40/40 [==============================] - 0s 2ms/step - loss: 97.9416 - root_mean_squared_error: 9.8965 - val_loss: 95.8781 - val_root_mean_squared_error: 9.7917\n",
      "Epoch 11/15\n",
      "40/40 [==============================] - 0s 2ms/step - loss: 85.6636 - root_mean_squared_error: 9.2555 - val_loss: 84.1895 - val_root_mean_squared_error: 9.1755\n",
      "Epoch 12/15\n",
      "40/40 [==============================] - 0s 2ms/step - loss: 75.2752 - root_mean_squared_error: 8.6761 - val_loss: 74.2835 - val_root_mean_squared_error: 8.6188\n",
      "Epoch 13/15\n",
      "40/40 [==============================] - 0s 2ms/step - loss: 66.4805 - root_mean_squared_error: 8.1536 - val_loss: 65.5377 - val_root_mean_squared_error: 8.0955\n",
      "Epoch 14/15\n",
      "40/40 [==============================] - 0s 2ms/step - loss: 58.8155 - root_mean_squared_error: 7.6691 - val_loss: 58.0979 - val_root_mean_squared_error: 7.6222\n",
      "Epoch 15/15\n",
      "40/40 [==============================] - 0s 2ms/step - loss: 52.1555 - root_mean_squared_error: 7.2219 - val_loss: 51.7085 - val_root_mean_squared_error: 7.1909\n",
      "=====================\n",
      "=====================\n",
      "MSE: 46.906707763671875\n",
      "RMSE: 6.848847389221191\n"
     ]
    }
   ],
   "source": [
    "# Ex. 5.2 \n",
    "initializer = initializers.RandomNormal(mean=0, stddev=0.95, seed=None)\n",
    "model = keras.Sequential([\n",
    "                        keras.Input(shape=(1)),\n",
    "                        Dense(3, kernel_initializer=initializer, activation='relu'),\n",
    "                        Dense(3, kernel_initializer=initializer, activation='relu'),\n",
    "                        Dense(1, kernel_initializer=initializer, activation='relu')\n",
    "])\n",
    "\n",
    "model.compile(loss='mean_squared_error',optimizer='adam', metrics=['RootMeanSquaredError'])\n",
    "model.fit(xtrain, ytrain, epochs=epochs, validation_split=.2)\n",
    "\n",
    "print('=====================')\n",
    "print('=====================')\n",
    "score = model.evaluate(xtest, ytest, verbose=3)\n",
    "print('MSE:', score[0])\n",
    "print('RMSE:', score[1])"
   ]
  },
  {
   "cell_type": "code",
   "execution_count": 18,
   "id": "6dff2a5d",
   "metadata": {},
   "outputs": [
    {
     "name": "stdout",
     "output_type": "stream",
     "text": [
      "13/13 [==============================] - 0s 1000us/step\n"
     ]
    },
    {
     "data": {
      "text/plain": [
       "<matplotlib.collections.PathCollection at 0x20112e88be0>"
      ]
     },
     "execution_count": 18,
     "metadata": {},
     "output_type": "execute_result"
    },
    {
     "data": {
      "image/png": "[encoded data removed]",
      "text/plain": [
       "<Figure size 432x288 with 1 Axes>"
      ]
     },
     "metadata": {
      "needs_background": "light"
     },
     "output_type": "display_data"
    }
   ],
   "source": [
    "ypred = model.predict(xtest)\n",
    "plt.scatter(ytest, ypred, s=10)"
   ]
  },
  {
   "cell_type": "markdown",
   "id": "5f9e30e8",
   "metadata": {},
   "source": [
    "### Exercise 6: Automate!\n",
    "\n",
    "Use a function to *automate* questions 1 through 5. The function should have 3 parameters: \n",
    "- Activation function \n",
    "- Number of hidden layers\n",
    "- Number of neurons for each of the hidden layers\n",
    "\n",
    "Try passing different arguments to function to try to get the best result that you can (at least 3 different results)"
   ]
  },
  {
   "cell_type": "code",
   "execution_count": 19,
   "id": "3e61fc5d",
   "metadata": {},
   "outputs": [],
   "source": [
    "def Seqential(Activation_function, Number_hidden_layers, Number_neurons):\n",
    "\n",
    "    x = np.linspace(-10, 10, 2000)\n",
    "    y = np.linspace(-10, 10, 2000)\n",
    "    noise = np.random.uniform(-1.8, 1.8, 2000)\n",
    "\n",
    "    x = x + noise\n",
    "    y = y + noise\n",
    "    \n",
    "    xtrain, xtest, ytrain, ytest = train_test_split(x, y, test_size=.2, random_state=101)\n",
    "    model = keras.Sequential()\n",
    "    \n",
    "    model.add(Dense(3, input_dim= 1))#we should define try and except to raise error\n",
    "    model.add(Activation(Activation_function))\n",
    "    \n",
    "    initializer = initializers.RandomNormal(mean=0, stddev=0.5, seed=None)   \n",
    "    for i in range(Number_hidden_layers):\n",
    "        model.add(Dense(3, kernel_initializer=initializer))\n",
    "        model.add(Activation(Activation_function))\n",
    "            \n",
    "    model.add(Dense(1))\n",
    "    model.add(Activation(Activation_function))\n",
    "    \n",
    "    \n",
    "    model.compile(loss='mean_squared_error',optimizer='adam', metrics=['RootMeanSquaredError'])\n",
    "    model.summary()\n",
    "    model.fit(xtrain, ytrain, epochs=15, validation_split=.2)\n",
    "    score = model.evaluate(xtest, ytest, verbose=3)\n",
    "    print('=====================')\n",
    "    print('=====================')\n",
    "    print('MSE:', score[0])\n",
    "    print('RMSE:', score[1])\n",
    "    \n",
    "    ypred = model.predict(xtest)\n",
    "    plt.figure(figsize=(10, 6))\n",
    "    plt.scatter(xtest, ypred, s=1)\n",
    "    plt.scatter(xtest, ypred, s=10, label=Activation_function)\n",
    "    plt.legend()\n",
    "    \n",
    "    return \n",
    "\n",
    "    "
   ]
  },
  {
   "cell_type": "code",
   "execution_count": 20,
   "id": "fbf8b63b",
   "metadata": {},
   "outputs": [
    {
     "name": "stdout",
     "output_type": "stream",
     "text": [
      "Model: \"sequential_3\"\n",
      "_________________________________________________________________\n",
      " Layer (type)                Output Shape              Param #   \n",
      "=================================================================\n",
      " dense_7 (Dense)             (None, 3)                 6         \n",
      "                                                                 \n",
      " activation (Activation)     (None, 3)                 0         \n",
      "                                                                 \n",
      " dense_8 (Dense)             (None, 1)                 4         \n",
      "                                                                 \n",
      " activation_1 (Activation)   (None, 1)                 0         \n",
      "                                                                 \n",
      "=================================================================\n",
      "Total params: 10\n",
      "Trainable params: 10\n",
      "Non-trainable params: 0\n",
      "_________________________________________________________________\n",
      "Epoch 1/15\n",
      "40/40 [==============================] - 0s 4ms/step - loss: 34.5779 - root_mean_squared_error: 5.8803 - val_loss: 32.4879 - val_root_mean_squared_error: 5.6998\n",
      "Epoch 2/15\n",
      "40/40 [==============================] - 0s 2ms/step - loss: 32.2801 - root_mean_squared_error: 5.6816 - val_loss: 30.3040 - val_root_mean_squared_error: 5.5049\n",
      "Epoch 3/15\n",
      "40/40 [==============================] - 0s 2ms/step - loss: 30.1695 - root_mean_squared_error: 5.4927 - val_loss: 28.2806 - val_root_mean_squared_error: 5.3179\n",
      "Epoch 4/15\n",
      "40/40 [==============================] - 0s 2ms/step - loss: 28.2163 - root_mean_squared_error: 5.3119 - val_loss: 26.4093 - val_root_mean_squared_error: 5.1390\n",
      "Epoch 5/15\n",
      "40/40 [==============================] - 0s 2ms/step - loss: 26.3348 - root_mean_squared_error: 5.1317 - val_loss: 24.1016 - val_root_mean_squared_error: 4.9093\n",
      "Epoch 6/15\n",
      "40/40 [==============================] - 0s 2ms/step - loss: 22.1089 - root_mean_squared_error: 4.7020 - val_loss: 18.9345 - val_root_mean_squared_error: 4.3514\n",
      "Epoch 7/15\n",
      "40/40 [==============================] - 0s 2ms/step - loss: 17.4744 - root_mean_squared_error: 4.1802 - val_loss: 15.2725 - val_root_mean_squared_error: 3.9080\n",
      "Epoch 8/15\n",
      "40/40 [==============================] - 0s 2ms/step - loss: 14.1721 - root_mean_squared_error: 3.7646 - val_loss: 12.5005 - val_root_mean_squared_error: 3.5356\n",
      "Epoch 9/15\n",
      "40/40 [==============================] - 0s 2ms/step - loss: 11.6350 - root_mean_squared_error: 3.4110 - val_loss: 10.3720 - val_root_mean_squared_error: 3.2206\n",
      "Epoch 10/15\n",
      "40/40 [==============================] - 0s 2ms/step - loss: 9.6004 - root_mean_squared_error: 3.0984 - val_loss: 8.4303 - val_root_mean_squared_error: 2.9035\n",
      "Epoch 11/15\n",
      "40/40 [==============================] - 0s 2ms/step - loss: 7.5615 - root_mean_squared_error: 2.7498 - val_loss: 6.5742 - val_root_mean_squared_error: 2.5640\n",
      "Epoch 12/15\n",
      "40/40 [==============================] - 0s 2ms/step - loss: 5.8551 - root_mean_squared_error: 2.4197 - val_loss: 5.1439 - val_root_mean_squared_error: 2.2680\n",
      "Epoch 13/15\n",
      "40/40 [==============================] - 0s 2ms/step - loss: 4.5325 - root_mean_squared_error: 2.1290 - val_loss: 4.0013 - val_root_mean_squared_error: 2.0003\n",
      "Epoch 14/15\n",
      "40/40 [==============================] - 0s 2ms/step - loss: 3.5010 - root_mean_squared_error: 1.8711 - val_loss: 3.1260 - val_root_mean_squared_error: 1.7680\n",
      "Epoch 15/15\n",
      "40/40 [==============================] - 0s 2ms/step - loss: 2.7204 - root_mean_squared_error: 1.6493 - val_loss: 2.4717 - val_root_mean_squared_error: 1.5722\n",
      "=====================\n",
      "=====================\n",
      "MSE: 2.281865119934082\n",
      "RMSE: 1.5105843544006348\n",
      "13/13 [==============================] - 0s 917us/step\n",
      "Model: \"sequential_4\"\n",
      "_________________________________________________________________\n",
      " Layer (type)                Output Shape              Param #   \n",
      "=================================================================\n",
      " dense_9 (Dense)             (None, 3)                 6         \n",
      "                                                                 \n",
      " activation_2 (Activation)   (None, 3)                 0         \n",
      "                                                                 \n",
      " dense_10 (Dense)            (None, 3)                 12        \n",
      "                                                                 \n",
      " activation_3 (Activation)   (None, 3)                 0         \n",
      "                                                                 \n",
      " dense_11 (Dense)            (None, 3)                 12        \n",
      "                                                                 \n",
      " activation_4 (Activation)   (None, 3)                 0         \n",
      "                                                                 \n",
      " dense_12 (Dense)            (None, 1)                 4         \n",
      "                                                                 \n",
      " activation_5 (Activation)   (None, 1)                 0         \n",
      "                                                                 \n",
      "=================================================================\n",
      "Total params: 34\n",
      "Trainable params: 34\n",
      "Non-trainable params: 0\n",
      "_________________________________________________________________\n",
      "Epoch 1/15\n",
      "40/40 [==============================] - 1s 4ms/step - loss: 34.4138 - root_mean_squared_error: 5.8663 - val_loss: 36.0819 - val_root_mean_squared_error: 6.0068\n",
      "Epoch 2/15\n",
      "40/40 [==============================] - 0s 2ms/step - loss: 34.3723 - root_mean_squared_error: 5.8628 - val_loss: 36.0185 - val_root_mean_squared_error: 6.0015\n",
      "Epoch 3/15\n",
      "40/40 [==============================] - 0s 2ms/step - loss: 34.3264 - root_mean_squared_error: 5.8589 - val_loss: 35.9585 - val_root_mean_squared_error: 5.9965\n",
      "Epoch 4/15\n",
      "40/40 [==============================] - 0s 2ms/step - loss: 34.2786 - root_mean_squared_error: 5.8548 - val_loss: 35.9020 - val_root_mean_squared_error: 5.9918\n",
      "Epoch 5/15\n",
      "40/40 [==============================] - 0s 2ms/step - loss: 34.2300 - root_mean_squared_error: 5.8506 - val_loss: 35.8359 - val_root_mean_squared_error: 5.9863\n",
      "Epoch 6/15\n",
      "40/40 [==============================] - 0s 2ms/step - loss: 34.1780 - root_mean_squared_error: 5.8462 - val_loss: 35.7720 - val_root_mean_squared_error: 5.9810\n",
      "Epoch 7/15\n",
      "40/40 [==============================] - 0s 2ms/step - loss: 34.1241 - root_mean_squared_error: 5.8416 - val_loss: 35.7043 - val_root_mean_squared_error: 5.9753\n",
      "Epoch 8/15\n",
      "40/40 [==============================] - 0s 2ms/step - loss: 34.0660 - root_mean_squared_error: 5.8366 - val_loss: 35.6364 - val_root_mean_squared_error: 5.9696\n",
      "Epoch 9/15\n",
      "40/40 [==============================] - 0s 2ms/step - loss: 34.0040 - root_mean_squared_error: 5.8313 - val_loss: 35.5631 - val_root_mean_squared_error: 5.9635\n",
      "Epoch 10/15\n",
      "40/40 [==============================] - 0s 2ms/step - loss: 33.9365 - root_mean_squared_error: 5.8255 - val_loss: 35.4852 - val_root_mean_squared_error: 5.9569\n",
      "Epoch 11/15\n",
      "40/40 [==============================] - 0s 2ms/step - loss: 33.8633 - root_mean_squared_error: 5.8192 - val_loss: 35.4035 - val_root_mean_squared_error: 5.9501\n",
      "Epoch 12/15\n",
      "40/40 [==============================] - 0s 2ms/step - loss: 33.7836 - root_mean_squared_error: 5.8124 - val_loss: 35.3132 - val_root_mean_squared_error: 5.9425\n",
      "Epoch 13/15\n",
      "40/40 [==============================] - 0s 2ms/step - loss: 33.6948 - root_mean_squared_error: 5.8047 - val_loss: 35.2176 - val_root_mean_squared_error: 5.9344\n",
      "Epoch 14/15\n",
      "40/40 [==============================] - 0s 2ms/step - loss: 33.5991 - root_mean_squared_error: 5.7965 - val_loss: 35.1127 - val_root_mean_squared_error: 5.9256\n",
      "Epoch 15/15\n",
      "40/40 [==============================] - 0s 2ms/step - loss: 33.4930 - root_mean_squared_error: 5.7873 - val_loss: 35.0002 - val_root_mean_squared_error: 5.9161\n",
      "=====================\n",
      "=====================\n",
      "MSE: 32.76262283325195\n",
      "RMSE: 5.723864555358887\n",
      "13/13 [==============================] - 0s 1ms/step\n",
      "Model: \"sequential_5\"\n",
      "_________________________________________________________________\n",
      " Layer (type)                Output Shape              Param #   \n",
      "=================================================================\n",
      " dense_13 (Dense)            (None, 3)                 6         \n",
      "                                                                 \n"
     ]
    },
    {
     "name": "stdout",
     "output_type": "stream",
     "text": [
      " activation_6 (Activation)   (None, 3)                 0         \n",
      "                                                                 \n",
      " dense_14 (Dense)            (None, 3)                 12        \n",
      "                                                                 \n",
      " activation_7 (Activation)   (None, 3)                 0         \n",
      "                                                                 \n",
      " dense_15 (Dense)            (None, 3)                 12        \n",
      "                                                                 \n",
      " activation_8 (Activation)   (None, 3)                 0         \n",
      "                                                                 \n",
      " dense_16 (Dense)            (None, 1)                 4         \n",
      "                                                                 \n",
      " activation_9 (Activation)   (None, 1)                 0         \n",
      "                                                                 \n",
      "=================================================================\n",
      "Total params: 34\n",
      "Trainable params: 34\n",
      "Non-trainable params: 0\n",
      "_________________________________________________________________\n",
      "Epoch 1/15\n",
      "40/40 [==============================] - 1s 4ms/step - loss: 33.5237 - root_mean_squared_error: 5.7900 - val_loss: 34.3355 - val_root_mean_squared_error: 5.8597\n",
      "Epoch 2/15\n",
      "40/40 [==============================] - 0s 2ms/step - loss: 32.5640 - root_mean_squared_error: 5.7065 - val_loss: 33.1331 - val_root_mean_squared_error: 5.7561\n",
      "Epoch 3/15\n",
      "40/40 [==============================] - 0s 2ms/step - loss: 31.2930 - root_mean_squared_error: 5.5940 - val_loss: 31.7635 - val_root_mean_squared_error: 5.6359\n",
      "Epoch 4/15\n",
      "40/40 [==============================] - 0s 2ms/step - loss: 29.9911 - root_mean_squared_error: 5.4764 - val_loss: 30.4687 - val_root_mean_squared_error: 5.5198\n",
      "Epoch 5/15\n",
      "40/40 [==============================] - 0s 2ms/step - loss: 28.8274 - root_mean_squared_error: 5.3691 - val_loss: 29.3806 - val_root_mean_squared_error: 5.4204\n",
      "Epoch 6/15\n",
      "40/40 [==============================] - 0s 2ms/step - loss: 27.9118 - root_mean_squared_error: 5.2832 - val_loss: 28.5829 - val_root_mean_squared_error: 5.3463\n",
      "Epoch 7/15\n",
      "40/40 [==============================] - 0s 2ms/step - loss: 27.2595 - root_mean_squared_error: 5.2211 - val_loss: 28.0279 - val_root_mean_squared_error: 5.2941\n",
      "Epoch 8/15\n",
      "40/40 [==============================] - 0s 2ms/step - loss: 26.8113 - root_mean_squared_error: 5.1780 - val_loss: 27.6434 - val_root_mean_squared_error: 5.2577\n",
      "Epoch 9/15\n",
      "40/40 [==============================] - 0s 2ms/step - loss: 26.4969 - root_mean_squared_error: 5.1475 - val_loss: 27.3755 - val_root_mean_squared_error: 5.2322\n",
      "Epoch 10/15\n",
      "40/40 [==============================] - 0s 2ms/step - loss: 26.2725 - root_mean_squared_error: 5.1257 - val_loss: 27.1769 - val_root_mean_squared_error: 5.2131\n",
      "Epoch 11/15\n",
      "40/40 [==============================] - 0s 2ms/step - loss: 26.1057 - root_mean_squared_error: 5.1094 - val_loss: 27.0267 - val_root_mean_squared_error: 5.1987\n",
      "Epoch 12/15\n",
      "40/40 [==============================] - 0s 2ms/step - loss: 25.9777 - root_mean_squared_error: 5.0968 - val_loss: 26.9104 - val_root_mean_squared_error: 5.1875\n",
      "Epoch 13/15\n",
      "40/40 [==============================] - 0s 2ms/step - loss: 25.8774 - root_mean_squared_error: 5.0870 - val_loss: 26.8186 - val_root_mean_squared_error: 5.1787\n",
      "Epoch 14/15\n",
      "40/40 [==============================] - 0s 2ms/step - loss: 25.7973 - root_mean_squared_error: 5.0791 - val_loss: 26.7439 - val_root_mean_squared_error: 5.1715\n",
      "Epoch 15/15\n",
      "40/40 [==============================] - 0s 2ms/step - loss: 25.7318 - root_mean_squared_error: 5.0727 - val_loss: 26.6825 - val_root_mean_squared_error: 5.1655\n",
      "=====================\n",
      "=====================\n",
      "MSE: 25.967144012451172\n",
      "RMSE: 5.095796585083008\n",
      "13/13 [==============================] - 0s 1ms/step\n"
     ]
    },
    {
     "data": {
      "image/png": "[encoded data removed]",
      "text/plain": [
       "<Figure size 720x432 with 1 Axes>"
      ]
     },
     "metadata": {
      "needs_background": "light"
     },
     "output_type": "display_data"
    },
    {
     "data": {
      "image/png": "[encoded data removed]",
      "text/plain": [
       "<Figure size 720x432 with 1 Axes>"
      ]
     },
     "metadata": {
      "needs_background": "light"
     },
     "output_type": "display_data"
    },
    {
     "data": {
      "image/png": "[encoded data removed]",
      "text/plain": [
       "<Figure size 720x432 with 1 Axes>"
      ]
     },
     "metadata": {
      "needs_background": "light"
     },
     "output_type": "display_data"
    }
   ],
   "source": [
    "Seqential(Activation_function='LeakyReLU', Number_hidden_layers=0, Number_neurons=3)\n",
    "Seqential(Activation_function='sigmoid', Number_hidden_layers=2, Number_neurons=5)\n",
    "Seqential(Activation_function='tanh', Number_hidden_layers=2, Number_neurons=3)"
   ]
  },
  {
   "cell_type": "code",
   "execution_count": null,
   "id": "a1555234",
   "metadata": {},
   "outputs": [],
   "source": []
  },
  {
   "cell_type": "code",
   "execution_count": null,
   "id": "2c2c6eb3",
   "metadata": {},
   "outputs": [],
   "source": []
  }
 ],
 "metadata": {
  "kernelspec": {
   "display_name": "Python 3",
   "language": "python",
   "name": "python3"
  },
  "language_info": {
   "codemirror_mode": {
    "name": "ipython",
    "version": 3
   },
   "file_extension": ".py",
   "mimetype": "text/x-python",
   "name": "python",
   "nbconvert_exporter": "python",
   "pygments_lexer": "ipython3",
   "version": "3.8.8"
  }
 },
 "nbformat": 4,
 "nbformat_minor": 5
}
