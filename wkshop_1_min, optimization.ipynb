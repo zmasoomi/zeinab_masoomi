{
 "cells": [
  {
   "cell_type": "markdown",
   "metadata": {
    "id": "I4ts7DBmTDY-"
   },
   "source": [
    "# Optimization\n",
    "\n",
    "## Exercise 1.1: Bisection \n",
    "\n",
    "One of the most common algorithms for numerical root-finding is *bisection*.\n",
    "\n",
    "To understand the idea, recall the well-known game where:\n",
    "\n",
    "- Player A thinks of a secret number between 1 and 100  \n",
    "- Player B asks if it’s less than 50  \n",
    "  \n",
    "  - If yes, B asks if it’s less than 25  \n",
    "  - If no, B asks if it’s less than 75  \n",
    "  \n",
    "And so on.\n",
    "\n",
    "This is bisection, a relative of [binary search](https://en.wikipedia.org/wiki/Binary_search_algorithm). It works for all sufficiently well behaved increasing continuous functions with $ f(a) < 0 < f(b) $. \n",
    "\n",
    "Write an implementation of the bisection algorith, `bisect(f, lower=0, upper=1, tol=10e-5)` which, given a function `f`, a lower bound `lower` and an upper bound `upper` finds the point `x` where `f(x) = 0`. The parameter `tol` is a numerical tolerance, you should stop once your step size is smaller than `tol`.\n",
    "\n",
    "\n",
    "Use it to minimize the function:\n",
    "\n",
    "$$\n",
    "f(x) = \\sin(4 (x - 1/4)) + x + x^{20} - 1 \\tag{2}\n",
    "$$\n",
    "\n",
    "in python: `lambda x: np.sin(4 * (x - 1/4)) + x + x**20 - 1`\n",
    "\n",
    "The value where f(x) = 0 should be around `0.408`"
   ]
  },
  {
   "cell_type": "code",
   "execution_count": 1,
   "metadata": {},
   "outputs": [],
   "source": [
    "import numpy as np\n",
    "import pandas as pd\n",
    "import matplotlib.pyplot as plt\n",
    "import seaborn as sns\n",
    "import sympy as sy\n",
    "import scipy as sp\n",
    "import scipy.optimize as opt\n",
    "sy.init_printing(use_unicode=True) \n",
    "from datetime import datetime, date\n",
    "import sqlite3"
   ]
  },
  {
   "cell_type": "code",
   "execution_count": null,
   "metadata": {
    "colab": {
     "base_uri": "https://localhost:8080/"
    },
    "executionInfo": {
     "elapsed": 473,
     "status": "ok",
     "timestamp": 1612026051239,
     "user": {
      "displayName": "jasleen Kaur",
      "photoUrl": "https://lh3.googleusercontent.com/a-/AOh14GitSy-VVABi645nqScpV23oW5NBCAa7lTQqdIKl=s64",
      "userId": "12125715966921775581"
     },
     "user_tz": 300
    },
    "id": "APCsVC6aTDZU",
    "outputId": "4219b00e-a8fc-4035-e59c-5d646790cd87"
   },
   "outputs": [],
   "source": [
    "# exercise 1.1\n",
    "sns.set()\n",
    "f_x = lambda x:  np.sin(4 * (x - 1/4))+x + x**20 - 1\n",
    "x = np.linspace(-10, 10, 100)\n",
    "plt.ylim(-10, 10)#if the ylimit would be higher we can not see the negative plot on y axis\n",
    "plt.xlim(-1, 1)#to show better the point of coincidence of horizontal line and f_x\n",
    "plt.axhline(0, color='r')#the horizontal line\n",
    "plt.plot(x, f_x(x))"
   ]
  },
  {
   "cell_type": "code",
   "execution_count": null,
   "metadata": {},
   "outputs": [],
   "source": [
    "#the plot without limitation on axises\n",
    "def f(x):\n",
    "     return np.sin(4 * (x - 1/4)) + x + x**20 - 1\n",
    "\n",
    "x = np.linspace(-5, 5, 1000)\n",
    "\n",
    "y = f(x)\n",
    "# fig, ax = plt.subplots(1, 1, figsize=(5, 3))\n",
    "# ax.axhline(0, color='k')\n",
    "# ax.plot(x, y)\n",
    "# ax.set_xlim(-5, 5)\n",
    "# plt.show() \n",
    "f(0.4082935042806639)"
   ]
  },
  {
   "cell_type": "code",
   "execution_count": null,
   "metadata": {},
   "outputs": [],
   "source": [
    "#denoting by sympy lib and calculating derivative of function by sympy\n",
    "x = sy.symbols('x')\n",
    "f_x = sy.sin(4 * (x - 1/4)) + x + x**20 - 1\n",
    "derivative_f_x = sy.diff(f_x, x)\n",
    "derivative_f_x"
   ]
  },
  {
   "cell_type": "code",
   "execution_count": null,
   "metadata": {},
   "outputs": [],
   "source": [
    "x_min = opt.bisect(f, -1, 1)#if boundries increased the error will have\n",
    "print(f\"min: {x_min}\")"
   ]
  },
  {
   "cell_type": "code",
   "execution_count": null,
   "metadata": {},
   "outputs": [],
   "source": [
    "#bisect implimentaiton\n",
    "def bisect(f_x, lower, upper, tolerance, max_iterations):\n",
    "    # These x and y value lists will be used later for visualisation.\n",
    "    x_bisect = [lower]\n",
    "    y_bisect = [f_x(lower)]\n",
    "    f_x_start = f_x(lower)\n",
    "    iteration = 0\n",
    "    while abs(f_x_start)>tolerance and iteration<max_iterations:   \n",
    "        mean = np.mean([lower, upper])\n",
    "        if f_x(lower)>0:\n",
    "            if f_x(mean)>0:\n",
    "                lower = mean\n",
    "            else:\n",
    "                upper = mean\n",
    "        elif f_x(mean)<0: \n",
    "            lower = mean\n",
    "        else:\n",
    "            upper = mean\n",
    "        iteration += 1\n",
    "        x_bisect.append(mean)\n",
    "        y_bisect.append(f_x(mean))\n",
    "\n",
    "    print (\"root of function: {:.3f}\".format(mean))\n",
    "    print (\"Number of steps: \",len(x_bisect)-1)\n",
    "    #plot_gradient(x, f_x(x) ,x_bisect, y_bisect)"
   ]
  },
  {
   "cell_type": "code",
   "execution_count": null,
   "metadata": {},
   "outputs": [],
   "source": [
    "bisect(f, 0, 1, 10e-5, 20 )"
   ]
  },
  {
   "cell_type": "markdown",
   "metadata": {
    "id": "JmqA0a14TDZb"
   },
   "source": [
    "## Exercise 1.2: (BONUS-STRETCH 👹)  Recursive Bisect\n",
    "\n",
    "Write a recursive version of the bisection algorithm"
   ]
  },
  {
   "cell_type": "code",
   "execution_count": null,
   "metadata": {
    "id": "jbE19gJUTDZc",
    "outputId": "5a4ad2be-222b-4d44-bfd7-ada5bc7ca04d"
   },
   "outputs": [],
   "source": [
    "# exercise 1.2\n"
   ]
  },
  {
   "cell_type": "markdown",
   "metadata": {
    "id": "toeE5NtkTDZe"
   },
   "source": [
    "## Exercise 2.1: Movies Regression\n",
    "\n",
    "Write the best linear regression model you can on the [Movies Dataset](https://www.kaggle.com/rounakbanik/the-movies-dataset?select=ratings.csv) to predict the profitability of a movie (revenue - budget). Maintain the interpretability of the model.\n",
    "\n",
    "Few notes:\n",
    "\n",
    "1. Clean your data! Movies where the budget or revenue are invalid should be thrown out\n",
    "2. Be creative with feature engineering. You can include processing to one-hot encode the type of movie, etc.\n",
    "3. The model should be useful for someone **who is thinking about making a movie**. So features like the popularity can't be used. You could, however, use the ratings to figure out if making \"good\" or \"oscar bait\" movies is a profitable strategy."
   ]
  },
  {
   "cell_type": "code",
   "execution_count": 2,
   "metadata": {},
   "outputs": [],
   "source": [
    "import json"
   ]
  },
  {
   "cell_type": "code",
   "execution_count": 3,
   "metadata": {
    "id": "WPi9xcx3mywk"
   },
   "outputs": [
    {
     "name": "stderr",
     "output_type": "stream",
     "text": [
      "C:\\Users\\zmaso\\anaconda3\\lib\\site-packages\\IPython\\core\\interactiveshell.py:3165: DtypeWarning: Columns (10) have mixed types.Specify dtype option on import or set low_memory=False.\n",
      "  has_raised = await self.run_ast_nodes(code_ast.body, cell_name,\n"
     ]
    }
   ],
   "source": [
    "# exercise 2.1\n",
    "#credits = pd.read_csv('archive/credits.csv')\n",
    "#keywords = pd.read_csv('archive/keywords.csv')\n",
    "#links = pd.read_csv('archive/links.csv')\n",
    "movies = pd.read_csv('archive/movies_metadata.csv')\n",
    "#ratings = pd.read_csv('archive/ratings.csv')"
   ]
  },
  {
   "cell_type": "code",
   "execution_count": 4,
   "metadata": {},
   "outputs": [],
   "source": [
    "#ratings = pd.DataFrame(ratings)\n",
    "#ratings.head(3)"
   ]
  },
  {
   "cell_type": "code",
   "execution_count": 5,
   "metadata": {},
   "outputs": [
    {
     "data": {
      "text/html": [
       "<div>\n",
       "<style scoped>\n",
       "    .dataframe tbody tr th:only-of-type {\n",
       "        vertical-align: middle;\n",
       "    }\n",
       "\n",
       "    .dataframe tbody tr th {\n",
       "        vertical-align: top;\n",
       "    }\n",
       "\n",
       "    .dataframe thead th {\n",
       "        text-align: right;\n",
       "    }\n",
       "</style>\n",
       "<table border=\"1\" class=\"dataframe\">\n",
       "  <thead>\n",
       "    <tr style=\"text-align: right;\">\n",
       "      <th></th>\n",
       "      <th>adult</th>\n",
       "      <th>belongs_to_collection</th>\n",
       "      <th>budget</th>\n",
       "      <th>genres</th>\n",
       "      <th>homepage</th>\n",
       "      <th>id</th>\n",
       "      <th>imdb_id</th>\n",
       "      <th>original_language</th>\n",
       "      <th>original_title</th>\n",
       "      <th>overview</th>\n",
       "      <th>...</th>\n",
       "      <th>release_date</th>\n",
       "      <th>revenue</th>\n",
       "      <th>runtime</th>\n",
       "      <th>spoken_languages</th>\n",
       "      <th>status</th>\n",
       "      <th>tagline</th>\n",
       "      <th>title</th>\n",
       "      <th>video</th>\n",
       "      <th>vote_average</th>\n",
       "      <th>vote_count</th>\n",
       "    </tr>\n",
       "  </thead>\n",
       "  <tbody>\n",
       "    <tr>\n",
       "      <th>0</th>\n",
       "      <td>False</td>\n",
       "      <td>{'id': 10194, 'name': 'Toy Story Collection', ...</td>\n",
       "      <td>30000000</td>\n",
       "      <td>[{'id': 16, 'name': 'Animation'}, {'id': 35, '...</td>\n",
       "      <td>http://toystory.disney.com/toy-story</td>\n",
       "      <td>862</td>\n",
       "      <td>tt0114709</td>\n",
       "      <td>en</td>\n",
       "      <td>Toy Story</td>\n",
       "      <td>Led by Woody, Andy's toys live happily in his ...</td>\n",
       "      <td>...</td>\n",
       "      <td>1995-10-30</td>\n",
       "      <td>373554033.0</td>\n",
       "      <td>81.0</td>\n",
       "      <td>[{'iso_639_1': 'en', 'name': 'English'}]</td>\n",
       "      <td>Released</td>\n",
       "      <td>NaN</td>\n",
       "      <td>Toy Story</td>\n",
       "      <td>False</td>\n",
       "      <td>7.7</td>\n",
       "      <td>5415.0</td>\n",
       "    </tr>\n",
       "  </tbody>\n",
       "</table>\n",
       "<p>1 rows × 24 columns</p>\n",
       "</div>"
      ],
      "text/plain": [
       "   adult                              belongs_to_collection    budget  \\\n",
       "0  False  {'id': 10194, 'name': 'Toy Story Collection', ...  30000000   \n",
       "\n",
       "                                              genres  \\\n",
       "0  [{'id': 16, 'name': 'Animation'}, {'id': 35, '...   \n",
       "\n",
       "                               homepage   id    imdb_id original_language  \\\n",
       "0  http://toystory.disney.com/toy-story  862  tt0114709                en   \n",
       "\n",
       "  original_title                                           overview  ...  \\\n",
       "0      Toy Story  Led by Woody, Andy's toys live happily in his ...  ...   \n",
       "\n",
       "  release_date      revenue runtime                          spoken_languages  \\\n",
       "0   1995-10-30  373554033.0    81.0  [{'iso_639_1': 'en', 'name': 'English'}]   \n",
       "\n",
       "     status  tagline      title  video vote_average vote_count  \n",
       "0  Released      NaN  Toy Story  False          7.7     5415.0  \n",
       "\n",
       "[1 rows x 24 columns]"
      ]
     },
     "execution_count": 5,
     "metadata": {},
     "output_type": "execute_result"
    }
   ],
   "source": [
    "\n",
    "movies.head(1)"
   ]
  },
  {
   "cell_type": "code",
   "execution_count": 6,
   "metadata": {},
   "outputs": [
    {
     "name": "stderr",
     "output_type": "stream",
     "text": [
      "C:\\Users\\zmaso\\anaconda3\\lib\\site-packages\\seaborn\\_decorators.py:36: FutureWarning: Pass the following variables as keyword args: x, y. From version 0.12, the only valid positional argument will be `data`, and passing other arguments without an explicit keyword will result in an error or misinterpretation.\n",
      "  warnings.warn(\n"
     ]
    },
    {
     "data": {
      "text/plain": [
       "<AxesSubplot:xlabel='vote_average', ylabel='revenue'>"
      ]
     },
     "execution_count": 6,
     "metadata": {},
     "output_type": "execute_result"
    },
    {
     "data": {
      "image/png": "[encoded data removed]",
      "text/plain": [
       "<Figure size 432x288 with 1 Axes>"
      ]
     },
     "metadata": {
      "needs_background": "light"
     },
     "output_type": "display_data"
    }
   ],
   "source": [
    "sns.scatterplot(movies.vote_average, movies.revenue)\n"
   ]
  },
  {
   "cell_type": "code",
   "execution_count": 7,
   "metadata": {},
   "outputs": [],
   "source": [
    "import statsmodels.api as sm\n",
    "sns.set()"
   ]
  },
  {
   "cell_type": "code",
   "execution_count": 31,
   "metadata": {},
   "outputs": [
    {
     "data": {
      "text/plain": [
       "6"
      ]
     },
     "execution_count": 31,
     "metadata": {},
     "output_type": "execute_result"
    }
   ],
   "source": [
    "movies['vote_average'].dropna(axis=0, inplace=True)\n",
    "movies.vote_average.isna().sum()"
   ]
  },
  {
   "cell_type": "code",
   "execution_count": null,
   "metadata": {},
   "outputs": [],
   "source": [
    "x = movies.vote_average\n",
    "X = sm.add_constant(x)\n",
    "y = movies.revenue\n",
    "X = pd.DataFrame(sm.add_constant(x))\n",
    "est1 = sm.Logit(\n",
    "    (y > 0).astype(int),\n",
    "    sm.add_constant(x)\n",
    ").fit()\n",
    "\n",
    "est1.summary()\n",
    "X['stage1'] = est1.predict(X)\n",
    "X.columns = ['const', 'x', 'stage1']\n",
    "\n",
    "# Stage 2\n",
    "est2 = sm.OLS(y, X).fit()\n",
    "sm.graphics.plot_fit(est2, 1, vlines=False)\n",
    "est2.summary()\n"
   ]
  },
  {
   "cell_type": "code",
   "execution_count": 32,
   "metadata": {},
   "outputs": [
    {
     "name": "stderr",
     "output_type": "stream",
     "text": [
      "C:\\Users\\zmaso\\anaconda3\\lib\\site-packages\\seaborn\\distributions.py:2557: FutureWarning: `distplot` is a deprecated function and will be removed in a future version. Please adapt your code to use either `displot` (a figure-level function with similar flexibility) or `histplot` (an axes-level function for histograms).\n",
      "  warnings.warn(msg, FutureWarning)\n"
     ]
    },
    {
     "data": {
      "text/plain": [
       "<AxesSubplot:xlabel='vote_average', ylabel='Density'>"
      ]
     },
     "execution_count": 32,
     "metadata": {},
     "output_type": "execute_result"
    },
    {
     "data": {
      "image/png": "[encoded data removed]",
      "text/plain": [
       "<Figure size 432x288 with 1 Axes>"
      ]
     },
     "metadata": {},
     "output_type": "display_data"
    }
   ],
   "source": [
    "sns.distplot(movies.vote_average)"
   ]
  },
  {
   "cell_type": "code",
   "execution_count": null,
   "metadata": {},
   "outputs": [],
   "source": [
    "sns.histplot(movies.revenue)\n",
    "plt.xlim(0*1e9,.2*1e9)"
   ]
  },
  {
   "cell_type": "code",
   "execution_count": null,
   "metadata": {},
   "outputs": [],
   "source": [
    "movies.revenue = movies.revenue.fillna(method='ffill')\n",
    "movies.revenue.isna().sum()"
   ]
  },
  {
   "cell_type": "code",
   "execution_count": null,
   "metadata": {},
   "outputs": [],
   "source": [
    "x = movies.revenue\n",
    "X = sm.add_constant(x)\n",
    "y = movies.vote_average\n",
    "\n",
    "neg_bino_est = sm.NegativeBinomial(y,X).fit()\n",
    "neg_bino_est.summary()\n"
   ]
  },
  {
   "cell_type": "code",
   "execution_count": null,
   "metadata": {},
   "outputs": [],
   "source": [
    "#there is exotic data = there is  a spike on zero\n",
    "#to solve the problem: two stage modelling has been used\n",
    "#stage one: use the exotic data part as a predictor for the rest of the data not being in zero part\n",
    "x1 = x.copy()\n",
    "\n",
    "est1 = sm.Logit((y > 0).astype(int), sm.add_constant(x1)).fit()\n",
    "est1.summary()\n",
    "\n",
    "\n",
    "x1 = pd.DataFrame(sm.add_constant(x1))\n",
    "x1['stage1'] = est1.predict(x1)\n",
    "# Stage 2\n",
    "est2 = sm.OLS(y, x1).fit()\n",
    "est2.summary()"
   ]
  },
  {
   "cell_type": "code",
   "execution_count": null,
   "metadata": {},
   "outputs": [],
   "source": [
    "#sns.distplot(movies.budget)"
   ]
  },
  {
   "cell_type": "code",
   "execution_count": null,
   "metadata": {},
   "outputs": [],
   "source": [
    "#remove the useless columns\n",
    "movies.drop(['video', 'adult', 'popularity',\n",
    "            'poster_path', 'overview', 'tagline',\n",
    "            'original_language', 'original_title', \n",
    "            'homepage', 'belongs_to_collection', \n",
    "             'status','imdb_id','spoken_languages', 'title', 'production_countries','production_companies' ], axis=1, inplace=True)"
   ]
  },
  {
   "cell_type": "code",
   "execution_count": null,
   "metadata": {},
   "outputs": [],
   "source": [
    "movies.columns"
   ]
  },
  {
   "cell_type": "code",
   "execution_count": null,
   "metadata": {},
   "outputs": [],
   "source": [
    "movies['release_date'] =  pd.to_datetime(movies['release_date'],format='%Y-%m-%d', errors='coerce')\n",
    "movies['release_date'] = movies['release_date'].apply(lambda x: x.month)\n",
    "movies['release_date'] = movies['release_date'].fillna(method='bfill')\n",
    "movies['release_date'].isna().sum()"
   ]
  },
  {
   "cell_type": "code",
   "execution_count": null,
   "metadata": {},
   "outputs": [],
   "source": [
    "#make dummies the genres column and then dropped it\n",
    "movies = movies.join(movies.genres\n",
    "   # Could be optimized\n",
    "   .str.replace(\"'\", '\"')\n",
    "   .apply(json.loads)\n",
    "   .apply(lambda row : [d['name'] for d in row])\n",
    "   .astype(str)\n",
    "   # Could be done in a single regex\n",
    "   .str.replace(\"[\", \"\")\n",
    "   .str.replace(\"]\", \"\")\n",
    "   .str.get_dummies(',')\n",
    ").drop('genres', axis=1)"
   ]
  },
  {
   "cell_type": "code",
   "execution_count": null,
   "metadata": {},
   "outputs": [],
   "source": [
    "movies.budget.iloc[19730] = movies.budget.iloc[19730].replace('/ff9qCepilowshEtG2GYWwzt2bs4.jpg','0')\n",
    "movies.budget.isna().sum()\n"
   ]
  },
  {
   "cell_type": "code",
   "execution_count": null,
   "metadata": {},
   "outputs": [],
   "source": [
    "movies.head(3)"
   ]
  },
  {
   "cell_type": "code",
   "execution_count": null,
   "metadata": {},
   "outputs": [],
   "source": [
    "movies.budget = movies.budget.apply(lambda x: int(x))\n",
    "#movies[movies.budget =='/ff9qCepilowshEtG2GYWwzt2bs4.jpg']\n"
   ]
  },
  {
   "cell_type": "code",
   "execution_count": null,
   "metadata": {},
   "outputs": [],
   "source": []
  },
  {
   "cell_type": "markdown",
   "metadata": {
    "id": "-3qcfNu9TDZh"
   },
   "source": [
    "## Exercise 2.2: Movies Manual Regression\n",
    "\n",
    "Use your `X` and `y` matrix from 2.1 to calculate the linear regression yourself using the normal equation $(X^T X)^{-1}X^Ty$.\n",
    "\n",
    "Verify that the coefficients are the same."
   ]
  },
  {
   "cell_type": "code",
   "execution_count": null,
   "metadata": {
    "id": "PH6MaM4cTDZi"
   },
   "outputs": [],
   "source": [
    "# exercise 2.2\n"
   ]
  },
  {
   "cell_type": "markdown",
   "metadata": {
    "id": "KBhZrHnyTDZj"
   },
   "source": [
    "## Exercise 2.3: Movies gradient descent regression\n",
    "\n",
    "Use your `X` and `y` matrix from 2.1 to calculate the linear regression yourself using **gradient descent**. \n",
    "\n",
    "Hint: use `scipy.optimize` and remember we're finding the $\\beta$ that minimizes the squared loss function of linear regression: $f(\\beta) = (\\beta X - y)^2$. This will look like part 3 of this lecture.\n",
    "\n",
    "Verify your coefficients are similar to the ones in 2.1 and 2.2. They won't necessarily be exactly the same, but should be roughly similar."
   ]
  },
  {
   "cell_type": "code",
   "execution_count": null,
   "metadata": {
    "id": "4j7Iw0oPTDZl"
   },
   "outputs": [],
   "source": [
    "# exercise 2.3\n"
   ]
  }
 ],
 "metadata": {
  "colab": {
   "collapsed_sections": [],
   "name": "Workshop_ Maximum likelihood.ipynb",
   "provenance": []
  },
  "kernelspec": {
   "display_name": "Python 3",
   "language": "python",
   "name": "python3"
  },
  "language_info": {
   "codemirror_mode": {
    "name": "ipython",
    "version": 3
   },
   "file_extension": ".py",
   "mimetype": "text/x-python",
   "name": "python",
   "nbconvert_exporter": "python",
   "pygments_lexer": "ipython3",
   "version": "3.8.8"
  }
 },
 "nbformat": 4,
 "nbformat_minor": 4
}
