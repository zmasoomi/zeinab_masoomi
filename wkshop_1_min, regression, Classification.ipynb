{
 "cells": [
  {
   "cell_type": "markdown",
   "id": "d7fbb69d",
   "metadata": {},
   "source": [
    "# Regression - Classification\n",
    "\n",
    "## Exercise 1: Titanic, but correctly this time!\n",
    "\n",
    "Take your linear regression model from the previous workshop on the titanic dataset.\n",
    "\n",
    "Swap OLS for logistic regresssion and compare the classification model metrics (accuracy, ROC plot, F1, precision/recall).\n",
    "\n",
    "How much better is logistic regression than OLS on binary data?"
   ]
  },
  {
   "cell_type": "code",
   "execution_count": 1,
   "id": "97c9c890",
   "metadata": {},
   "outputs": [],
   "source": [
    "import numpy as np\n",
    "import pandas as pd\n",
    "import matplotlib.pyplot as plt\n",
    "import seaborn as sns\n",
    "from sklearn.model_selection import train_test_split\n",
    "from sklearn.linear_model import LogisticRegression\n",
    "import statsmodels.api as sm\n",
    "from sklearn.metrics import confusion_matrix, classification_report\n",
    "import scipy.special\n",
    "from sklearn.metrics import roc_auc_score, roc_curve\n",
    "from sklearn.datasets import fetch_openml\n",
    "from sklearn.preprocessing import StandardScaler, MinMaxScaler, PolynomialFeatures\n"
   ]
  },
  {
   "cell_type": "code",
   "execution_count": 2,
   "id": "cd2bec5d",
   "metadata": {},
   "outputs": [],
   "source": [
    "# exercise 1"
   ]
  },
  {
   "cell_type": "code",
   "execution_count": 3,
   "id": "6f189d65",
   "metadata": {},
   "outputs": [
    {
     "data": {
      "text/html": [
       "<div>\n",
       "<style scoped>\n",
       "    .dataframe tbody tr th:only-of-type {\n",
       "        vertical-align: middle;\n",
       "    }\n",
       "\n",
       "    .dataframe tbody tr th {\n",
       "        vertical-align: top;\n",
       "    }\n",
       "\n",
       "    .dataframe thead th {\n",
       "        text-align: right;\n",
       "    }\n",
       "</style>\n",
       "<table border=\"1\" class=\"dataframe\">\n",
       "  <thead>\n",
       "    <tr style=\"text-align: right;\">\n",
       "      <th></th>\n",
       "      <th>survived</th>\n",
       "      <th>pclass</th>\n",
       "      <th>sex</th>\n",
       "      <th>age</th>\n",
       "      <th>sibsp</th>\n",
       "      <th>parch</th>\n",
       "      <th>fare</th>\n",
       "      <th>embarked</th>\n",
       "      <th>class</th>\n",
       "      <th>who</th>\n",
       "      <th>adult_male</th>\n",
       "      <th>deck</th>\n",
       "      <th>embark_town</th>\n",
       "      <th>alive</th>\n",
       "      <th>alone</th>\n",
       "    </tr>\n",
       "  </thead>\n",
       "  <tbody>\n",
       "    <tr>\n",
       "      <th>0</th>\n",
       "      <td>0</td>\n",
       "      <td>3</td>\n",
       "      <td>male</td>\n",
       "      <td>22.0</td>\n",
       "      <td>1</td>\n",
       "      <td>0</td>\n",
       "      <td>7.2500</td>\n",
       "      <td>S</td>\n",
       "      <td>Third</td>\n",
       "      <td>man</td>\n",
       "      <td>True</td>\n",
       "      <td>NaN</td>\n",
       "      <td>Southampton</td>\n",
       "      <td>no</td>\n",
       "      <td>False</td>\n",
       "    </tr>\n",
       "    <tr>\n",
       "      <th>1</th>\n",
       "      <td>1</td>\n",
       "      <td>1</td>\n",
       "      <td>female</td>\n",
       "      <td>38.0</td>\n",
       "      <td>1</td>\n",
       "      <td>0</td>\n",
       "      <td>71.2833</td>\n",
       "      <td>C</td>\n",
       "      <td>First</td>\n",
       "      <td>woman</td>\n",
       "      <td>False</td>\n",
       "      <td>C</td>\n",
       "      <td>Cherbourg</td>\n",
       "      <td>yes</td>\n",
       "      <td>False</td>\n",
       "    </tr>\n",
       "    <tr>\n",
       "      <th>2</th>\n",
       "      <td>1</td>\n",
       "      <td>3</td>\n",
       "      <td>female</td>\n",
       "      <td>26.0</td>\n",
       "      <td>0</td>\n",
       "      <td>0</td>\n",
       "      <td>7.9250</td>\n",
       "      <td>S</td>\n",
       "      <td>Third</td>\n",
       "      <td>woman</td>\n",
       "      <td>False</td>\n",
       "      <td>NaN</td>\n",
       "      <td>Southampton</td>\n",
       "      <td>yes</td>\n",
       "      <td>True</td>\n",
       "    </tr>\n",
       "    <tr>\n",
       "      <th>3</th>\n",
       "      <td>1</td>\n",
       "      <td>1</td>\n",
       "      <td>female</td>\n",
       "      <td>35.0</td>\n",
       "      <td>1</td>\n",
       "      <td>0</td>\n",
       "      <td>53.1000</td>\n",
       "      <td>S</td>\n",
       "      <td>First</td>\n",
       "      <td>woman</td>\n",
       "      <td>False</td>\n",
       "      <td>C</td>\n",
       "      <td>Southampton</td>\n",
       "      <td>yes</td>\n",
       "      <td>False</td>\n",
       "    </tr>\n",
       "    <tr>\n",
       "      <th>4</th>\n",
       "      <td>0</td>\n",
       "      <td>3</td>\n",
       "      <td>male</td>\n",
       "      <td>35.0</td>\n",
       "      <td>0</td>\n",
       "      <td>0</td>\n",
       "      <td>8.0500</td>\n",
       "      <td>S</td>\n",
       "      <td>Third</td>\n",
       "      <td>man</td>\n",
       "      <td>True</td>\n",
       "      <td>NaN</td>\n",
       "      <td>Southampton</td>\n",
       "      <td>no</td>\n",
       "      <td>True</td>\n",
       "    </tr>\n",
       "  </tbody>\n",
       "</table>\n",
       "</div>"
      ],
      "text/plain": [
       "   survived  pclass     sex   age  sibsp  parch     fare embarked  class  \\\n",
       "0         0       3    male  22.0      1      0   7.2500        S  Third   \n",
       "1         1       1  female  38.0      1      0  71.2833        C  First   \n",
       "2         1       3  female  26.0      0      0   7.9250        S  Third   \n",
       "3         1       1  female  35.0      1      0  53.1000        S  First   \n",
       "4         0       3    male  35.0      0      0   8.0500        S  Third   \n",
       "\n",
       "     who  adult_male deck  embark_town alive  alone  \n",
       "0    man        True  NaN  Southampton    no  False  \n",
       "1  woman       False    C    Cherbourg   yes  False  \n",
       "2  woman       False  NaN  Southampton   yes   True  \n",
       "3  woman       False    C  Southampton   yes  False  \n",
       "4    man        True  NaN  Southampton    no   True  "
      ]
     },
     "execution_count": 3,
     "metadata": {},
     "output_type": "execute_result"
    }
   ],
   "source": [
    "data = sns.load_dataset('titanic')\n",
    "df = data.copy()\n",
    "df.head(5)"
   ]
  },
  {
   "cell_type": "code",
   "execution_count": 4,
   "id": "9885020f",
   "metadata": {},
   "outputs": [],
   "source": [
    "df.drop(['deck', 'alive', 'adult_male', 'who', 'class', 'embark_town', 'sibsp', 'parch'],\n",
    "        axis=1, inplace=True)#remove redundency\n"
   ]
  },
  {
   "cell_type": "code",
   "execution_count": 5,
   "id": "a1cb8202",
   "metadata": {},
   "outputs": [
    {
     "data": {
      "text/plain": [
       "survived      0\n",
       "pclass        0\n",
       "sex           0\n",
       "age         177\n",
       "fare          0\n",
       "embarked      2\n",
       "alone         0\n",
       "dtype: int64"
      ]
     },
     "execution_count": 5,
     "metadata": {},
     "output_type": "execute_result"
    }
   ],
   "source": [
    "df.isna().sum()#having null value summary"
   ]
  },
  {
   "cell_type": "code",
   "execution_count": 6,
   "id": "274c5501",
   "metadata": {},
   "outputs": [],
   "source": [
    "df.age = df.age.fillna(method='ffill')#fill null data with previous recored of nul one\n",
    "df = df.dropna()"
   ]
  },
  {
   "cell_type": "code",
   "execution_count": 7,
   "id": "167a7ebf",
   "metadata": {},
   "outputs": [
    {
     "data": {
      "text/html": [
       "<div>\n",
       "<style scoped>\n",
       "    .dataframe tbody tr th:only-of-type {\n",
       "        vertical-align: middle;\n",
       "    }\n",
       "\n",
       "    .dataframe tbody tr th {\n",
       "        vertical-align: top;\n",
       "    }\n",
       "\n",
       "    .dataframe thead th {\n",
       "        text-align: right;\n",
       "    }\n",
       "</style>\n",
       "<table border=\"1\" class=\"dataframe\">\n",
       "  <thead>\n",
       "    <tr style=\"text-align: right;\">\n",
       "      <th></th>\n",
       "      <th>fare</th>\n",
       "      <th>age</th>\n",
       "      <th>age2</th>\n",
       "      <th>fare2</th>\n",
       "      <th>alone_True</th>\n",
       "      <th>sex_male</th>\n",
       "      <th>embarked_Q</th>\n",
       "      <th>embarked_S</th>\n",
       "    </tr>\n",
       "  </thead>\n",
       "  <tbody>\n",
       "    <tr>\n",
       "      <th>0</th>\n",
       "      <td>7.2500</td>\n",
       "      <td>22.0</td>\n",
       "      <td>506.0</td>\n",
       "      <td>59.812500</td>\n",
       "      <td>0</td>\n",
       "      <td>1</td>\n",
       "      <td>0</td>\n",
       "      <td>1</td>\n",
       "    </tr>\n",
       "    <tr>\n",
       "      <th>1</th>\n",
       "      <td>71.2833</td>\n",
       "      <td>38.0</td>\n",
       "      <td>1482.0</td>\n",
       "      <td>5152.592159</td>\n",
       "      <td>0</td>\n",
       "      <td>0</td>\n",
       "      <td>0</td>\n",
       "      <td>0</td>\n",
       "    </tr>\n",
       "    <tr>\n",
       "      <th>2</th>\n",
       "      <td>7.9250</td>\n",
       "      <td>26.0</td>\n",
       "      <td>702.0</td>\n",
       "      <td>70.730625</td>\n",
       "      <td>1</td>\n",
       "      <td>0</td>\n",
       "      <td>0</td>\n",
       "      <td>1</td>\n",
       "    </tr>\n",
       "  </tbody>\n",
       "</table>\n",
       "</div>"
      ],
      "text/plain": [
       "      fare   age    age2        fare2  alone_True  sex_male  embarked_Q  \\\n",
       "0   7.2500  22.0   506.0    59.812500           0         1           0   \n",
       "1  71.2833  38.0  1482.0  5152.592159           0         0           0   \n",
       "2   7.9250  26.0   702.0    70.730625           1         0           0   \n",
       "\n",
       "   embarked_S  \n",
       "0           1  \n",
       "1           0  \n",
       "2           1  "
      ]
     },
     "execution_count": 7,
     "metadata": {},
     "output_type": "execute_result"
    }
   ],
   "source": [
    "num_data = ['fare', 'age']#numerical data\n",
    "cat_data = ['alone','sex', 'embarked']#categorial data\n",
    "\n",
    "y = df.survived #target value\n",
    "x = df[['fare', 'age']].copy()\n",
    "\n",
    "x['age2'] = df.age**2 + df.age #t decrease the interaction of value and better fitting\n",
    "x['fare2'] = df.fare**2 + df.fare\n",
    "\n",
    "for col in cat_data: #making binary the categorial data\n",
    "    x = x.join(pd.get_dummies(df[col], drop_first=True,prefix=col))\n",
    "x.head(3)\n"
   ]
  },
  {
   "cell_type": "code",
   "execution_count": 8,
   "id": "8870a247",
   "metadata": {},
   "outputs": [
    {
     "data": {
      "text/html": [
       "<div>\n",
       "<style scoped>\n",
       "    .dataframe tbody tr th:only-of-type {\n",
       "        vertical-align: middle;\n",
       "    }\n",
       "\n",
       "    .dataframe tbody tr th {\n",
       "        vertical-align: top;\n",
       "    }\n",
       "\n",
       "    .dataframe thead th {\n",
       "        text-align: right;\n",
       "    }\n",
       "</style>\n",
       "<table border=\"1\" class=\"dataframe\">\n",
       "  <thead>\n",
       "    <tr style=\"text-align: right;\">\n",
       "      <th></th>\n",
       "      <th>fare</th>\n",
       "      <th>age</th>\n",
       "      <th>age2</th>\n",
       "      <th>fare2</th>\n",
       "      <th>alone_True</th>\n",
       "      <th>sex_male</th>\n",
       "      <th>embarked_Q</th>\n",
       "      <th>embarked_S</th>\n",
       "    </tr>\n",
       "  </thead>\n",
       "  <tbody>\n",
       "    <tr>\n",
       "      <th>0</th>\n",
       "      <td>0.014151</td>\n",
       "      <td>0.271174</td>\n",
       "      <td>0.078002</td>\n",
       "      <td>0.000227</td>\n",
       "      <td>0.0</td>\n",
       "      <td>1.0</td>\n",
       "      <td>0.0</td>\n",
       "      <td>1.0</td>\n",
       "    </tr>\n",
       "    <tr>\n",
       "      <th>1</th>\n",
       "      <td>0.139136</td>\n",
       "      <td>0.472229</td>\n",
       "      <td>0.228633</td>\n",
       "      <td>0.019592</td>\n",
       "      <td>0.0</td>\n",
       "      <td>0.0</td>\n",
       "      <td>0.0</td>\n",
       "      <td>0.0</td>\n",
       "    </tr>\n",
       "    <tr>\n",
       "      <th>2</th>\n",
       "      <td>0.015469</td>\n",
       "      <td>0.321438</td>\n",
       "      <td>0.108251</td>\n",
       "      <td>0.000269</td>\n",
       "      <td>1.0</td>\n",
       "      <td>0.0</td>\n",
       "      <td>0.0</td>\n",
       "      <td>1.0</td>\n",
       "    </tr>\n",
       "  </tbody>\n",
       "</table>\n",
       "</div>"
      ],
      "text/plain": [
       "       fare       age      age2     fare2  alone_True  sex_male  embarked_Q  \\\n",
       "0  0.014151  0.271174  0.078002  0.000227         0.0       1.0         0.0   \n",
       "1  0.139136  0.472229  0.228633  0.019592         0.0       0.0         0.0   \n",
       "2  0.015469  0.321438  0.108251  0.000269         1.0       0.0         0.0   \n",
       "\n",
       "   embarked_S  \n",
       "0         1.0  \n",
       "1         0.0  \n",
       "2         1.0  "
      ]
     },
     "execution_count": 8,
     "metadata": {},
     "output_type": "execute_result"
    }
   ],
   "source": [
    "scaler = MinMaxScaler() #scaling data to have the adjusting the range of value without disturbing the distrubution\n",
    "x_scaled = scaler.fit_transform(x)\n",
    "x = pd.DataFrame(x_scaled, columns = x.columns)#making dataframe from scaled data\n",
    "x.head(3)"
   ]
  },
  {
   "cell_type": "code",
   "execution_count": 9,
   "id": "2a285ce8",
   "metadata": {},
   "outputs": [],
   "source": [
    "xtrain, xtest, ytrain, ytest = train_test_split(x, y, test_size=0.3)\n",
    "model = LogisticRegression() #train data by logisticregression\n",
    "model.fit(xtrain, ytrain)\n",
    "ypred = model.predict(xtest)#target value prediction"
   ]
  },
  {
   "cell_type": "code",
   "execution_count": 10,
   "id": "dc33e82e",
   "metadata": {},
   "outputs": [
    {
     "name": "stdout",
     "output_type": "stream",
     "text": [
      "True value: not survived :138\n",
      "True value: survived :75\n",
      "False value : not survived but predicted as survived:25\n",
      "False value : survived but predicted not survived:29\n",
      "Accuracy of logistic regression classifier on test set: 0.80\n"
     ]
    },
    {
     "data": {
      "image/png": "[encoded data removed]",
      "text/plain": [
       "<Figure size 432x288 with 2 Axes>"
      ]
     },
     "metadata": {
      "needs_background": "light"
     },
     "output_type": "display_data"
    }
   ],
   "source": [
    "confu_matrix = confusion_matrix(ytest, ypred) #matrix of true positive, negative and false positive, negative respectively\n",
    "sns.heatmap(confu_matrix, annot=True, fmt=\"d\") #visualizing by heatmap\n",
    "plt.title('Confusion Matrix')\n",
    "plt.xlabel('Predicted')\n",
    "plt.ylabel('True')\n",
    "\n",
    "print(f'True value: not survived :{confu_matrix[0][0]}')\n",
    "print(f'True value: survived :{confu_matrix[1][1]}')\n",
    "print(f'False value : not survived but predicted as survived:{confu_matrix[0][1]}')\n",
    "print(f'False value : survived but predicted not survived:{confu_matrix[1][0]}')\n",
    "\n",
    "print('Accuracy of logistic regression classifier on test set: {:.2f}'.format(model.score(xtest,ytest))) #Percentage\n",
    "#this regression in statsmodel has almost40% accuracy which is far lower than logistics."
   ]
  },
  {
   "cell_type": "code",
   "execution_count": 11,
   "id": "ef77910b",
   "metadata": {},
   "outputs": [
    {
     "name": "stdout",
     "output_type": "stream",
     "text": [
      "              precision    recall  f1-score   support\n",
      "\n",
      "           0       0.83      0.85      0.84       163\n",
      "           1       0.75      0.72      0.74       104\n",
      "\n",
      "    accuracy                           0.80       267\n",
      "   macro avg       0.79      0.78      0.79       267\n",
      "weighted avg       0.80      0.80      0.80       267\n",
      "\n"
     ]
    }
   ],
   "source": [
    "print(classification_report(ytest,ypred))"
   ]
  },
  {
   "cell_type": "code",
   "execution_count": 12,
   "id": "1d2c58ae",
   "metadata": {},
   "outputs": [
    {
     "data": {
      "text/plain": [
       "<AxesSubplot:xlabel='fare2', ylabel='survived'>"
      ]
     },
     "execution_count": 12,
     "metadata": {},
     "output_type": "execute_result"
    },
    {
     "data": {
      "image/png": "[encoded data removed]",
      "text/plain": [
       "<Figure size 432x288 with 1 Axes>"
      ]
     },
     "metadata": {
      "needs_background": "light"
     },
     "output_type": "display_data"
    }
   ],
   "source": [
    "sns.regplot(x=xtrain.fare2, y=ytrain, logistic=True, ci=None) #logistic plot for feature of fare which has sigmoid like\n"
   ]
  },
  {
   "cell_type": "code",
   "execution_count": 13,
   "id": "d560dc39",
   "metadata": {},
   "outputs": [
    {
     "data": {
      "text/plain": [
       "<AxesSubplot:xlabel='age2', ylabel='survived'>"
      ]
     },
     "execution_count": 13,
     "metadata": {},
     "output_type": "execute_result"
    },
    {
     "data": {
      "image/png": "[encoded data removed]",
      "text/plain": [
       "<Figure size 432x288 with 1 Axes>"
      ]
     },
     "metadata": {
      "needs_background": "light"
     },
     "output_type": "display_data"
    }
   ],
   "source": [
    "sns.regplot(x=xtrain.age2, y=ytrain, logistic=True, ci=None)#i don't know why this plot could not modled by logistic regression"
   ]
  },
  {
   "cell_type": "code",
   "execution_count": 14,
   "id": "fee5874b",
   "metadata": {},
   "outputs": [
    {
     "data": {
      "image/png": "[encoded data removed]",
      "text/plain": [
       "<Figure size 432x288 with 1 Axes>"
      ]
     },
     "metadata": {
      "needs_background": "light"
     },
     "output_type": "display_data"
    }
   ],
   "source": [
    "logit_roc_auc = roc_auc_score(ytest, model.predict_proba(xtest)[:,1])\n",
    "fpr, tpr, thresholds = roc_curve(ytest, model.predict_proba(xtest)[:,1])\n",
    "plt.figure()\n",
    "plt.plot(fpr, tpr, label='Logistic Regression (area = %0.2f)' % logit_roc_auc)\n",
    "plt.plot([0, 1], [0, 1],'r--')\n",
    "plt.xlabel('False Positive Rate')\n",
    "plt.ylabel('True Positive Rate')\n",
    "plt.title('Receiver operating characteristic')\n",
    "plt.legend(loc=\"lower right\")\n",
    "plt.savefig('Log_ROC')\n",
    "plt.show()"
   ]
  },
  {
   "cell_type": "markdown",
   "id": "047a6fec",
   "metadata": {},
   "source": [
    "## Exercise 2: Intro To Computer Vision\n",
    "\n",
    "The [MNIST dataset](https://en.wikipedia.org/wiki/MNIST_database) is a classic in computer vision. It's a database of manually written digits (from 0 to 9) scanned into a 28x28 pixel image.\n",
    "\n",
    "The `X` matrix is 784 numbers (28x28) with numbers saying how dark the pixel is. The `y` variable is the number. The task is to use the images to do optical recognition.\n",
    "\n",
    "You can fetch the dataset with the following command:\n",
    "\n",
    "```\n",
    "from sklearn.datasets import fetch_openml\n",
    "fetch_openml('mnist_784', version=1, return_X_y=True, as_frame=False)\n",
    "```\n",
    "\n",
    "Use sklearn's logistic regression and any of the tricks you want to boost predictive accuracy. Here's a few notes:\n",
    "\n",
    "- Use the sklearn `train_test_split` we saw in class to keep some holdout data to test on.\n",
    "- You can use whatever sklearn preprocessing you think is relevant. Here's a few: \n",
    "\n",
    "```\n",
    "from sklearn.preprocessing import StandardScaler\n",
    "from sklearn.preprocessing import PolynomialFeatures\n",
    "```\n",
    "\n",
    "- Since there's many features (especially if you use data augmentation like polynomial features), this is a good time to use regularization. Try to find the best regularization parameters possible.\n",
    "- You should be able to get at least 80% on a test set size of 10_000"
   ]
  },
  {
   "cell_type": "code",
   "execution_count": 15,
   "id": "375f52cc",
   "metadata": {},
   "outputs": [],
   "source": [
    "# exercise 2"
   ]
  },
  {
   "cell_type": "code",
   "execution_count": 34,
   "id": "27098e66",
   "metadata": {},
   "outputs": [],
   "source": [
    "data = fetch_openml('mnist_784', version=1, return_X_y=True, as_frame=False)\n"
   ]
  },
  {
   "cell_type": "code",
   "execution_count": 35,
   "id": "1df64214",
   "metadata": {},
   "outputs": [
    {
     "data": {
      "text/html": [
       "<div>\n",
       "<style scoped>\n",
       "    .dataframe tbody tr th:only-of-type {\n",
       "        vertical-align: middle;\n",
       "    }\n",
       "\n",
       "    .dataframe tbody tr th {\n",
       "        vertical-align: top;\n",
       "    }\n",
       "\n",
       "    .dataframe thead th {\n",
       "        text-align: right;\n",
       "    }\n",
       "</style>\n",
       "<table border=\"1\" class=\"dataframe\">\n",
       "  <thead>\n",
       "    <tr style=\"text-align: right;\">\n",
       "      <th></th>\n",
       "      <th>number</th>\n",
       "      <th>0</th>\n",
       "      <th>1</th>\n",
       "      <th>2</th>\n",
       "      <th>3</th>\n",
       "      <th>4</th>\n",
       "      <th>5</th>\n",
       "      <th>6</th>\n",
       "      <th>7</th>\n",
       "      <th>8</th>\n",
       "      <th>...</th>\n",
       "      <th>774</th>\n",
       "      <th>775</th>\n",
       "      <th>776</th>\n",
       "      <th>777</th>\n",
       "      <th>778</th>\n",
       "      <th>779</th>\n",
       "      <th>780</th>\n",
       "      <th>781</th>\n",
       "      <th>782</th>\n",
       "      <th>783</th>\n",
       "    </tr>\n",
       "  </thead>\n",
       "  <tbody>\n",
       "    <tr>\n",
       "      <th>0</th>\n",
       "      <td>5</td>\n",
       "      <td>0.0</td>\n",
       "      <td>0.0</td>\n",
       "      <td>0.0</td>\n",
       "      <td>0.0</td>\n",
       "      <td>0.0</td>\n",
       "      <td>0.0</td>\n",
       "      <td>0.0</td>\n",
       "      <td>0.0</td>\n",
       "      <td>0.0</td>\n",
       "      <td>...</td>\n",
       "      <td>-0.032951</td>\n",
       "      <td>-0.023387</td>\n",
       "      <td>-0.01675</td>\n",
       "      <td>-0.010638</td>\n",
       "      <td>-0.008339</td>\n",
       "      <td>-0.005342</td>\n",
       "      <td>0.0</td>\n",
       "      <td>0.0</td>\n",
       "      <td>0.0</td>\n",
       "      <td>0.0</td>\n",
       "    </tr>\n",
       "    <tr>\n",
       "      <th>1</th>\n",
       "      <td>0</td>\n",
       "      <td>0.0</td>\n",
       "      <td>0.0</td>\n",
       "      <td>0.0</td>\n",
       "      <td>0.0</td>\n",
       "      <td>0.0</td>\n",
       "      <td>0.0</td>\n",
       "      <td>0.0</td>\n",
       "      <td>0.0</td>\n",
       "      <td>0.0</td>\n",
       "      <td>...</td>\n",
       "      <td>-0.032951</td>\n",
       "      <td>-0.023387</td>\n",
       "      <td>-0.01675</td>\n",
       "      <td>-0.010638</td>\n",
       "      <td>-0.008339</td>\n",
       "      <td>-0.005342</td>\n",
       "      <td>0.0</td>\n",
       "      <td>0.0</td>\n",
       "      <td>0.0</td>\n",
       "      <td>0.0</td>\n",
       "    </tr>\n",
       "    <tr>\n",
       "      <th>2</th>\n",
       "      <td>4</td>\n",
       "      <td>0.0</td>\n",
       "      <td>0.0</td>\n",
       "      <td>0.0</td>\n",
       "      <td>0.0</td>\n",
       "      <td>0.0</td>\n",
       "      <td>0.0</td>\n",
       "      <td>0.0</td>\n",
       "      <td>0.0</td>\n",
       "      <td>0.0</td>\n",
       "      <td>...</td>\n",
       "      <td>-0.032951</td>\n",
       "      <td>-0.023387</td>\n",
       "      <td>-0.01675</td>\n",
       "      <td>-0.010638</td>\n",
       "      <td>-0.008339</td>\n",
       "      <td>-0.005342</td>\n",
       "      <td>0.0</td>\n",
       "      <td>0.0</td>\n",
       "      <td>0.0</td>\n",
       "      <td>0.0</td>\n",
       "    </tr>\n",
       "    <tr>\n",
       "      <th>3</th>\n",
       "      <td>1</td>\n",
       "      <td>0.0</td>\n",
       "      <td>0.0</td>\n",
       "      <td>0.0</td>\n",
       "      <td>0.0</td>\n",
       "      <td>0.0</td>\n",
       "      <td>0.0</td>\n",
       "      <td>0.0</td>\n",
       "      <td>0.0</td>\n",
       "      <td>0.0</td>\n",
       "      <td>...</td>\n",
       "      <td>-0.032951</td>\n",
       "      <td>-0.023387</td>\n",
       "      <td>-0.01675</td>\n",
       "      <td>-0.010638</td>\n",
       "      <td>-0.008339</td>\n",
       "      <td>-0.005342</td>\n",
       "      <td>0.0</td>\n",
       "      <td>0.0</td>\n",
       "      <td>0.0</td>\n",
       "      <td>0.0</td>\n",
       "    </tr>\n",
       "  </tbody>\n",
       "</table>\n",
       "<p>4 rows × 785 columns</p>\n",
       "</div>"
      ],
      "text/plain": [
       "  number    0    1    2    3    4    5    6    7    8  ...       774  \\\n",
       "0      5  0.0  0.0  0.0  0.0  0.0  0.0  0.0  0.0  0.0  ... -0.032951   \n",
       "1      0  0.0  0.0  0.0  0.0  0.0  0.0  0.0  0.0  0.0  ... -0.032951   \n",
       "2      4  0.0  0.0  0.0  0.0  0.0  0.0  0.0  0.0  0.0  ... -0.032951   \n",
       "3      1  0.0  0.0  0.0  0.0  0.0  0.0  0.0  0.0  0.0  ... -0.032951   \n",
       "\n",
       "        775      776       777       778       779  780  781  782  783  \n",
       "0 -0.023387 -0.01675 -0.010638 -0.008339 -0.005342  0.0  0.0  0.0  0.0  \n",
       "1 -0.023387 -0.01675 -0.010638 -0.008339 -0.005342  0.0  0.0  0.0  0.0  \n",
       "2 -0.023387 -0.01675 -0.010638 -0.008339 -0.005342  0.0  0.0  0.0  0.0  \n",
       "3 -0.023387 -0.01675 -0.010638 -0.008339 -0.005342  0.0  0.0  0.0  0.0  \n",
       "\n",
       "[4 rows x 785 columns]"
      ]
     },
     "execution_count": 35,
     "metadata": {},
     "output_type": "execute_result"
    }
   ],
   "source": [
    "scaler = StandardScaler()\n",
    "scaled_data = scaler.fit_transform(data[0])\n",
    "df= pd.DataFrame(scaled_data, data[1]).reset_index()\n",
    "df.rename(columns = {'index':'number'}, inplace = True)\n",
    "df.head(4)"
   ]
  },
  {
   "cell_type": "code",
   "execution_count": 36,
   "id": "1bf19bdb",
   "metadata": {},
   "outputs": [
    {
     "name": "stdout",
     "output_type": "stream",
     "text": [
      "<class 'pandas.core.frame.DataFrame'>\n",
      "RangeIndex: 70000 entries, 0 to 69999\n",
      "Columns: 785 entries, number to 783\n",
      "dtypes: float64(784), object(1)\n",
      "memory usage: 419.2+ MB\n"
     ]
    }
   ],
   "source": [
    "df.info()"
   ]
  },
  {
   "cell_type": "code",
   "execution_count": 37,
   "id": "f7ddd18f",
   "metadata": {},
   "outputs": [
    {
     "data": {
      "image/png": "[encoded data removed]",
      "text/plain": [
       "<Figure size 432x288 with 1 Axes>"
      ]
     },
     "metadata": {
      "needs_background": "light"
     },
     "output_type": "display_data"
    }
   ],
   "source": [
    "image = df.iloc[:1, 1: ]# plot the sample\n",
    "fig = plt.figure\n",
    "plt.imshow(image, cmap='gray')\n",
    "plt.show()"
   ]
  },
  {
   "cell_type": "code",
   "execution_count": 20,
   "id": "65b3b56f",
   "metadata": {},
   "outputs": [],
   "source": [
    "#plt.matshow(df.iloc[:1, 1: ])"
   ]
  },
  {
   "cell_type": "code",
   "execution_count": 54,
   "id": "30b7a19b",
   "metadata": {},
   "outputs": [],
   "source": [
    "xtrain, xtest, ytrain, ytest = train_test_split(df.iloc[:70000,1:]/255, df.iloc[:70000,0], test_size=0.15 )\n",
    "#all item in xtrain have been divided to 255 to make it easier in calcualation\n",
    "#when the polynimial features was used the time process surged so just i used rescaling and simpl division.\n"
   ]
  },
  {
   "cell_type": "code",
   "execution_count": 55,
   "id": "9eacdf9e",
   "metadata": {},
   "outputs": [
    {
     "data": {
      "text/plain": [
       "((59500, 784), (59500,))"
      ]
     },
     "execution_count": 55,
     "metadata": {},
     "output_type": "execute_result"
    }
   ],
   "source": [
    "xtrain.shape, ytrain.shape"
   ]
  },
  {
   "cell_type": "code",
   "execution_count": 56,
   "id": "968aebd7",
   "metadata": {},
   "outputs": [],
   "source": [
    "#train data through logisticregression by choosing the solver kind to process data\n",
    "#and maximumm iteration, tolerance chosen as well.\n",
    "log_reg = LogisticRegression(solver='sag',tol = 0.001, max_iter=1000)\n",
    "log_reg.fit(xtrain, ytrain)\n",
    "ypred = log_reg.predict(xtest)#predict the target value"
   ]
  },
  {
   "cell_type": "code",
   "execution_count": 57,
   "id": "9c155a9a",
   "metadata": {},
   "outputs": [
    {
     "name": "stdout",
     "output_type": "stream",
     "text": [
      "[[ 961    0    7    3    0   10   24    1   11    2]\n",
      " [   0 1147    8    4    0    2    1    1    9    1]\n",
      " [  16   41  861   35   23    4   25   22   31    3]\n",
      " [   6   19   40  889    1   18    8   23   33   15]\n",
      " [   2   30    1    0  908    3   19    5   14   74]\n",
      " [  15   42    9   73   15  691   34    5   28   23]\n",
      " [  18   22   12    0   10   14  919    1    8    0]\n",
      " [   3   43    8    0   21    1    2  946    5   46]\n",
      " [  15   85   14   60    9   34    7    6  800   24]\n",
      " [  11   27    2   23   54    5    0   54   10  885]]\n"
     ]
    }
   ],
   "source": [
    "print(confusion_matrix(ytest, ypred)) "
   ]
  },
  {
   "cell_type": "code",
   "execution_count": 61,
   "id": "c3056a23",
   "metadata": {},
   "outputs": [
    {
     "name": "stdout",
     "output_type": "stream",
     "text": [
      "Accuracy of logistic regression classifier on test set:0.8578095238095238\n",
      "              precision    recall  f1-score   support\n",
      "\n",
      "           0       0.92      0.94      0.93      1019\n",
      "           1       0.79      0.98      0.87      1173\n",
      "           2       0.90      0.81      0.85      1061\n",
      "           3       0.82      0.85      0.83      1052\n",
      "           4       0.87      0.86      0.87      1056\n",
      "           5       0.88      0.74      0.80       935\n",
      "           6       0.88      0.92      0.90      1004\n",
      "           7       0.89      0.88      0.88      1075\n",
      "           8       0.84      0.76      0.80      1054\n",
      "           9       0.82      0.83      0.83      1071\n",
      "\n",
      "    accuracy                           0.86     10500\n",
      "   macro avg       0.86      0.86      0.86     10500\n",
      "weighted avg       0.86      0.86      0.86     10500\n",
      "\n"
     ]
    }
   ],
   "source": [
    "print(f'Accuracy of logistic regression classifier on test set:{log_reg.score(xtest,ytest)}') #Percentage\n",
    "print(classification_report(ytest, ypred))\n"
   ]
  },
  {
   "cell_type": "code",
   "execution_count": null,
   "id": "1b470e1d",
   "metadata": {},
   "outputs": [],
   "source": []
  }
 ],
 "metadata": {
  "kernelspec": {
   "display_name": "Python 3",
   "language": "python",
   "name": "python3"
  },
  "language_info": {
   "codemirror_mode": {
    "name": "ipython",
    "version": 3
   },
   "file_extension": ".py",
   "mimetype": "text/x-python",
   "name": "python",
   "nbconvert_exporter": "python",
   "pygments_lexer": "ipython3",
   "version": "3.8.8"
  }
 },
 "nbformat": 4,
 "nbformat_minor": 5
}
