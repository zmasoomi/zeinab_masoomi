{
 "cells": [
  {
   "cell_type": "markdown",
   "metadata": {},
   "source": [
    "# Data Engineering - Web Scraping\n",
    "\n",
    "## Exercise 1: To Scrape dot Com\n",
    "\n",
    "For this exercise, we will use a site that was actually _made for scraping_: [Web Scraping Sandbox](https://toscrape.com/) "
   ]
  },
  {
   "cell_type": "code",
   "execution_count": 1,
   "metadata": {},
   "outputs": [],
   "source": [
    "# 1.1 imports (regex, beautifulsoup, requests, and pandas)\n",
    "import regex \n",
    "from bs4 import BeautifulSoup as bs\n",
    "import requests\n",
    "import pandas as pd\n",
    "import numpy as np"
   ]
  },
  {
   "cell_type": "code",
   "execution_count": 3,
   "metadata": {},
   "outputs": [
    {
     "data": {
      "text/plain": [
       "<Response [200]>"
      ]
     },
     "execution_count": 3,
     "metadata": {},
     "output_type": "execute_result"
    }
   ],
   "source": [
    "# 1.2 scrape all urls from https://toscrape.com/\n",
    "r = requests.get(' https://toscrape.com/')\n",
    "r"
   ]
  },
  {
   "cell_type": "code",
   "execution_count": 4,
   "metadata": {},
   "outputs": [],
   "source": [
    "# 1.3 scrape all text ('p') from https://toscrape.com/\n",
    "scrp = requests.get('https://toscrape.com/')\n",
    "scrp = bs(scrp.content)\n",
    "#print(scrp.prettify())"
   ]
  },
  {
   "cell_type": "code",
   "execution_count": 60,
   "metadata": {},
   "outputs": [
    {
     "name": "stdout",
     "output_type": "stream",
     "text": [
      "header1: Web Scraping Sandbox \n",
      " header:2 Books\n"
     ]
    }
   ],
   "source": [
    "body = scrp.find('body')\n",
    "div = scrp.find('div')\n",
    "header1 = scrp.find('h1').get_text()\n",
    "header2 = scrp.find('h2').get_text()\n",
    "\n",
    "print('header1:', header1,'\\n', 'header:2', header2)\n",
    "#body\n",
    "#div"
   ]
  },
  {
   "cell_type": "code",
   "execution_count": 61,
   "metadata": {},
   "outputs": [
    {
     "name": "stdout",
     "output_type": "stream",
     "text": [
      "title: Scraping Sandbox\n"
     ]
    },
    {
     "data": {
      "text/plain": [
       "[\"A fictional bookstore that desperately wants to be scraped. It's a safe place for beginners learning web scraping and for developers validating their scraping technologies as well. Available at: books.toscrape.com\",\n",
       " 'A website that lists quotes from famous people. It has many endpoints showing the quotes in many different ways, each of them including new scraping challenges for you, as described below.']"
      ]
     },
     "execution_count": 61,
     "metadata": {},
     "output_type": "execute_result"
    }
   ],
   "source": [
    "title =  scrp.find('title')#title of webpage\n",
    "print('title:', title.string)\n",
    "para = scrp.find_all('p')#\n",
    "# print(para.prettify())\n",
    "# print(para.get_text())\n",
    "para = [x.get_text() for x in para] #get the text parts of para\n",
    "para\n"
   ]
  },
  {
   "cell_type": "markdown",
   "metadata": {},
   "source": [
    "## Exercise 2: The Office (wikipedia)\n",
    "\n",
    "For this exercise, scrape the side bar data (text box only), as a dictionary from [The Office Wikipedia Page](https://en.wikipedia.org/wiki/The_Office_(American_TV_series)).\n",
    "\n",
    "Convert your dictionary into a dataframe and print it as shown: \n",
    "\n",
    "![](../assets/the_office_DF.png)"
   ]
  },
  {
   "cell_type": "code",
   "execution_count": null,
   "metadata": {},
   "outputs": [],
   "source": []
  },
  {
   "cell_type": "code",
   "execution_count": 26,
   "metadata": {},
   "outputs": [
    {
     "data": {
      "text/plain": [
       "<title>The Office (American TV series) - Wikipedia</title>"
      ]
     },
     "execution_count": 26,
     "metadata": {},
     "output_type": "execute_result"
    }
   ],
   "source": [
    "# exercise 2\n",
    "wikipedia = requests.get('https://en.wikipedia.org/wiki/The_Office_(American_TV_series)')\n",
    "wikipedia = bs(wikipedia.content, 'html.parser')\n",
    "wikipedia.find_all('p')\n",
    "wikipedia.find('title')\n"
   ]
  },
  {
   "cell_type": "code",
   "execution_count": 27,
   "metadata": {},
   "outputs": [
    {
     "data": {
      "text/plain": [
       "'b\\'<!DOCTYPE html>\\\\n<html class=\"client-nojs\" lang=\"en\" dir=\"ltr\">\\\\n<head>\\\\n<meta charset=\"UTF-8\"/>\\\\n<title>The Office (American TV series) - Wikipedia</title>\\\\n<script>document.documentElement.classNa'"
      ]
     },
     "execution_count": 27,
     "metadata": {},
     "output_type": "execute_result"
    }
   ],
   "source": [
    "page = requests.get('https://en.wikipedia.org/wiki/The_Office_(American_TV_series)')\n",
    "str(page.content)[:200]#make connection for the page"
   ]
  },
  {
   "cell_type": "code",
   "execution_count": 28,
   "metadata": {},
   "outputs": [],
   "source": [
    "soup = bs(page.content, 'html.parser')#bs converts from html to object \n",
    "#soup.prettify()"
   ]
  },
  {
   "cell_type": "code",
   "execution_count": 58,
   "metadata": {},
   "outputs": [
    {
     "data": {
      "text/html": [
       "<div>\n",
       "<style scoped>\n",
       "    .dataframe tbody tr th:only-of-type {\n",
       "        vertical-align: middle;\n",
       "    }\n",
       "\n",
       "    .dataframe tbody tr th {\n",
       "        vertical-align: top;\n",
       "    }\n",
       "\n",
       "    .dataframe thead th {\n",
       "        text-align: right;\n",
       "    }\n",
       "</style>\n",
       "<table border=\"1\" class=\"dataframe\">\n",
       "  <thead>\n",
       "    <tr style=\"text-align: right;\">\n",
       "      <th></th>\n",
       "      <th></th>\n",
       "      <th>values</th>\n",
       "    </tr>\n",
       "  </thead>\n",
       "  <tbody>\n",
       "    <tr>\n",
       "      <th>0</th>\n",
       "      <td>title</td>\n",
       "      <td>The Office</td>\n",
       "    </tr>\n",
       "    <tr>\n",
       "      <th>1</th>\n",
       "      <td>Genre</td>\n",
       "      <td>[Mockumentary, Workplace comedy, Cringe comedy...</td>\n",
       "    </tr>\n",
       "    <tr>\n",
       "      <th>2</th>\n",
       "      <td>Based on</td>\n",
       "      <td>[The Officeby Ricky GervaisStephen Merchant]</td>\n",
       "    </tr>\n",
       "    <tr>\n",
       "      <th>3</th>\n",
       "      <td>Developed by</td>\n",
       "      <td>[Greg Daniels]</td>\n",
       "    </tr>\n",
       "    <tr>\n",
       "      <th>4</th>\n",
       "      <td>Starring</td>\n",
       "      <td>[Steve Carell, Rainn Wilson, John Krasinski, J...</td>\n",
       "    </tr>\n",
       "    <tr>\n",
       "      <th>5</th>\n",
       "      <td>Theme music composer</td>\n",
       "      <td>[Jay Ferguson]</td>\n",
       "    </tr>\n",
       "    <tr>\n",
       "      <th>6</th>\n",
       "      <td>Country of origin</td>\n",
       "      <td>[United States]</td>\n",
       "    </tr>\n",
       "    <tr>\n",
       "      <th>7</th>\n",
       "      <td>Original language</td>\n",
       "      <td>[English]</td>\n",
       "    </tr>\n",
       "    <tr>\n",
       "      <th>8</th>\n",
       "      <td>No. of seasons</td>\n",
       "      <td>[9]</td>\n",
       "    </tr>\n",
       "    <tr>\n",
       "      <th>9</th>\n",
       "      <td>No. of episodes</td>\n",
       "      <td>[201 (list of episodes)]</td>\n",
       "    </tr>\n",
       "    <tr>\n",
       "      <th>10</th>\n",
       "      <td>Executive producers</td>\n",
       "      <td>[Ben Silverman, Greg Daniels, Ricky Gervais, S...</td>\n",
       "    </tr>\n",
       "    <tr>\n",
       "      <th>11</th>\n",
       "      <td>Producers</td>\n",
       "      <td>[Kent Zbornak, Michael Schur, Ken Kwapis, Stev...</td>\n",
       "    </tr>\n",
       "    <tr>\n",
       "      <th>12</th>\n",
       "      <td>Cinematography</td>\n",
       "      <td>[Randall Einhorn, Matt Sohn, Sarah Levy, Peter...</td>\n",
       "    </tr>\n",
       "    <tr>\n",
       "      <th>13</th>\n",
       "      <td>Editors</td>\n",
       "      <td>[David Rogers, Dean Holland, Claire Scanlon]</td>\n",
       "    </tr>\n",
       "    <tr>\n",
       "      <th>14</th>\n",
       "      <td>Camera setup</td>\n",
       "      <td>[Single-camera]</td>\n",
       "    </tr>\n",
       "    <tr>\n",
       "      <th>15</th>\n",
       "      <td>Running time</td>\n",
       "      <td>[22–42 minutes]</td>\n",
       "    </tr>\n",
       "    <tr>\n",
       "      <th>16</th>\n",
       "      <td>Production companies</td>\n",
       "      <td>[Deedle-Dee Productions, 3 Arts Entertainment ...</td>\n",
       "    </tr>\n",
       "    <tr>\n",
       "      <th>17</th>\n",
       "      <td>Distributor</td>\n",
       "      <td>[NBCUniversal Television Distribution]</td>\n",
       "    </tr>\n",
       "    <tr>\n",
       "      <th>18</th>\n",
       "      <td>Original network</td>\n",
       "      <td>[NBC]</td>\n",
       "    </tr>\n",
       "    <tr>\n",
       "      <th>19</th>\n",
       "      <td>Picture format</td>\n",
       "      <td>[HDTV 1080i]</td>\n",
       "    </tr>\n",
       "    <tr>\n",
       "      <th>20</th>\n",
       "      <td>Audio format</td>\n",
       "      <td>[Dolby Digital]</td>\n",
       "    </tr>\n",
       "    <tr>\n",
       "      <th>21</th>\n",
       "      <td>Original release</td>\n",
       "      <td>[March 24, 2005 (2005-03-24) –May 16, 2013 (20...</td>\n",
       "    </tr>\n",
       "    <tr>\n",
       "      <th>22</th>\n",
       "      <td>Related shows</td>\n",
       "      <td>[The Office]</td>\n",
       "    </tr>\n",
       "  </tbody>\n",
       "</table>\n",
       "</div>"
      ],
      "text/plain": [
       "                                                                     values\n",
       "0                  title                                         The Office\n",
       "1                  Genre  [Mockumentary, Workplace comedy, Cringe comedy...\n",
       "2               Based on       [The Officeby Ricky GervaisStephen Merchant]\n",
       "3           Developed by                                     [Greg Daniels]\n",
       "4               Starring  [Steve Carell, Rainn Wilson, John Krasinski, J...\n",
       "5   Theme music composer                                     [Jay Ferguson]\n",
       "6      Country of origin                                    [United States]\n",
       "7      Original language                                          [English]\n",
       "8         No. of seasons                                                [9]\n",
       "9        No. of episodes                           [201 (list of episodes)]\n",
       "10   Executive producers  [Ben Silverman, Greg Daniels, Ricky Gervais, S...\n",
       "11             Producers  [Kent Zbornak, Michael Schur, Ken Kwapis, Stev...\n",
       "12        Cinematography  [Randall Einhorn, Matt Sohn, Sarah Levy, Peter...\n",
       "13               Editors       [David Rogers, Dean Holland, Claire Scanlon]\n",
       "14          Camera setup                                    [Single-camera]\n",
       "15          Running time                                    [22–42 minutes]\n",
       "16  Production companies  [Deedle-Dee Productions, 3 Arts Entertainment ...\n",
       "17           Distributor             [NBCUniversal Television Distribution]\n",
       "18      Original network                                              [NBC]\n",
       "19        Picture format                                       [HDTV 1080i]\n",
       "20          Audio format                                    [Dolby Digital]\n",
       "21      Original release  [March 24, 2005 (2005-03-24) –May 16, 2013 (20...\n",
       "22         Related shows                                       [The Office]"
      ]
     },
     "execution_count": 58,
     "metadata": {},
     "output_type": "execute_result"
    }
   ],
   "source": [
    "table = soup.find(class_='infobox vevent')#extract table from webpage\n",
    "t_heads = table.find_all('th')#extract the heads of table\n",
    "rows = [th.text for th in t_heads]#convert table heads to string as rows' name\n",
    "titles = ['The Office', 'Production', 'Release', 'Chronology']#separated the header as th were in rows\n",
    "\n",
    "for item in titles: #to removed some title from rows\n",
    "    rows.remove(item)\n",
    "    \n",
    "rows.insert(0, 'title') #insert the 'title at the first cell'\n",
    "\n",
    "t_data = table.find_all('tr') #finding table's body\n",
    "\n",
    "#for lop to extract data inside the body\n",
    "values = []\n",
    "for i, tr in enumerate(t_data):\n",
    "    \n",
    "    for td in tr.find_all(\"td\"):\n",
    "        data=td.text.strip().split(\"\\n\")\n",
    "        values.append(data)\n",
    "\n",
    "values = values[1:] #the first cell is empty\n",
    "values.insert(0, 'The Office') # inserting at the first cell\n",
    "\n",
    "df = pd.concat([pd.Series(rows), pd.Series(values, name='values')], axis=1, ignore_index=True)#making table by concatinating two series\n",
    "df.columns = [' ', 'values']#assign the name to column as given sample\n",
    "df\n",
    "#I could not removethe index from table\n"
   ]
  },
  {
   "cell_type": "code",
   "execution_count": null,
   "metadata": {},
   "outputs": [],
   "source": []
  }
 ],
 "metadata": {
  "kernelspec": {
   "display_name": "Python 3",
   "language": "python",
   "name": "python3"
  },
  "language_info": {
   "codemirror_mode": {
    "name": "ipython",
    "version": 3
   },
   "file_extension": ".py",
   "mimetype": "text/x-python",
   "name": "python",
   "nbconvert_exporter": "python",
   "pygments_lexer": "ipython3",
   "version": "3.8.8"
  }
 },
 "nbformat": 4,
 "nbformat_minor": 2
}
